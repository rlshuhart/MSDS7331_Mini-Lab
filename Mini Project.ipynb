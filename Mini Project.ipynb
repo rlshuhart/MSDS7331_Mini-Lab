{
 "cells": [
  {
   "cell_type": "markdown",
   "metadata": {
    "collapsed": true
   },
   "source": [
    "# MSDS 7331 - Mini-Project: SVM&LR Classification\n",
    "## Team: Dineen Parker, Dale Legband, Ryan Shuhart\n",
    "collaboration site: https://github.com/rlshuhart/MSDS7331_Mini-Lab"
   ]
  },
  {
   "cell_type": "markdown",
   "metadata": {},
   "source": [
    "### Log to capture iterations of findings and ideas for feature selection and analysis"
   ]
  },
  {
   "cell_type": "markdown",
   "metadata": {},
   "source": [
    "1. First attempt of logistic model revealed need to one-hot encode categorical variables\n",
    "2. After numerically encoding categorical variables, the logistic model more or less predicted all to not default.\n",
    "3. Changeing penalty on logistic model from l2 to l1 improved the model by about 3 percentage points.\n",
    "4. Changing class_weight='balanced' negatively impacted model\n",
    "5. Changing C to 100 had no impact\n",
    "6. Changing C to .0001 had small negative impact\n",
    "7. Reviewed logistic coefficients on scaled data and it appears the most recent pay status (PAY_0_Sept), the most recent two bill amounts ('BILL_AMT1_Sept', 'BILL_AMT2_Aug'), the most recent two payment amounts are the highest predictors ('PAY_AMT1_Sept', 'PAY_AMT2_Aug').\n",
    "8. Full SVM Model was stopped after not completing after 2 hours. SGD will be pursued instead."
   ]
  },
  {
   "cell_type": "markdown",
   "metadata": {},
   "source": [
    "## SVM and Logistic Regression Modeling  \n",
    "* [50 points] Create a logistic regression model and a support vector machine model for the classiﬁcation task involved with your dataset. Assess how well each model performs (use 80/20 training/testing split for your data). Adjust parameters of the models to make them more accurate. If your dataset size requires the use of stochastic gradient descent, then linear kernel only is ﬁne to use. \n",
    "* [10 points] Discuss the advantages of each model for each classiﬁcation task. Does one type of model offer superior performance over another in terms of prediction accuracy? In terms of training time or efﬁciency? Explain in detail.  \n",
    "* [30 points] Use the weights from logistic regression to interpret the importance of different features for each classiﬁcation task. Explain your interpretation in detail. Why do you think some variables are more important? \n",
    "* [10 points] Look at the chosen support vectors for the classiﬁcation task. Do these provide any insight into the data? Explain"
   ]
  },
  {
   "cell_type": "code",
   "execution_count": 1,
   "metadata": {
    "collapsed": true
   },
   "outputs": [],
   "source": [
    "### Modules Used ###\n",
    "\n",
    "# Data manipulation: pandas and numpy\n",
    "import pandas as pd\n",
    "import numpy as np\n",
    "\n",
    "# Visualization: seaborn and matplotlib\n",
    "import matplotlib.pyplot as plt\n",
    "import seaborn as sns\n",
    "\n",
    "import time"
   ]
  },
  {
   "cell_type": "markdown",
   "metadata": {},
   "source": [
    "# Read in preprocessed data from previous assignment"
   ]
  },
  {
   "cell_type": "code",
   "execution_count": 2,
   "metadata": {
    "collapsed": false
   },
   "outputs": [],
   "source": [
    "# Random but useful fact: if the first record in a csv file is \n",
    "# \"ID\" than Excel will interpret it as a SYLK file\n",
    "# https://annalear.ca/2010/06/10/why-excel-thinks-your-csv-is-a-sylk/\n",
    "\n",
    "#data_url = \"https://raw.githubusercontent.com/rlshuhart/MSDS7331_Project_1/master/cc_data/cc_data_processed.csv\"\n",
    "data_url = \"../MSDS7331_Project_1/cc_data/cc_data_processed.csv\"\n",
    "\n",
    "cc_data = pd.read_csv(data_url, index_col='ID')"
   ]
  },
  {
   "cell_type": "code",
   "execution_count": 3,
   "metadata": {
    "collapsed": false
   },
   "outputs": [
    {
     "name": "stdout",
     "output_type": "stream",
     "text": [
      "<class 'pandas.core.frame.DataFrame'>\n",
      "Int64Index: 30000 entries, 1 to 30000\n",
      "Data columns (total 27 columns):\n",
      "LIMIT_BAL                     30000 non-null int64\n",
      "SEX                           30000 non-null object\n",
      "EDUCATION                     30000 non-null object\n",
      "MARRIAGE                      30000 non-null object\n",
      "AGE                           30000 non-null int64\n",
      "PAY_0_Sept                    30000 non-null int64\n",
      "PAY_2_Aug                     30000 non-null int64\n",
      "PAY_3_July                    30000 non-null int64\n",
      "PAY_4_June                    30000 non-null int64\n",
      "PAY_5_May                     30000 non-null int64\n",
      "PAY_6_April                   30000 non-null int64\n",
      "BILL_AMT1_Sept                30000 non-null int64\n",
      "BILL_AMT2_Aug                 30000 non-null int64\n",
      "BILL_AMT3_July                30000 non-null int64\n",
      "BILL_AMT4_June                30000 non-null int64\n",
      "BILL_AMT5_May                 30000 non-null int64\n",
      "BILL_AMT6_April               30000 non-null int64\n",
      "PAY_AMT1_Sept                 30000 non-null int64\n",
      "PAY_AMT2_Aug                  30000 non-null int64\n",
      "PAY_AMT3_July                 30000 non-null int64\n",
      "PAY_AMT4_June                 30000 non-null int64\n",
      "PAY_AMT5_May                  30000 non-null int64\n",
      "PAY_AMT6_April                30000 non-null int64\n",
      "default payment next month    30000 non-null int64\n",
      "AGE_range                     30000 non-null object\n",
      "LIMIT_BAL_range               30000 non-null object\n",
      "Default_Yes_No                30000 non-null object\n",
      "dtypes: int64(21), object(6)\n",
      "memory usage: 6.4+ MB\n",
      "None\n",
      "\n",
      "Index(['LIMIT_BAL', 'SEX', 'EDUCATION', 'MARRIAGE', 'AGE', 'PAY_0_Sept',\n",
      "       'PAY_2_Aug', 'PAY_3_July', 'PAY_4_June', 'PAY_5_May', 'PAY_6_April',\n",
      "       'BILL_AMT1_Sept', 'BILL_AMT2_Aug', 'BILL_AMT3_July', 'BILL_AMT4_June',\n",
      "       'BILL_AMT5_May', 'BILL_AMT6_April', 'PAY_AMT1_Sept', 'PAY_AMT2_Aug',\n",
      "       'PAY_AMT3_July', 'PAY_AMT4_June', 'PAY_AMT5_May', 'PAY_AMT6_April',\n",
      "       'default payment next month', 'AGE_range', 'LIMIT_BAL_range',\n",
      "       'Default_Yes_No'],\n",
      "      dtype='object')\n"
     ]
    }
   ],
   "source": [
    "print(cc_data.info())\n",
    "print()\n",
    "print(cc_data.columns)"
   ]
  },
  {
   "cell_type": "markdown",
   "metadata": {},
   "source": [
    "# Additional Preprocessing of data"
   ]
  },
  {
   "cell_type": "markdown",
   "metadata": {},
   "source": [
    "### One hot encoding of categorical variables"
   ]
  },
  {
   "cell_type": "code",
   "execution_count": 4,
   "metadata": {
    "collapsed": false
   },
   "outputs": [
    {
     "name": "stdout",
     "output_type": "stream",
     "text": [
      "<class 'pandas.core.frame.DataFrame'>\n",
      "Int64Index: 30000 entries, 1 to 30000\n",
      "Data columns (total 26 columns):\n",
      "EDUCATION                     30000 non-null int64\n",
      "PAY_0_Sept                    30000 non-null int64\n",
      "PAY_2_Aug                     30000 non-null int64\n",
      "PAY_3_July                    30000 non-null int64\n",
      "PAY_4_June                    30000 non-null int64\n",
      "PAY_5_May                     30000 non-null int64\n",
      "PAY_6_April                   30000 non-null int64\n",
      "BILL_AMT1_Sept                30000 non-null int64\n",
      "BILL_AMT2_Aug                 30000 non-null int64\n",
      "BILL_AMT3_July                30000 non-null int64\n",
      "BILL_AMT4_June                30000 non-null int64\n",
      "BILL_AMT5_May                 30000 non-null int64\n",
      "BILL_AMT6_April               30000 non-null int64\n",
      "PAY_AMT1_Sept                 30000 non-null int64\n",
      "PAY_AMT2_Aug                  30000 non-null int64\n",
      "PAY_AMT3_July                 30000 non-null int64\n",
      "PAY_AMT4_June                 30000 non-null int64\n",
      "PAY_AMT5_May                  30000 non-null int64\n",
      "PAY_AMT6_April                30000 non-null int64\n",
      "default payment next month    30000 non-null int64\n",
      "AGE_range                     30000 non-null int64\n",
      "LIMIT_BAL_range               30000 non-null int64\n",
      "isMale                        30000 non-null bool\n",
      "Marriage_Married              30000 non-null float64\n",
      "Marriage_Others               30000 non-null float64\n",
      "Marriage_Single               30000 non-null float64\n",
      "dtypes: bool(1), float64(3), int64(22)\n",
      "memory usage: 6.0 MB\n",
      "None\n"
     ]
    }
   ],
   "source": [
    "# makeing copy of data to retain original input for now. \n",
    "# Have to add .copy() or any change will reflect in the original too.\n",
    "cc_data_processed = cc_data.copy()\n",
    "\n",
    "cats = ['SEX', 'EDUCATION', 'MARRIAGE','AGE_range', 'LIMIT_BAL_range']\n",
    "\n",
    "# SEX convert to isMale\n",
    "cc_data_processed['isMale'] = cc_data['SEX']=='Male'\n",
    "\n",
    "# Two options for Education: \n",
    "# If treating ordinal then keep single columnn but label in numerical order\n",
    "# if nominal then create dummy variables.\n",
    "# Trying ordinal first with 'Others' as the highest. Previous exploration\n",
    "# showed this group have better rates of default which continued the trend\n",
    "# of more education means less likely to default:\n",
    "cc_data_processed['EDUCATION'] = cc_data['EDUCATION'].apply({'High School':0,\n",
    "                                                             'University':1,\n",
    "                                                             'Graduate School':2, \n",
    "                                                             'Others':3}.get)\n",
    "\n",
    "# Marriage is nominal category therefore converting to dummies\n",
    "\n",
    "cc_data_processed = pd.concat((cc_data_processed, \n",
    "                               pd.get_dummies(cc_data['MARRIAGE'], prefix='Marriage')), \n",
    "                               axis=1)\n",
    "\n",
    "# Age range is ordinal category:\n",
    "cc_data_processed['AGE_range'] = cc_data['AGE_range'].apply({'21-30':0,\n",
    "                                                             '31-40':1,\n",
    "                                                             '41-50':2, \n",
    "                                                             '51-60':3,\n",
    "                                                             '61-70':4,\n",
    "                                                             '71-80+':5}.get)\n",
    "# Limit_Bal_Range is ordingal\n",
    "cc_data_processed['LIMIT_BAL_range'] = cc_data['LIMIT_BAL_range'].apply({'0-250k':0,\n",
    "                                                                         '>250k-500k':1,\n",
    "                                                                         '>500k-750k':2,\n",
    "                                                                         '>750k':3}.get)\n",
    "\n",
    "# Drop unused features:\n",
    "# 'Default_Yes_No' - Used for visualization labeling only and same as 'default payment next month'\n",
    "# 'AGE' - Using Age_range instead, may bring back\n",
    "cc_data_processed.drop(['Default_Yes_No','AGE', 'SEX','MARRIAGE', 'LIMIT_BAL'], axis=1, inplace=True)\n",
    "\n",
    "print(cc_data_processed.info())"
   ]
  },
  {
   "cell_type": "markdown",
   "metadata": {},
   "source": [
    "#### Convert data to numpy arrays for training"
   ]
  },
  {
   "cell_type": "code",
   "execution_count": 5,
   "metadata": {
    "collapsed": false
   },
   "outputs": [],
   "source": [
    "cc_data_target = cc_data_processed['default payment next month'].values\n",
    "cc_data_Xs = cc_data_processed.drop('default payment next month', axis='columns').values\n",
    "\n",
    "# Column names for labeling\n",
    "cc_data_Xs_names = cc_data_processed.drop('default payment next month', axis='columns').columns"
   ]
  },
  {
   "cell_type": "markdown",
   "metadata": {},
   "source": [
    "# Prediction Models"
   ]
  },
  {
   "cell_type": "code",
   "execution_count": 6,
   "metadata": {
    "collapsed": true
   },
   "outputs": [],
   "source": [
    "# Scikit Modules\n",
    "from sklearn.cross_validation import cross_val_score, cross_val_predict\n",
    "from sklearn import metrics as mt\n",
    "from sklearn.linear_model import LogisticRegression\n",
    "from sklearn.linear_model import SGDClassifier\n",
    "from sklearn.svm import SVC\n",
    "from sklearn.cross_validation import ShuffleSplit\n",
    "from sklearn.preprocessing import StandardScaler\n",
    "from sklearn import grid_search"
   ]
  },
  {
   "cell_type": "code",
   "execution_count": 7,
   "metadata": {
    "collapsed": false
   },
   "outputs": [],
   "source": [
    "# Create Cross Validation object with an 80/20 split\n",
    "num_cv_iterations = 10\n",
    "num_instances = len(cc_data_target)\n",
    "cv_object = ShuffleSplit(n=num_instances,\n",
    "                         n_iter=num_cv_iterations,\n",
    "                         test_size  = 0.2)"
   ]
  },
  {
   "cell_type": "code",
   "execution_count": 8,
   "metadata": {
    "collapsed": false
   },
   "outputs": [
    {
     "name": "stdout",
     "output_type": "stream",
     "text": [
      "The sample default rate is: 77.9%\n",
      "The models should have an accuracy better than predicting all non-defaults of 77.9%\n"
     ]
    }
   ],
   "source": [
    "# Sample Default Rate\n",
    "sample_d_rt = (1 - cc_data_target.sum() / len(cc_data_target))*100\n",
    "print(\"The sample default rate is: %.1f%%\"  % sample_d_rt)\n",
    "\n",
    "# The sample default rate is the same as predicting all zeros (or no defaults)\n",
    "all_zeros = np.zeros(len(cc_data_target))\n",
    "all_zero_score = mt.accuracy_score(cc_data_target,all_zeros)*100\n",
    "print(\"The models should have an accuracy better than predicting all non-defaults of %.1f%%\"  % all_zero_score)"
   ]
  },
  {
   "cell_type": "markdown",
   "metadata": {},
   "source": [
    "## Logistic Regression"
   ]
  },
  {
   "cell_type": "markdown",
   "metadata": {},
   "source": [
    "### Review of different parameters"
   ]
  },
  {
   "cell_type": "code",
   "execution_count": 9,
   "metadata": {
    "collapsed": true
   },
   "outputs": [],
   "source": [
    "def grid_searcher(model, params, cv_object):\n",
    "    clf = grid_search.GridSearchCV(model, params, cv=cv_object,n_jobs=-1)\n",
    "    clf.fit(cc_data_Xs,cc_data_target)\n",
    "    return clf\n",
    "\n",
    "# set parameters for grid search to test all the different combinations\n",
    "c_values = [.1,1,10,100,1000]#np.arange(.01, .1, 0.01)\n",
    "model = LogisticRegression()\n",
    "params = {'penalty':('l1','l2'), 'C':c_values, 'class_weight':(None, 'balanced')}\n",
    "\n",
    "#run search and return results\n",
    "logit_clf = grid_searcher(model, params, cv_object)"
   ]
  },
  {
   "cell_type": "code",
   "execution_count": 10,
   "metadata": {
    "collapsed": false
   },
   "outputs": [
    {
     "name": "stdout",
     "output_type": "stream",
     "text": [
      "The best estimator:  LogisticRegression(C=1, class_weight=None, dual=False, fit_intercept=True,\n",
      "          intercept_scaling=1, max_iter=100, multi_class='ovr', n_jobs=1,\n",
      "          penalty='l1', random_state=None, solver='liblinear', tol=0.0001,\n",
      "          verbose=0, warm_start=False)\n",
      "The best accuracy score is:  0.8124\n",
      "The best parameters of model is:  {'C': 1, 'penalty': 'l1', 'class_weight': None}\n"
     ]
    }
   ],
   "source": [
    "#print(clf.grid_scores_ )\n",
    "print(\"The best estimator: \",logit_clf.best_estimator_)\n",
    "print(\"The best accuracy score is: \", logit_clf.best_score_)\n",
    "print(\"The best parameters of model is: \",logit_clf.best_params_)"
   ]
  },
  {
   "cell_type": "markdown",
   "metadata": {},
   "source": [
    "# The grid search reveals \n",
    "# [Insert something here]\n",
    "format smaller when complete"
   ]
  },
  {
   "cell_type": "markdown",
   "metadata": {},
   "source": [
    "### Find coefficients "
   ]
  },
  {
   "cell_type": "code",
   "execution_count": 40,
   "metadata": {
    "collapsed": true
   },
   "outputs": [],
   "source": [
    "def full_classify(y, X, cv_object, model, scale=False):\n",
    "    start = time.time()\n",
    "    # Create empty list to append coefficient results\n",
    "    coef_list = []\n",
    "    acc_list = []\n",
    "    for iter_num, (train_indices, test_indices) in enumerate(cv_object):\n",
    "        if scale == True:\n",
    "            scl_obj = StandardScaler()\n",
    "            scl_obj.fit(X[train_indices])\n",
    "            X_train_scaled = scl_obj.transform(X[train_indices])\n",
    "            X_test_scaled = scl_obj.transform(X[test_indices])\n",
    "            model.fit(X_train_scaled,y[train_indices])\n",
    "            y_hat = model.predict(X_test_scaled)\n",
    "            print(\"SCALED DATA\")\n",
    "        elif scale == False:\n",
    "            model.fit(X[train_indices],y[train_indices])  # train object\n",
    "            y_hat = model.predict(X[test_indices]) # get test set precitions\n",
    "        \n",
    "        # append coefficients from model to list\n",
    "        coef_list.append(model.coef_)\n",
    "        acc_list.append(mt.accuracy_score(y[test_indices],y_hat))\n",
    "\n",
    "        # print the accuracy and confusion matrix \n",
    "        print(\"\\n====Iteration\",iter_num,\" ====\")\n",
    "        print(\"accuracy\", mt.accuracy_score(y[test_indices],y_hat))\n",
    "        print(\"confusion matrix\\n\",mt.confusion_matrix(y[test_indices],y_hat))\n",
    "        print(\"Classification Report:\\n\",mt.classification_report(y[test_indices],y_hat))\n",
    "        print(\"ROC Score \\n\",mt.roc_auc_score(y[test_indices],y_hat))\n",
    "        \n",
    "    print('done. It took', time.time()-start, 'seconds.')    \n",
    "    return coef_list, acc_list"
   ]
  },
  {
   "cell_type": "code",
   "execution_count": 41,
   "metadata": {
    "collapsed": false,
    "scrolled": true
   },
   "outputs": [
    {
     "name": "stderr",
     "output_type": "stream",
     "text": [
      "C:\\Users\\ryan.shuhart\\AppData\\Local\\Continuum\\Anaconda3\\lib\\site-packages\\sklearn\\utils\\validation.py:420: DataConversionWarning: Data with input dtype object was converted to float64 by StandardScaler.\n",
      "  warnings.warn(msg, DataConversionWarning)\n",
      "C:\\Users\\ryan.shuhart\\AppData\\Local\\Continuum\\Anaconda3\\lib\\site-packages\\sklearn\\utils\\validation.py:420: DataConversionWarning: Data with input dtype object was converted to float64 by StandardScaler.\n",
      "  warnings.warn(msg, DataConversionWarning)\n",
      "C:\\Users\\ryan.shuhart\\AppData\\Local\\Continuum\\Anaconda3\\lib\\site-packages\\sklearn\\utils\\validation.py:420: DataConversionWarning: Data with input dtype object was converted to float64 by StandardScaler.\n",
      "  warnings.warn(msg, DataConversionWarning)\n"
     ]
    },
    {
     "name": "stdout",
     "output_type": "stream",
     "text": [
      "SCALED DATA\n",
      "\n",
      "====Iteration 0  ====\n",
      "accuracy 0.8075\n",
      "confusion matrix\n",
      " [[4535  128]\n",
      " [1027  310]]\n",
      "Classification Report:\n",
      "              precision    recall  f1-score   support\n",
      "\n",
      "          0       0.82      0.97      0.89      4663\n",
      "          1       0.71      0.23      0.35      1337\n",
      "\n",
      "avg / total       0.79      0.81      0.77      6000\n",
      "\n",
      "ROC Score \n",
      " 0.602206119532\n"
     ]
    },
    {
     "name": "stderr",
     "output_type": "stream",
     "text": [
      "C:\\Users\\ryan.shuhart\\AppData\\Local\\Continuum\\Anaconda3\\lib\\site-packages\\sklearn\\utils\\validation.py:420: DataConversionWarning: Data with input dtype object was converted to float64 by StandardScaler.\n",
      "  warnings.warn(msg, DataConversionWarning)\n",
      "C:\\Users\\ryan.shuhart\\AppData\\Local\\Continuum\\Anaconda3\\lib\\site-packages\\sklearn\\utils\\validation.py:420: DataConversionWarning: Data with input dtype object was converted to float64 by StandardScaler.\n",
      "  warnings.warn(msg, DataConversionWarning)\n",
      "C:\\Users\\ryan.shuhart\\AppData\\Local\\Continuum\\Anaconda3\\lib\\site-packages\\sklearn\\utils\\validation.py:420: DataConversionWarning: Data with input dtype object was converted to float64 by StandardScaler.\n",
      "  warnings.warn(msg, DataConversionWarning)\n"
     ]
    },
    {
     "name": "stdout",
     "output_type": "stream",
     "text": [
      "SCALED DATA\n",
      "\n",
      "====Iteration 1  ====\n",
      "accuracy 0.804166666667\n",
      "confusion matrix\n",
      " [[4503  129]\n",
      " [1046  322]]\n",
      "Classification Report:\n",
      "              precision    recall  f1-score   support\n",
      "\n",
      "          0       0.81      0.97      0.88      4632\n",
      "          1       0.71      0.24      0.35      1368\n",
      "\n",
      "avg / total       0.79      0.80      0.76      6000\n",
      "\n",
      "ROC Score \n",
      " 0.603765188013\n"
     ]
    },
    {
     "name": "stderr",
     "output_type": "stream",
     "text": [
      "C:\\Users\\ryan.shuhart\\AppData\\Local\\Continuum\\Anaconda3\\lib\\site-packages\\sklearn\\utils\\validation.py:420: DataConversionWarning: Data with input dtype object was converted to float64 by StandardScaler.\n",
      "  warnings.warn(msg, DataConversionWarning)\n",
      "C:\\Users\\ryan.shuhart\\AppData\\Local\\Continuum\\Anaconda3\\lib\\site-packages\\sklearn\\utils\\validation.py:420: DataConversionWarning: Data with input dtype object was converted to float64 by StandardScaler.\n",
      "  warnings.warn(msg, DataConversionWarning)\n",
      "C:\\Users\\ryan.shuhart\\AppData\\Local\\Continuum\\Anaconda3\\lib\\site-packages\\sklearn\\utils\\validation.py:420: DataConversionWarning: Data with input dtype object was converted to float64 by StandardScaler.\n",
      "  warnings.warn(msg, DataConversionWarning)\n"
     ]
    },
    {
     "name": "stdout",
     "output_type": "stream",
     "text": [
      "SCALED DATA\n",
      "\n",
      "====Iteration 2  ====\n",
      "accuracy 0.8035\n",
      "confusion matrix\n",
      " [[4483  131]\n",
      " [1048  338]]\n",
      "Classification Report:\n",
      "              precision    recall  f1-score   support\n",
      "\n",
      "          0       0.81      0.97      0.88      4614\n",
      "          1       0.72      0.24      0.36      1386\n",
      "\n",
      "avg / total       0.79      0.80      0.76      6000\n",
      "\n",
      "ROC Score \n",
      " 0.607737696489\n"
     ]
    },
    {
     "name": "stderr",
     "output_type": "stream",
     "text": [
      "C:\\Users\\ryan.shuhart\\AppData\\Local\\Continuum\\Anaconda3\\lib\\site-packages\\sklearn\\utils\\validation.py:420: DataConversionWarning: Data with input dtype object was converted to float64 by StandardScaler.\n",
      "  warnings.warn(msg, DataConversionWarning)\n",
      "C:\\Users\\ryan.shuhart\\AppData\\Local\\Continuum\\Anaconda3\\lib\\site-packages\\sklearn\\utils\\validation.py:420: DataConversionWarning: Data with input dtype object was converted to float64 by StandardScaler.\n",
      "  warnings.warn(msg, DataConversionWarning)\n",
      "C:\\Users\\ryan.shuhart\\AppData\\Local\\Continuum\\Anaconda3\\lib\\site-packages\\sklearn\\utils\\validation.py:420: DataConversionWarning: Data with input dtype object was converted to float64 by StandardScaler.\n",
      "  warnings.warn(msg, DataConversionWarning)\n"
     ]
    },
    {
     "name": "stdout",
     "output_type": "stream",
     "text": [
      "SCALED DATA\n",
      "\n",
      "====Iteration 3  ====\n",
      "accuracy 0.809333333333\n",
      "confusion matrix\n",
      " [[4545  137]\n",
      " [1007  311]]\n",
      "Classification Report:\n",
      "              precision    recall  f1-score   support\n",
      "\n",
      "          0       0.82      0.97      0.89      4682\n",
      "          1       0.69      0.24      0.35      1318\n",
      "\n",
      "avg / total       0.79      0.81      0.77      6000\n",
      "\n",
      "ROC Score \n",
      " 0.603351290805\n"
     ]
    },
    {
     "name": "stderr",
     "output_type": "stream",
     "text": [
      "C:\\Users\\ryan.shuhart\\AppData\\Local\\Continuum\\Anaconda3\\lib\\site-packages\\sklearn\\utils\\validation.py:420: DataConversionWarning: Data with input dtype object was converted to float64 by StandardScaler.\n",
      "  warnings.warn(msg, DataConversionWarning)\n",
      "C:\\Users\\ryan.shuhart\\AppData\\Local\\Continuum\\Anaconda3\\lib\\site-packages\\sklearn\\utils\\validation.py:420: DataConversionWarning: Data with input dtype object was converted to float64 by StandardScaler.\n",
      "  warnings.warn(msg, DataConversionWarning)\n",
      "C:\\Users\\ryan.shuhart\\AppData\\Local\\Continuum\\Anaconda3\\lib\\site-packages\\sklearn\\utils\\validation.py:420: DataConversionWarning: Data with input dtype object was converted to float64 by StandardScaler.\n",
      "  warnings.warn(msg, DataConversionWarning)\n"
     ]
    },
    {
     "name": "stdout",
     "output_type": "stream",
     "text": [
      "SCALED DATA\n",
      "\n",
      "====Iteration 4  ====\n",
      "accuracy 0.8065\n",
      "confusion matrix\n",
      " [[4513  129]\n",
      " [1032  326]]\n",
      "Classification Report:\n",
      "              precision    recall  f1-score   support\n",
      "\n",
      "          0       0.81      0.97      0.89      4642\n",
      "          1       0.72      0.24      0.36      1358\n",
      "\n",
      "avg / total       0.79      0.81      0.77      6000\n",
      "\n",
      "ROC Score \n",
      " 0.606134582181\n"
     ]
    },
    {
     "name": "stderr",
     "output_type": "stream",
     "text": [
      "C:\\Users\\ryan.shuhart\\AppData\\Local\\Continuum\\Anaconda3\\lib\\site-packages\\sklearn\\utils\\validation.py:420: DataConversionWarning: Data with input dtype object was converted to float64 by StandardScaler.\n",
      "  warnings.warn(msg, DataConversionWarning)\n",
      "C:\\Users\\ryan.shuhart\\AppData\\Local\\Continuum\\Anaconda3\\lib\\site-packages\\sklearn\\utils\\validation.py:420: DataConversionWarning: Data with input dtype object was converted to float64 by StandardScaler.\n",
      "  warnings.warn(msg, DataConversionWarning)\n",
      "C:\\Users\\ryan.shuhart\\AppData\\Local\\Continuum\\Anaconda3\\lib\\site-packages\\sklearn\\utils\\validation.py:420: DataConversionWarning: Data with input dtype object was converted to float64 by StandardScaler.\n",
      "  warnings.warn(msg, DataConversionWarning)\n"
     ]
    },
    {
     "name": "stdout",
     "output_type": "stream",
     "text": [
      "SCALED DATA\n",
      "\n",
      "====Iteration 5  ====\n",
      "accuracy 0.8035\n",
      "confusion matrix\n",
      " [[4497  143]\n",
      " [1036  324]]\n",
      "Classification Report:\n",
      "              precision    recall  f1-score   support\n",
      "\n",
      "          0       0.81      0.97      0.88      4640\n",
      "          1       0.69      0.24      0.35      1360\n",
      "\n",
      "avg / total       0.79      0.80      0.76      6000\n",
      "\n",
      "ROC Score \n",
      " 0.6037081643\n"
     ]
    },
    {
     "name": "stderr",
     "output_type": "stream",
     "text": [
      "C:\\Users\\ryan.shuhart\\AppData\\Local\\Continuum\\Anaconda3\\lib\\site-packages\\sklearn\\utils\\validation.py:420: DataConversionWarning: Data with input dtype object was converted to float64 by StandardScaler.\n",
      "  warnings.warn(msg, DataConversionWarning)\n",
      "C:\\Users\\ryan.shuhart\\AppData\\Local\\Continuum\\Anaconda3\\lib\\site-packages\\sklearn\\utils\\validation.py:420: DataConversionWarning: Data with input dtype object was converted to float64 by StandardScaler.\n",
      "  warnings.warn(msg, DataConversionWarning)\n",
      "C:\\Users\\ryan.shuhart\\AppData\\Local\\Continuum\\Anaconda3\\lib\\site-packages\\sklearn\\utils\\validation.py:420: DataConversionWarning: Data with input dtype object was converted to float64 by StandardScaler.\n",
      "  warnings.warn(msg, DataConversionWarning)\n"
     ]
    },
    {
     "name": "stdout",
     "output_type": "stream",
     "text": [
      "SCALED DATA\n",
      "\n",
      "====Iteration 6  ====\n",
      "accuracy 0.807\n",
      "confusion matrix\n",
      " [[4525  127]\n",
      " [1031  317]]\n",
      "Classification Report:\n",
      "              precision    recall  f1-score   support\n",
      "\n",
      "          0       0.81      0.97      0.89      4652\n",
      "          1       0.71      0.24      0.35      1348\n",
      "\n",
      "avg / total       0.79      0.81      0.77      6000\n",
      "\n",
      "ROC Score \n",
      " 0.603931559382\n"
     ]
    },
    {
     "name": "stderr",
     "output_type": "stream",
     "text": [
      "C:\\Users\\ryan.shuhart\\AppData\\Local\\Continuum\\Anaconda3\\lib\\site-packages\\sklearn\\utils\\validation.py:420: DataConversionWarning: Data with input dtype object was converted to float64 by StandardScaler.\n",
      "  warnings.warn(msg, DataConversionWarning)\n",
      "C:\\Users\\ryan.shuhart\\AppData\\Local\\Continuum\\Anaconda3\\lib\\site-packages\\sklearn\\utils\\validation.py:420: DataConversionWarning: Data with input dtype object was converted to float64 by StandardScaler.\n",
      "  warnings.warn(msg, DataConversionWarning)\n",
      "C:\\Users\\ryan.shuhart\\AppData\\Local\\Continuum\\Anaconda3\\lib\\site-packages\\sklearn\\utils\\validation.py:420: DataConversionWarning: Data with input dtype object was converted to float64 by StandardScaler.\n",
      "  warnings.warn(msg, DataConversionWarning)\n"
     ]
    },
    {
     "name": "stdout",
     "output_type": "stream",
     "text": [
      "SCALED DATA\n",
      "\n",
      "====Iteration 7  ====\n",
      "accuracy 0.807\n",
      "confusion matrix\n",
      " [[4548  127]\n",
      " [1031  294]]\n",
      "Classification Report:\n",
      "              precision    recall  f1-score   support\n",
      "\n",
      "          0       0.82      0.97      0.89      4675\n",
      "          1       0.70      0.22      0.34      1325\n",
      "\n",
      "avg / total       0.79      0.81      0.77      6000\n",
      "\n",
      "ROC Score \n",
      " 0.597360508526\n"
     ]
    },
    {
     "name": "stderr",
     "output_type": "stream",
     "text": [
      "C:\\Users\\ryan.shuhart\\AppData\\Local\\Continuum\\Anaconda3\\lib\\site-packages\\sklearn\\utils\\validation.py:420: DataConversionWarning: Data with input dtype object was converted to float64 by StandardScaler.\n",
      "  warnings.warn(msg, DataConversionWarning)\n",
      "C:\\Users\\ryan.shuhart\\AppData\\Local\\Continuum\\Anaconda3\\lib\\site-packages\\sklearn\\utils\\validation.py:420: DataConversionWarning: Data with input dtype object was converted to float64 by StandardScaler.\n",
      "  warnings.warn(msg, DataConversionWarning)\n",
      "C:\\Users\\ryan.shuhart\\AppData\\Local\\Continuum\\Anaconda3\\lib\\site-packages\\sklearn\\utils\\validation.py:420: DataConversionWarning: Data with input dtype object was converted to float64 by StandardScaler.\n",
      "  warnings.warn(msg, DataConversionWarning)\n"
     ]
    },
    {
     "name": "stdout",
     "output_type": "stream",
     "text": [
      "SCALED DATA\n",
      "\n",
      "====Iteration 8  ====\n",
      "accuracy 0.815833333333\n",
      "confusion matrix\n",
      " [[4571  120]\n",
      " [ 985  324]]\n",
      "Classification Report:\n",
      "              precision    recall  f1-score   support\n",
      "\n",
      "          0       0.82      0.97      0.89      4691\n",
      "          1       0.73      0.25      0.37      1309\n",
      "\n",
      "avg / total       0.80      0.82      0.78      6000\n",
      "\n",
      "ROC Score \n",
      " 0.610968144549\n"
     ]
    },
    {
     "name": "stderr",
     "output_type": "stream",
     "text": [
      "C:\\Users\\ryan.shuhart\\AppData\\Local\\Continuum\\Anaconda3\\lib\\site-packages\\sklearn\\utils\\validation.py:420: DataConversionWarning: Data with input dtype object was converted to float64 by StandardScaler.\n",
      "  warnings.warn(msg, DataConversionWarning)\n",
      "C:\\Users\\ryan.shuhart\\AppData\\Local\\Continuum\\Anaconda3\\lib\\site-packages\\sklearn\\utils\\validation.py:420: DataConversionWarning: Data with input dtype object was converted to float64 by StandardScaler.\n",
      "  warnings.warn(msg, DataConversionWarning)\n",
      "C:\\Users\\ryan.shuhart\\AppData\\Local\\Continuum\\Anaconda3\\lib\\site-packages\\sklearn\\utils\\validation.py:420: DataConversionWarning: Data with input dtype object was converted to float64 by StandardScaler.\n",
      "  warnings.warn(msg, DataConversionWarning)\n"
     ]
    },
    {
     "name": "stdout",
     "output_type": "stream",
     "text": [
      "SCALED DATA\n",
      "\n",
      "====Iteration 9  ====\n",
      "accuracy 0.815166666667\n",
      "confusion matrix\n",
      " [[4582  102]\n",
      " [1007  309]]\n",
      "Classification Report:\n",
      "              precision    recall  f1-score   support\n",
      "\n",
      "          0       0.82      0.98      0.89      4684\n",
      "          1       0.75      0.23      0.36      1316\n",
      "\n",
      "avg / total       0.80      0.82      0.77      6000\n",
      "\n",
      "ROC Score \n",
      " 0.606513086002\n",
      "done. It took 22.59029221534729 seconds.\n"
     ]
    }
   ],
   "source": [
    "### Run best model from grid search to get the coefficients from scaled data for interpretation\n",
    "logit_coef_scaled, logit_acc_scaled = full_classify(cc_data_target, cc_data_Xs, cv_object, logit_clf.best_estimator_, scale=True)"
   ]
  },
  {
   "cell_type": "code",
   "execution_count": 13,
   "metadata": {
    "collapsed": false
   },
   "outputs": [
    {
     "data": {
      "text/plain": [
       "array([[-0.00262548,  0.65495749,  0.10741996,  0.08916735,  0.02751119,\n",
       "         0.03877894,  0.01480028, -0.4339711 ,  0.16069846,  0.11738403,\n",
       "        -0.038413  ,  0.06694031,  0.01048181, -0.22317765, -0.238499  ,\n",
       "        -0.06023976, -0.06961026, -0.05758455, -0.04320732,  0.04422291,\n",
       "        -0.03237306,  0.05880406,  0.04170899, -0.01148768, -0.04138753]])"
      ]
     },
     "execution_count": 13,
     "metadata": {},
     "output_type": "execute_result"
    }
   ],
   "source": [
    "# Below averages the coeficients of the cross validations\n",
    "logit_coef_scaled_avg = np.array(np.mean( logit_coef_scaled, axis=0 ))\n",
    "logit_coef_scaled_avg"
   ]
  },
  {
   "cell_type": "code",
   "execution_count": 45,
   "metadata": {
    "collapsed": false
   },
   "outputs": [
    {
     "data": {
      "text/plain": [
       "0.80794999999999995"
      ]
     },
     "execution_count": 45,
     "metadata": {},
     "output_type": "execute_result"
    }
   ],
   "source": [
    "np.mean(logit_acc_scaled)"
   ]
  },
  {
   "cell_type": "markdown",
   "metadata": {},
   "source": [
    "### Intrepretting weights of Logistic Model using Scaled Data"
   ]
  },
  {
   "cell_type": "code",
   "execution_count": 48,
   "metadata": {
    "collapsed": false
   },
   "outputs": [
    {
     "name": "stdout",
     "output_type": "stream",
     "text": [
      "The average accuracy score is:  0.80795\n",
      "Coefficients and column names same length: True\n",
      "\n",
      "EDUCATION has weight of -0.00636159285211\n",
      "PAY_0_Sept has weight of 0.652909761056\n",
      "PAY_2_Aug has weight of 0.100425648638\n",
      "PAY_3_July has weight of 0.0892117304013\n",
      "PAY_4_June has weight of 0.0281469581104\n",
      "PAY_5_May has weight of 0.0418685107679\n",
      "PAY_6_April has weight of 0.0151592620824\n",
      "BILL_AMT1_Sept has weight of -0.4006792328\n",
      "BILL_AMT2_Aug has weight of 0.136905336617\n",
      "BILL_AMT3_July has weight of 0.0849604764602\n",
      "BILL_AMT4_June has weight of 0.00185561729503\n",
      "BILL_AMT5_May has weight of 0.0378792871473\n",
      "BILL_AMT6_April has weight of 0.0209156298949\n",
      "PAY_AMT1_Sept has weight of -0.217149193983\n",
      "PAY_AMT2_Aug has weight of -0.239087741492\n",
      "PAY_AMT3_July has weight of -0.0518656819608\n",
      "PAY_AMT4_June has weight of -0.0645864364184\n",
      "PAY_AMT5_May has weight of -0.0540961622448\n",
      "PAY_AMT6_April has weight of -0.0436222023051\n",
      "AGE_range has weight of 0.0387659283467\n",
      "LIMIT_BAL_range has weight of -0.03400382425\n",
      "isMale has weight of 0.0588792350245\n",
      "Marriage_Married has weight of 0.0417181613932\n",
      "Marriage_Others has weight of -0.0111909526434\n",
      "Marriage_Single has weight of -0.0432877543979\n"
     ]
    }
   ],
   "source": [
    "# Below averages the output of the cross validations\n",
    "logit_coef_scaled_avg = np.array(np.mean( logit_coef_scaled, axis=0 ))\n",
    "logit_acc_scaled_avg = np.mean(logit_acc_scaled)\n",
    "\n",
    "print(\"The average accuracy score is: \", logit_acc_scaled_avg)\n",
    "\n",
    "# Sanity check to make sure the column name list is the same length as the coefficients\n",
    "print(\"Coefficients and column names same length: \" + str(len(logit_coef_scaled_avg.T)==len(cc_data_Xs_names)))\n",
    "print()\n",
    "\n",
    "# print coefficients with label\n",
    "zip_vars = zip(logit_coef_scaled_avg.T,cc_data_Xs_names) # combine attributes\n",
    "for coef, name in zip_vars:\n",
    "    print(name, 'has weight of', coef[0]) # now print them out"
   ]
  },
  {
   "cell_type": "code",
   "execution_count": 15,
   "metadata": {
    "collapsed": false
   },
   "outputs": [
    {
     "data": {
      "image/png": "[encoded data removed]",
      "text/plain": [
       "<matplotlib.figure.Figure at 0xbd734e0>"
      ]
     },
     "metadata": {},
     "output_type": "display_data"
    }
   ],
   "source": [
    "# Graph the coeficients to find the standout features\n",
    "from matplotlib import pyplot as plt\n",
    "%matplotlib inline\n",
    "plt.style.use('ggplot')\n",
    "\n",
    "weights = pd.Series(logit_coef_scaled_avg[0],index=cc_data_Xs_names)\n",
    "weights.plot(kind='bar')\n",
    "plt.show()"
   ]
  },
  {
   "cell_type": "markdown",
   "metadata": {},
   "source": [
    "### Logitic Interpretation of Full Model\n",
    "\n",
    "PAY_0_Sept and BILL_AMT1_Sept are the two strongest indicators of default. Pay_0_Sept and Bill_AMT1_Sept have high weights, >0.4 and <-0.4 respectively, compared to the other coefficients and are significant to the model. Secondarily, PAY_AMT1_Sept and PAY_AMT2_Aug have a similar strength of indicators. PAY_0_Sept indicates how many months late is the payment, so it is logical that as this increases the log odd off default would increase as well. BILL_AMT1 indicates the amount billed, and the weighting suggest counter to logic that bigger bills tended to default less frequently. Due to the high multicollinearity of the BILL_AMT variables, as discovered previously in project 1, this weighting might not be trustable."
   ]
  },
  {
   "cell_type": "markdown",
   "metadata": {},
   "source": [
    "### Reduced Logistic Model"
   ]
  },
  {
   "cell_type": "code",
   "execution_count": 29,
   "metadata": {
    "collapsed": false
   },
   "outputs": [],
   "source": [
    "cc_data_Xs_logit_reduced = cc_data_processed[[\n",
    " 'PAY_0_Sept',\n",
    " 'BILL_AMT1_Sept',\n",
    " 'PAY_AMT1_Sept',\n",
    " 'PAY_AMT2_Aug',\n",
    "]].values\n",
    "\n",
    "# Column names for labeling\n",
    "cc_data_Xs_names_lr = cc_data_processed[[\n",
    " 'PAY_0_Sept',\n",
    " 'BILL_AMT1_Sept',\n",
    " 'PAY_AMT1_Sept',\n",
    " 'PAY_AMT2_Aug',\n",
    "]].columns"
   ]
  },
  {
   "cell_type": "code",
   "execution_count": 46,
   "metadata": {
    "collapsed": false
   },
   "outputs": [
    {
     "name": "stderr",
     "output_type": "stream",
     "text": [
      "C:\\Users\\ryan.shuhart\\AppData\\Local\\Continuum\\Anaconda3\\lib\\site-packages\\sklearn\\utils\\validation.py:420: DataConversionWarning: Data with input dtype int64 was converted to float64 by StandardScaler.\n",
      "  warnings.warn(msg, DataConversionWarning)\n",
      "C:\\Users\\ryan.shuhart\\AppData\\Local\\Continuum\\Anaconda3\\lib\\site-packages\\sklearn\\utils\\validation.py:420: DataConversionWarning: Data with input dtype int64 was converted to float64 by StandardScaler.\n",
      "  warnings.warn(msg, DataConversionWarning)\n",
      "C:\\Users\\ryan.shuhart\\AppData\\Local\\Continuum\\Anaconda3\\lib\\site-packages\\sklearn\\utils\\validation.py:420: DataConversionWarning: Data with input dtype int64 was converted to float64 by StandardScaler.\n",
      "  warnings.warn(msg, DataConversionWarning)\n",
      "C:\\Users\\ryan.shuhart\\AppData\\Local\\Continuum\\Anaconda3\\lib\\site-packages\\sklearn\\utils\\validation.py:420: DataConversionWarning: Data with input dtype int64 was converted to float64 by StandardScaler.\n",
      "  warnings.warn(msg, DataConversionWarning)\n",
      "C:\\Users\\ryan.shuhart\\AppData\\Local\\Continuum\\Anaconda3\\lib\\site-packages\\sklearn\\utils\\validation.py:420: DataConversionWarning: Data with input dtype int64 was converted to float64 by StandardScaler.\n",
      "  warnings.warn(msg, DataConversionWarning)\n",
      "C:\\Users\\ryan.shuhart\\AppData\\Local\\Continuum\\Anaconda3\\lib\\site-packages\\sklearn\\utils\\validation.py:420: DataConversionWarning: Data with input dtype int64 was converted to float64 by StandardScaler.\n",
      "  warnings.warn(msg, DataConversionWarning)\n"
     ]
    },
    {
     "name": "stdout",
     "output_type": "stream",
     "text": [
      "SCALED DATA\n",
      "\n",
      "====Iteration 0  ====\n",
      "accuracy 0.815166666667\n",
      "confusion matrix\n",
      " [[4522  163]\n",
      " [ 946  369]]\n",
      "Classification Report:\n",
      "              precision    recall  f1-score   support\n",
      "\n",
      "          0       0.83      0.97      0.89      4685\n",
      "          1       0.69      0.28      0.40      1315\n",
      "\n",
      "avg / total       0.80      0.82      0.78      6000\n",
      "\n",
      "ROC Score \n",
      " 0.622908238006\n",
      "SCALED DATA\n",
      "\n",
      "====Iteration 1  ====\n",
      "accuracy 0.811666666667\n",
      "confusion matrix\n",
      " [[4512  156]\n",
      " [ 974  358]]\n",
      "Classification Report:\n",
      "              precision    recall  f1-score   support\n",
      "\n",
      "          0       0.82      0.97      0.89      4668\n",
      "          1       0.70      0.27      0.39      1332\n",
      "\n",
      "avg / total       0.79      0.81      0.78      6000\n",
      "\n",
      "ROC Score \n",
      " 0.617674872816\n"
     ]
    },
    {
     "name": "stderr",
     "output_type": "stream",
     "text": [
      "C:\\Users\\ryan.shuhart\\AppData\\Local\\Continuum\\Anaconda3\\lib\\site-packages\\sklearn\\utils\\validation.py:420: DataConversionWarning: Data with input dtype int64 was converted to float64 by StandardScaler.\n",
      "  warnings.warn(msg, DataConversionWarning)\n",
      "C:\\Users\\ryan.shuhart\\AppData\\Local\\Continuum\\Anaconda3\\lib\\site-packages\\sklearn\\utils\\validation.py:420: DataConversionWarning: Data with input dtype int64 was converted to float64 by StandardScaler.\n",
      "  warnings.warn(msg, DataConversionWarning)\n",
      "C:\\Users\\ryan.shuhart\\AppData\\Local\\Continuum\\Anaconda3\\lib\\site-packages\\sklearn\\utils\\validation.py:420: DataConversionWarning: Data with input dtype int64 was converted to float64 by StandardScaler.\n",
      "  warnings.warn(msg, DataConversionWarning)\n",
      "C:\\Users\\ryan.shuhart\\AppData\\Local\\Continuum\\Anaconda3\\lib\\site-packages\\sklearn\\utils\\validation.py:420: DataConversionWarning: Data with input dtype int64 was converted to float64 by StandardScaler.\n",
      "  warnings.warn(msg, DataConversionWarning)\n",
      "C:\\Users\\ryan.shuhart\\AppData\\Local\\Continuum\\Anaconda3\\lib\\site-packages\\sklearn\\utils\\validation.py:420: DataConversionWarning: Data with input dtype int64 was converted to float64 by StandardScaler.\n",
      "  warnings.warn(msg, DataConversionWarning)\n",
      "C:\\Users\\ryan.shuhart\\AppData\\Local\\Continuum\\Anaconda3\\lib\\site-packages\\sklearn\\utils\\validation.py:420: DataConversionWarning: Data with input dtype int64 was converted to float64 by StandardScaler.\n",
      "  warnings.warn(msg, DataConversionWarning)\n"
     ]
    },
    {
     "name": "stdout",
     "output_type": "stream",
     "text": [
      "SCALED DATA\n",
      "\n",
      "====Iteration 2  ====\n",
      "accuracy 0.801\n",
      "confusion matrix\n",
      " [[4459  161]\n",
      " [1033  347]]\n",
      "Classification Report:\n",
      "              precision    recall  f1-score   support\n",
      "\n",
      "          0       0.81      0.97      0.88      4620\n",
      "          1       0.68      0.25      0.37      1380\n",
      "\n",
      "avg / total       0.78      0.80      0.76      6000\n",
      "\n",
      "ROC Score \n",
      " 0.608300395257\n",
      "SCALED DATA\n",
      "\n",
      "====Iteration 3  ====\n",
      "accuracy 0.8155\n",
      "confusion matrix\n",
      " [[4554  146]\n",
      " [ 961  339]]\n",
      "Classification Report:\n",
      "              precision    recall  f1-score   support\n",
      "\n",
      "          0       0.83      0.97      0.89      4700\n",
      "          1       0.70      0.26      0.38      1300\n",
      "\n",
      "avg / total       0.80      0.82      0.78      6000\n",
      "\n",
      "ROC Score \n",
      " 0.614852700491\n",
      "SCALED DATA\n",
      "\n",
      "====Iteration 4  ====\n",
      "accuracy 0.8175\n",
      "confusion matrix\n",
      " [[4548  142]\n",
      " [ 953  357]]\n"
     ]
    },
    {
     "name": "stderr",
     "output_type": "stream",
     "text": [
      "C:\\Users\\ryan.shuhart\\AppData\\Local\\Continuum\\Anaconda3\\lib\\site-packages\\sklearn\\utils\\validation.py:420: DataConversionWarning: Data with input dtype int64 was converted to float64 by StandardScaler.\n",
      "  warnings.warn(msg, DataConversionWarning)\n",
      "C:\\Users\\ryan.shuhart\\AppData\\Local\\Continuum\\Anaconda3\\lib\\site-packages\\sklearn\\utils\\validation.py:420: DataConversionWarning: Data with input dtype int64 was converted to float64 by StandardScaler.\n",
      "  warnings.warn(msg, DataConversionWarning)\n",
      "C:\\Users\\ryan.shuhart\\AppData\\Local\\Continuum\\Anaconda3\\lib\\site-packages\\sklearn\\utils\\validation.py:420: DataConversionWarning: Data with input dtype int64 was converted to float64 by StandardScaler.\n",
      "  warnings.warn(msg, DataConversionWarning)\n",
      "C:\\Users\\ryan.shuhart\\AppData\\Local\\Continuum\\Anaconda3\\lib\\site-packages\\sklearn\\utils\\validation.py:420: DataConversionWarning: Data with input dtype int64 was converted to float64 by StandardScaler.\n",
      "  warnings.warn(msg, DataConversionWarning)\n",
      "C:\\Users\\ryan.shuhart\\AppData\\Local\\Continuum\\Anaconda3\\lib\\site-packages\\sklearn\\utils\\validation.py:420: DataConversionWarning: Data with input dtype int64 was converted to float64 by StandardScaler.\n",
      "  warnings.warn(msg, DataConversionWarning)\n",
      "C:\\Users\\ryan.shuhart\\AppData\\Local\\Continuum\\Anaconda3\\lib\\site-packages\\sklearn\\utils\\validation.py:420: DataConversionWarning: Data with input dtype int64 was converted to float64 by StandardScaler.\n",
      "  warnings.warn(msg, DataConversionWarning)\n"
     ]
    },
    {
     "name": "stdout",
     "output_type": "stream",
     "text": [
      "Classification Report:\n",
      "              precision    recall  f1-score   support\n",
      "\n",
      "          0       0.83      0.97      0.89      4690\n",
      "          1       0.72      0.27      0.39      1310\n",
      "\n",
      "avg / total       0.80      0.82      0.78      6000\n",
      "\n",
      "ROC Score \n",
      " 0.621120949234\n",
      "SCALED DATA\n",
      "\n",
      "====Iteration 5  ====\n",
      "accuracy 0.808\n",
      "confusion matrix\n",
      " [[4502  163]\n",
      " [ 989  346]]\n",
      "Classification Report:\n",
      "              precision    recall  f1-score   support\n",
      "\n",
      "          0       0.82      0.97      0.89      4665\n",
      "          1       0.68      0.26      0.38      1335\n",
      "\n",
      "avg / total       0.79      0.81      0.77      6000\n",
      "\n",
      "ROC Score \n",
      " 0.612117489794\n"
     ]
    },
    {
     "name": "stderr",
     "output_type": "stream",
     "text": [
      "C:\\Users\\ryan.shuhart\\AppData\\Local\\Continuum\\Anaconda3\\lib\\site-packages\\sklearn\\utils\\validation.py:420: DataConversionWarning: Data with input dtype int64 was converted to float64 by StandardScaler.\n",
      "  warnings.warn(msg, DataConversionWarning)\n",
      "C:\\Users\\ryan.shuhart\\AppData\\Local\\Continuum\\Anaconda3\\lib\\site-packages\\sklearn\\utils\\validation.py:420: DataConversionWarning: Data with input dtype int64 was converted to float64 by StandardScaler.\n",
      "  warnings.warn(msg, DataConversionWarning)\n",
      "C:\\Users\\ryan.shuhart\\AppData\\Local\\Continuum\\Anaconda3\\lib\\site-packages\\sklearn\\utils\\validation.py:420: DataConversionWarning: Data with input dtype int64 was converted to float64 by StandardScaler.\n",
      "  warnings.warn(msg, DataConversionWarning)\n",
      "C:\\Users\\ryan.shuhart\\AppData\\Local\\Continuum\\Anaconda3\\lib\\site-packages\\sklearn\\utils\\validation.py:420: DataConversionWarning: Data with input dtype int64 was converted to float64 by StandardScaler.\n",
      "  warnings.warn(msg, DataConversionWarning)\n"
     ]
    },
    {
     "name": "stdout",
     "output_type": "stream",
     "text": [
      "SCALED DATA\n",
      "\n",
      "====Iteration 6  ====\n",
      "accuracy 0.804333333333\n",
      "confusion matrix\n",
      " [[4471  142]\n",
      " [1032  355]]\n",
      "Classification Report:\n",
      "              precision    recall  f1-score   support\n",
      "\n",
      "          0       0.81      0.97      0.88      4613\n",
      "          1       0.71      0.26      0.38      1387\n",
      "\n",
      "avg / total       0.79      0.80      0.77      6000\n",
      "\n",
      "ROC Score \n",
      " 0.612582759203\n",
      "SCALED DATA\n",
      "\n",
      "====Iteration 7  ====\n",
      "accuracy 0.816333333333\n",
      "confusion matrix\n",
      " [[4552  145]\n",
      " [ 957  346]]\n",
      "Classification Report:\n",
      "              precision    recall  f1-score   support\n",
      "\n",
      "          0       0.83      0.97      0.89      4697\n",
      "          1       0.70      0.27      0.39      1303\n",
      "\n",
      "avg / total       0.80      0.82      0.78      6000\n",
      "\n",
      "ROC Score \n",
      " 0.617335145259\n",
      "SCALED DATA\n",
      "\n",
      "====Iteration 8  ====\n",
      "accuracy 0.814\n"
     ]
    },
    {
     "name": "stderr",
     "output_type": "stream",
     "text": [
      "C:\\Users\\ryan.shuhart\\AppData\\Local\\Continuum\\Anaconda3\\lib\\site-packages\\sklearn\\utils\\validation.py:420: DataConversionWarning: Data with input dtype int64 was converted to float64 by StandardScaler.\n",
      "  warnings.warn(msg, DataConversionWarning)\n",
      "C:\\Users\\ryan.shuhart\\AppData\\Local\\Continuum\\Anaconda3\\lib\\site-packages\\sklearn\\utils\\validation.py:420: DataConversionWarning: Data with input dtype int64 was converted to float64 by StandardScaler.\n",
      "  warnings.warn(msg, DataConversionWarning)\n",
      "C:\\Users\\ryan.shuhart\\AppData\\Local\\Continuum\\Anaconda3\\lib\\site-packages\\sklearn\\utils\\validation.py:420: DataConversionWarning: Data with input dtype int64 was converted to float64 by StandardScaler.\n",
      "  warnings.warn(msg, DataConversionWarning)\n",
      "C:\\Users\\ryan.shuhart\\AppData\\Local\\Continuum\\Anaconda3\\lib\\site-packages\\sklearn\\utils\\validation.py:420: DataConversionWarning: Data with input dtype int64 was converted to float64 by StandardScaler.\n",
      "  warnings.warn(msg, DataConversionWarning)\n",
      "C:\\Users\\ryan.shuhart\\AppData\\Local\\Continuum\\Anaconda3\\lib\\site-packages\\sklearn\\utils\\validation.py:420: DataConversionWarning: Data with input dtype int64 was converted to float64 by StandardScaler.\n",
      "  warnings.warn(msg, DataConversionWarning)\n",
      "C:\\Users\\ryan.shuhart\\AppData\\Local\\Continuum\\Anaconda3\\lib\\site-packages\\sklearn\\utils\\validation.py:420: DataConversionWarning: Data with input dtype int64 was converted to float64 by StandardScaler.\n",
      "  warnings.warn(msg, DataConversionWarning)\n",
      "C:\\Users\\ryan.shuhart\\AppData\\Local\\Continuum\\Anaconda3\\lib\\site-packages\\sklearn\\utils\\validation.py:420: DataConversionWarning: Data with input dtype int64 was converted to float64 by StandardScaler.\n",
      "  warnings.warn(msg, DataConversionWarning)\n",
      "C:\\Users\\ryan.shuhart\\AppData\\Local\\Continuum\\Anaconda3\\lib\\site-packages\\sklearn\\utils\\validation.py:420: DataConversionWarning: Data with input dtype int64 was converted to float64 by StandardScaler.\n",
      "  warnings.warn(msg, DataConversionWarning)\n"
     ]
    },
    {
     "name": "stdout",
     "output_type": "stream",
     "text": [
      "confusion matrix\n",
      " [[4526  146]\n",
      " [ 970  358]]\n",
      "Classification Report:\n",
      "              precision    recall  f1-score   support\n",
      "\n",
      "          0       0.82      0.97      0.89      4672\n",
      "          1       0.71      0.27      0.39      1328\n",
      "\n",
      "avg / total       0.80      0.81      0.78      6000\n",
      "\n",
      "ROC Score \n",
      " 0.619164156627\n",
      "SCALED DATA\n",
      "\n",
      "====Iteration 9  ====\n",
      "accuracy 0.813833333333\n",
      "confusion matrix\n",
      " [[4533  161]\n",
      " [ 956  350]]\n",
      "Classification Report:\n",
      "              precision    recall  f1-score   support\n",
      "\n",
      "          0       0.83      0.97      0.89      4694\n",
      "          1       0.68      0.27      0.39      1306\n",
      "\n",
      "avg / total       0.80      0.81      0.78      6000\n",
      "\n",
      "ROC Score \n",
      " 0.616847384592\n",
      "done. It took 1.5060861110687256 seconds.\n"
     ]
    }
   ],
   "source": [
    "logit_coef_scaled_lr, logit_acc_scaled_lr = full_classify(cc_data_target, cc_data_Xs_logit_reduced, cv_object, \n",
    "                                                          logit_clf.best_estimator_, scale=True)"
   ]
  },
  {
   "cell_type": "code",
   "execution_count": 47,
   "metadata": {
    "collapsed": false
   },
   "outputs": [
    {
     "name": "stdout",
     "output_type": "stream",
     "text": [
      "The average accuracy score is:  0.811733333333\n",
      "Coefficients and column names same length: True\n",
      "\n",
      "PAY_0_Sept has weight of 0.812310007991\n",
      "BILL_AMT1_Sept has weight of -0.120917975534\n",
      "PAY_AMT1_Sept has weight of -0.214588963892\n",
      "PAY_AMT2_Aug has weight of -0.248188273806\n"
     ]
    },
    {
     "data": {
      "image/png": "[encoded data removed]",
      "text/plain": [
       "<matplotlib.figure.Figure at 0xcfa64a8>"
      ]
     },
     "metadata": {},
     "output_type": "display_data"
    }
   ],
   "source": [
    "# Below averages the coeficients of the cross validations\n",
    "logit_coef_scaled_avg_lr = np.array(np.mean( logit_coef_scaled_lr, axis=0 ))\n",
    "logit_acc_scaled_avg_lr = np.mean(logit_acc_scaled_lr)\n",
    "\n",
    "print(\"The average accuracy score is: \", logit_acc_scaled_avg_lr)\n",
    "\n",
    "# Sanity check to make sure the column name list is the same length as the coefficients\n",
    "print(\"Coefficients and column names same length: \" + str(len(logit_coef_scaled_avg_lr.T)==len(cc_data_Xs_names_lr)))\n",
    "print()\n",
    "\n",
    "# print coefficients with label\n",
    "zip_vars = zip(logit_coef_scaled_avg_lr.T,cc_data_Xs_names_lr) # combine attributes\n",
    "for coef, name in zip_vars:\n",
    "    print(name, 'has weight of', coef[0]) # now print them out\n",
    "    \n",
    "# Graph the coeficients to find the standout features\n",
    "weights = pd.Series(logit_coef_scaled_avg_lr[0],index=cc_data_Xs_names_lr)\n",
    "weights.plot(kind='bar')\n",
    "plt.show()"
   ]
  },
  {
   "cell_type": "markdown",
   "metadata": {},
   "source": [
    "# [Enter comparison of full model to reduced model here]"
   ]
  },
  {
   "cell_type": "markdown",
   "metadata": {},
   "source": [
    "## Support Vector Machine - Using SGDClassifier"
   ]
  },
  {
   "cell_type": "code",
   "execution_count": 16,
   "metadata": {
    "collapsed": false
   },
   "outputs": [],
   "source": [
    "# Create New Cross Validation object\n",
    "cv_object = ShuffleSplit(n=len(cc_data_target), n_iter=10, test_size  = 0.2)\n",
    "\n",
    "# Initial fixed parmeters\n",
    "model = SGDClassifier(loss='hinge', n_iter=1, learning_rate='optimal')\n",
    "\n",
    "# Parameteres to search on:\n",
    "alpha_values = [.1,1,10,100,1000]\n",
    "params = {'penalty':('l1','l2'), \n",
    "          'alpha':alpha_values, \n",
    "          'fit_intercept':(True, False)}\n",
    "\n",
    "# Run grid search with cv_object\n",
    "sgd_clf = grid_searcher(model, params, cv_object)"
   ]
  },
  {
   "cell_type": "code",
   "execution_count": 17,
   "metadata": {
    "collapsed": false
   },
   "outputs": [
    {
     "name": "stdout",
     "output_type": "stream",
     "text": [
      "The best estimator:  SGDClassifier(alpha=0.1, average=False, class_weight=None, epsilon=0.1,\n",
      "       eta0=0.0, fit_intercept=False, l1_ratio=0.15,\n",
      "       learning_rate='optimal', loss='hinge', n_iter=1, n_jobs=1,\n",
      "       penalty='l2', power_t=0.5, random_state=None, shuffle=True,\n",
      "       verbose=0, warm_start=False)\n",
      "The best accuracy score is:  0.771633333333\n",
      "The best parameters of model is:  {'fit_intercept': False, 'alpha': 0.1, 'penalty': 'l2'}\n"
     ]
    }
   ],
   "source": [
    "# Print grid serach results\n",
    "print(\"The best estimator: \",sgd_clf.best_estimator_)\n",
    "print(\"The best accuracy score is: \", sgd_clf.best_score_)\n",
    "print(\"The best parameters of model is: \",sgd_clf.best_params_)"
   ]
  },
  {
   "cell_type": "code",
   "execution_count": 18,
   "metadata": {
    "collapsed": false
   },
   "outputs": [
    {
     "name": "stderr",
     "output_type": "stream",
     "text": [
      "C:\\Users\\ryan.shuhart\\AppData\\Local\\Continuum\\Anaconda3\\lib\\site-packages\\sklearn\\utils\\validation.py:420: DataConversionWarning: Data with input dtype object was converted to float64 by StandardScaler.\n",
      "  warnings.warn(msg, DataConversionWarning)\n",
      "C:\\Users\\ryan.shuhart\\AppData\\Local\\Continuum\\Anaconda3\\lib\\site-packages\\sklearn\\utils\\validation.py:420: DataConversionWarning: Data with input dtype object was converted to float64 by StandardScaler.\n",
      "  warnings.warn(msg, DataConversionWarning)\n",
      "C:\\Users\\ryan.shuhart\\AppData\\Local\\Continuum\\Anaconda3\\lib\\site-packages\\sklearn\\utils\\validation.py:420: DataConversionWarning: Data with input dtype object was converted to float64 by StandardScaler.\n",
      "  warnings.warn(msg, DataConversionWarning)\n",
      "C:\\Users\\ryan.shuhart\\AppData\\Local\\Continuum\\Anaconda3\\lib\\site-packages\\sklearn\\utils\\validation.py:420: DataConversionWarning: Data with input dtype object was converted to float64 by StandardScaler.\n",
      "  warnings.warn(msg, DataConversionWarning)\n"
     ]
    },
    {
     "name": "stdout",
     "output_type": "stream",
     "text": [
      "SCALED DATA\n",
      "\n",
      "====Iteration 0  ====\n",
      "accuracy 0.584166666667\n",
      "confusion matrix\n",
      " [[2509 2149]\n",
      " [ 346  996]]\n",
      "Classification Report:\n",
      "              precision    recall  f1-score   support\n",
      "\n",
      "          0       0.88      0.54      0.67      4658\n",
      "          1       0.32      0.74      0.44      1342\n",
      "\n",
      "avg / total       0.75      0.58      0.62      6000\n",
      "\n",
      "ROC Score \n",
      " 0.640409525717\n"
     ]
    },
    {
     "name": "stderr",
     "output_type": "stream",
     "text": [
      "C:\\Users\\ryan.shuhart\\AppData\\Local\\Continuum\\Anaconda3\\lib\\site-packages\\sklearn\\utils\\validation.py:420: DataConversionWarning: Data with input dtype object was converted to float64 by StandardScaler.\n",
      "  warnings.warn(msg, DataConversionWarning)\n",
      "C:\\Users\\ryan.shuhart\\AppData\\Local\\Continuum\\Anaconda3\\lib\\site-packages\\sklearn\\utils\\validation.py:420: DataConversionWarning: Data with input dtype object was converted to float64 by StandardScaler.\n",
      "  warnings.warn(msg, DataConversionWarning)\n",
      "C:\\Users\\ryan.shuhart\\AppData\\Local\\Continuum\\Anaconda3\\lib\\site-packages\\sklearn\\utils\\validation.py:420: DataConversionWarning: Data with input dtype object was converted to float64 by StandardScaler.\n",
      "  warnings.warn(msg, DataConversionWarning)\n"
     ]
    },
    {
     "name": "stdout",
     "output_type": "stream",
     "text": [
      "SCALED DATA\n",
      "\n",
      "====Iteration 1  ====\n",
      "accuracy 0.585833333333\n",
      "confusion matrix\n",
      " [[2561 2105]\n",
      " [ 380  954]]\n",
      "Classification Report:\n",
      "              precision    recall  f1-score   support\n",
      "\n",
      "          0       0.87      0.55      0.67      4666\n",
      "          1       0.31      0.72      0.43      1334\n",
      "\n",
      "avg / total       0.75      0.59      0.62      6000\n",
      "\n",
      "ROC Score \n",
      " 0.632003276116\n"
     ]
    },
    {
     "name": "stderr",
     "output_type": "stream",
     "text": [
      "C:\\Users\\ryan.shuhart\\AppData\\Local\\Continuum\\Anaconda3\\lib\\site-packages\\sklearn\\utils\\validation.py:420: DataConversionWarning: Data with input dtype object was converted to float64 by StandardScaler.\n",
      "  warnings.warn(msg, DataConversionWarning)\n",
      "C:\\Users\\ryan.shuhart\\AppData\\Local\\Continuum\\Anaconda3\\lib\\site-packages\\sklearn\\utils\\validation.py:420: DataConversionWarning: Data with input dtype object was converted to float64 by StandardScaler.\n",
      "  warnings.warn(msg, DataConversionWarning)\n",
      "C:\\Users\\ryan.shuhart\\AppData\\Local\\Continuum\\Anaconda3\\lib\\site-packages\\sklearn\\utils\\validation.py:420: DataConversionWarning: Data with input dtype object was converted to float64 by StandardScaler.\n",
      "  warnings.warn(msg, DataConversionWarning)\n"
     ]
    },
    {
     "name": "stdout",
     "output_type": "stream",
     "text": [
      "SCALED DATA\n",
      "\n",
      "====Iteration 2  ====\n",
      "accuracy 0.6185\n",
      "confusion matrix\n",
      " [[2765 1922]\n",
      " [ 367  946]]\n",
      "Classification Report:\n",
      "              precision    recall  f1-score   support\n",
      "\n",
      "          0       0.88      0.59      0.71      4687\n",
      "          1       0.33      0.72      0.45      1313\n",
      "\n",
      "avg / total       0.76      0.62      0.65      6000\n",
      "\n",
      "ROC Score \n",
      " 0.655208512924\n"
     ]
    },
    {
     "name": "stderr",
     "output_type": "stream",
     "text": [
      "C:\\Users\\ryan.shuhart\\AppData\\Local\\Continuum\\Anaconda3\\lib\\site-packages\\sklearn\\utils\\validation.py:420: DataConversionWarning: Data with input dtype object was converted to float64 by StandardScaler.\n",
      "  warnings.warn(msg, DataConversionWarning)\n",
      "C:\\Users\\ryan.shuhart\\AppData\\Local\\Continuum\\Anaconda3\\lib\\site-packages\\sklearn\\utils\\validation.py:420: DataConversionWarning: Data with input dtype object was converted to float64 by StandardScaler.\n",
      "  warnings.warn(msg, DataConversionWarning)\n"
     ]
    },
    {
     "name": "stdout",
     "output_type": "stream",
     "text": [
      "SCALED DATA\n",
      "\n",
      "====Iteration 3  ====\n",
      "accuracy 0.601\n",
      "confusion matrix\n",
      " [[2729 1980]\n",
      " [ 414  877]]\n",
      "Classification Report:\n",
      "              precision    recall  f1-score   support\n",
      "\n",
      "          0       0.87      0.58      0.70      4709\n",
      "          1       0.31      0.68      0.42      1291\n",
      "\n",
      "avg / total       0.75      0.60      0.64      6000\n",
      "\n",
      "ROC Score \n",
      " 0.629423460095\n"
     ]
    },
    {
     "name": "stderr",
     "output_type": "stream",
     "text": [
      "C:\\Users\\ryan.shuhart\\AppData\\Local\\Continuum\\Anaconda3\\lib\\site-packages\\sklearn\\utils\\validation.py:420: DataConversionWarning: Data with input dtype object was converted to float64 by StandardScaler.\n",
      "  warnings.warn(msg, DataConversionWarning)\n",
      "C:\\Users\\ryan.shuhart\\AppData\\Local\\Continuum\\Anaconda3\\lib\\site-packages\\sklearn\\utils\\validation.py:420: DataConversionWarning: Data with input dtype object was converted to float64 by StandardScaler.\n",
      "  warnings.warn(msg, DataConversionWarning)\n",
      "C:\\Users\\ryan.shuhart\\AppData\\Local\\Continuum\\Anaconda3\\lib\\site-packages\\sklearn\\utils\\validation.py:420: DataConversionWarning: Data with input dtype object was converted to float64 by StandardScaler.\n",
      "  warnings.warn(msg, DataConversionWarning)\n"
     ]
    },
    {
     "name": "stdout",
     "output_type": "stream",
     "text": [
      "SCALED DATA\n",
      "\n",
      "====Iteration 4  ====\n",
      "accuracy 0.603\n",
      "confusion matrix\n",
      " [[2638 2028]\n",
      " [ 354  980]]\n",
      "Classification Report:\n",
      "              precision    recall  f1-score   support\n",
      "\n",
      "          0       0.88      0.57      0.69      4666\n",
      "          1       0.33      0.73      0.45      1334\n",
      "\n",
      "avg / total       0.76      0.60      0.64      6000\n",
      "\n",
      "ROC Score \n",
      " 0.649999582292\n"
     ]
    },
    {
     "name": "stderr",
     "output_type": "stream",
     "text": [
      "C:\\Users\\ryan.shuhart\\AppData\\Local\\Continuum\\Anaconda3\\lib\\site-packages\\sklearn\\utils\\validation.py:420: DataConversionWarning: Data with input dtype object was converted to float64 by StandardScaler.\n",
      "  warnings.warn(msg, DataConversionWarning)\n",
      "C:\\Users\\ryan.shuhart\\AppData\\Local\\Continuum\\Anaconda3\\lib\\site-packages\\sklearn\\utils\\validation.py:420: DataConversionWarning: Data with input dtype object was converted to float64 by StandardScaler.\n",
      "  warnings.warn(msg, DataConversionWarning)\n",
      "C:\\Users\\ryan.shuhart\\AppData\\Local\\Continuum\\Anaconda3\\lib\\site-packages\\sklearn\\utils\\validation.py:420: DataConversionWarning: Data with input dtype object was converted to float64 by StandardScaler.\n",
      "  warnings.warn(msg, DataConversionWarning)\n"
     ]
    },
    {
     "name": "stdout",
     "output_type": "stream",
     "text": [
      "SCALED DATA\n",
      "\n",
      "====Iteration 5  ====\n",
      "accuracy 0.5925\n",
      "confusion matrix\n",
      " [[2598 2050]\n",
      " [ 395  957]]\n",
      "Classification Report:\n",
      "              precision    recall  f1-score   support\n",
      "\n",
      "          0       0.87      0.56      0.68      4648\n",
      "          1       0.32      0.71      0.44      1352\n",
      "\n",
      "avg / total       0.74      0.59      0.63      6000\n",
      "\n",
      "ROC Score \n",
      " 0.633395161372\n"
     ]
    },
    {
     "name": "stderr",
     "output_type": "stream",
     "text": [
      "C:\\Users\\ryan.shuhart\\AppData\\Local\\Continuum\\Anaconda3\\lib\\site-packages\\sklearn\\utils\\validation.py:420: DataConversionWarning: Data with input dtype object was converted to float64 by StandardScaler.\n",
      "  warnings.warn(msg, DataConversionWarning)\n",
      "C:\\Users\\ryan.shuhart\\AppData\\Local\\Continuum\\Anaconda3\\lib\\site-packages\\sklearn\\utils\\validation.py:420: DataConversionWarning: Data with input dtype object was converted to float64 by StandardScaler.\n",
      "  warnings.warn(msg, DataConversionWarning)\n",
      "C:\\Users\\ryan.shuhart\\AppData\\Local\\Continuum\\Anaconda3\\lib\\site-packages\\sklearn\\utils\\validation.py:420: DataConversionWarning: Data with input dtype object was converted to float64 by StandardScaler.\n",
      "  warnings.warn(msg, DataConversionWarning)\n"
     ]
    },
    {
     "name": "stdout",
     "output_type": "stream",
     "text": [
      "SCALED DATA\n",
      "\n",
      "====Iteration 6  ====\n",
      "accuracy 0.613166666667\n",
      "confusion matrix\n",
      " [[2764 1900]\n",
      " [ 421  915]]\n",
      "Classification Report:\n",
      "              precision    recall  f1-score   support\n",
      "\n",
      "          0       0.87      0.59      0.70      4664\n",
      "          1       0.33      0.68      0.44      1336\n",
      "\n",
      "avg / total       0.75      0.61      0.65      6000\n",
      "\n",
      "ROC Score \n",
      " 0.638752298148\n"
     ]
    },
    {
     "name": "stderr",
     "output_type": "stream",
     "text": [
      "C:\\Users\\ryan.shuhart\\AppData\\Local\\Continuum\\Anaconda3\\lib\\site-packages\\sklearn\\utils\\validation.py:420: DataConversionWarning: Data with input dtype object was converted to float64 by StandardScaler.\n",
      "  warnings.warn(msg, DataConversionWarning)\n",
      "C:\\Users\\ryan.shuhart\\AppData\\Local\\Continuum\\Anaconda3\\lib\\site-packages\\sklearn\\utils\\validation.py:420: DataConversionWarning: Data with input dtype object was converted to float64 by StandardScaler.\n",
      "  warnings.warn(msg, DataConversionWarning)\n",
      "C:\\Users\\ryan.shuhart\\AppData\\Local\\Continuum\\Anaconda3\\lib\\site-packages\\sklearn\\utils\\validation.py:420: DataConversionWarning: Data with input dtype object was converted to float64 by StandardScaler.\n",
      "  warnings.warn(msg, DataConversionWarning)\n"
     ]
    },
    {
     "name": "stdout",
     "output_type": "stream",
     "text": [
      "SCALED DATA\n",
      "\n",
      "====Iteration 7  ====\n",
      "accuracy 0.589333333333\n",
      "confusion matrix\n",
      " [[2598 2086]\n",
      " [ 378  938]]\n",
      "Classification Report:\n",
      "              precision    recall  f1-score   support\n",
      "\n",
      "          0       0.87      0.55      0.68      4684\n",
      "          1       0.31      0.71      0.43      1316\n",
      "\n",
      "avg / total       0.75      0.59      0.62      6000\n",
      "\n",
      "ROC Score \n",
      " 0.633710049603\n"
     ]
    },
    {
     "name": "stderr",
     "output_type": "stream",
     "text": [
      "C:\\Users\\ryan.shuhart\\AppData\\Local\\Continuum\\Anaconda3\\lib\\site-packages\\sklearn\\utils\\validation.py:420: DataConversionWarning: Data with input dtype object was converted to float64 by StandardScaler.\n",
      "  warnings.warn(msg, DataConversionWarning)\n",
      "C:\\Users\\ryan.shuhart\\AppData\\Local\\Continuum\\Anaconda3\\lib\\site-packages\\sklearn\\utils\\validation.py:420: DataConversionWarning: Data with input dtype object was converted to float64 by StandardScaler.\n",
      "  warnings.warn(msg, DataConversionWarning)\n",
      "C:\\Users\\ryan.shuhart\\AppData\\Local\\Continuum\\Anaconda3\\lib\\site-packages\\sklearn\\utils\\validation.py:420: DataConversionWarning: Data with input dtype object was converted to float64 by StandardScaler.\n",
      "  warnings.warn(msg, DataConversionWarning)\n"
     ]
    },
    {
     "name": "stdout",
     "output_type": "stream",
     "text": [
      "SCALED DATA\n",
      "\n",
      "====Iteration 8  ====\n",
      "accuracy 0.606833333333\n",
      "confusion matrix\n",
      " [[2724 1950]\n",
      " [ 409  917]]\n",
      "Classification Report:\n",
      "              precision    recall  f1-score   support\n",
      "\n",
      "          0       0.87      0.58      0.70      4674\n",
      "          1       0.32      0.69      0.44      1326\n",
      "\n",
      "avg / total       0.75      0.61      0.64      6000\n",
      "\n",
      "ROC Score \n",
      " 0.637176002029\n",
      "SCALED DATA\n",
      "\n",
      "====Iteration 9  ====\n",
      "accuracy 0.596166666667\n",
      "confusion matrix\n",
      " [[2628 2032]\n",
      " [ 391  949]]\n",
      "Classification Report:\n",
      "              precision    recall  f1-score   support\n",
      "\n",
      "          0       0.87      0.56      0.68      4660\n",
      "          1       0.32      0.71      0.44      1340\n",
      "\n",
      "avg / total       0.75      0.60      0.63      6000\n",
      "\n",
      "ROC Score \n",
      " 0.636078726539\n",
      "done. It took 3.5402023792266846 seconds.\n"
     ]
    },
    {
     "name": "stderr",
     "output_type": "stream",
     "text": [
      "C:\\Users\\ryan.shuhart\\AppData\\Local\\Continuum\\Anaconda3\\lib\\site-packages\\sklearn\\utils\\validation.py:420: DataConversionWarning: Data with input dtype object was converted to float64 by StandardScaler.\n",
      "  warnings.warn(msg, DataConversionWarning)\n",
      "C:\\Users\\ryan.shuhart\\AppData\\Local\\Continuum\\Anaconda3\\lib\\site-packages\\sklearn\\utils\\validation.py:420: DataConversionWarning: Data with input dtype object was converted to float64 by StandardScaler.\n",
      "  warnings.warn(msg, DataConversionWarning)\n",
      "C:\\Users\\ryan.shuhart\\AppData\\Local\\Continuum\\Anaconda3\\lib\\site-packages\\sklearn\\utils\\validation.py:420: DataConversionWarning: Data with input dtype object was converted to float64 by StandardScaler.\n",
      "  warnings.warn(msg, DataConversionWarning)\n"
     ]
    }
   ],
   "source": [
    "### Run best model from grid search to get the coefficients from scaled data for interpretation\n",
    "sgd_coef_scaled = full_classify(cc_data_target, cc_data_Xs, cv_object, sgd_clf.best_estimator_, scale=True)\n",
    "\n",
    "# model = SVC(C=0.05, kernel='linear', degree=3, gamma='auto')\n",
    "# full_classify(cc_data_target, cc_data_Xs, cv_object, model, scale=True)"
   ]
  },
  {
   "cell_type": "code",
   "execution_count": 19,
   "metadata": {
    "collapsed": false
   },
   "outputs": [
    {
     "data": {
      "text/plain": [
       "[array([[-0.01723268,  0.44626821,  0.16481767,  0.0852592 ,  0.03825015,\n",
       "          0.03715192,  0.02227449, -0.11232098, -0.06027542, -0.03169943,\n",
       "         -0.01039102,  0.00607792,  0.01586459, -0.06089009, -0.03541942,\n",
       "          0.00071777, -0.01990387, -0.04967   , -0.03261937,  0.05382958,\n",
       "         -0.06814141,  0.01077169,  0.00758833,  0.00212372, -0.00804582]]),\n",
       " array([[-0.01024523,  0.46174177,  0.15505329,  0.07427466,  0.02981529,\n",
       "          0.0228869 ,  0.00536384, -0.10614105, -0.04612056, -0.024747  ,\n",
       "         -0.00374924, -0.00437182,  0.0018661 , -0.03826555, -0.03602816,\n",
       "         -0.02003785, -0.02930601, -0.01485808, -0.01747488,  0.02518462,\n",
       "         -0.05027335,  0.07690745,  0.00473155, -0.02521586,  0.00089175]]),\n",
       " array([[-0.04361872,  0.4496379 ,  0.15330011,  0.07233666,  0.03750767,\n",
       "          0.02052082, -0.00283193, -0.11443238, -0.05451644, -0.02650056,\n",
       "         -0.00071608,  0.00478081,  0.00643371, -0.06068697, -0.04818383,\n",
       "         -0.00301828, -0.03983648, -0.02102555, -0.01375607,  0.06172531,\n",
       "         -0.05855119,  0.03176447,  0.06050935, -0.01871777, -0.05631539]]),\n",
       " array([[-0.04992484,  0.42163114,  0.16328557,  0.08634663,  0.03519743,\n",
       "          0.02812583,  0.02230777, -0.10772929, -0.04573183, -0.01522896,\n",
       "         -0.00833378,  0.00458392,  0.00448527, -0.02508824, -0.02433597,\n",
       "         -0.03283393, -0.01965141, -0.03193221, -0.00907962,  0.05571926,\n",
       "         -0.03872628,  0.09424012,  0.03134407,  0.0229909 , -0.03635084]]),\n",
       " array([[-0.04986368,  0.44470887,  0.15822571,  0.06519586,  0.01340859,\n",
       "          0.01348273, -0.00229223, -0.10161983, -0.04640486, -0.01914143,\n",
       "         -0.00467971, -0.01125888, -0.01076998, -0.04633631, -0.02921383,\n",
       "         -0.00901126, -0.0410576 , -0.03451455,  0.00421006,  0.05173064,\n",
       "         -0.05429792,  0.0486276 ,  0.01517563,  0.00131   , -0.01543975]]),\n",
       " array([[-0.04602785,  0.42607914,  0.15383877,  0.10328107,  0.05498614,\n",
       "          0.03676903,  0.00772297, -0.11902531, -0.05283831, -0.03466237,\n",
       "         -0.02216688, -0.00402688, -0.00785334, -0.06419527, -0.05953789,\n",
       "         -0.029309  , -0.03156988, -0.03416661, -0.04959921,  0.05689517,\n",
       "         -0.04097431,  0.084875  ,  0.0631763 , -0.02631652, -0.05714398]]),\n",
       " array([[ 0.00138999,  0.4364079 ,  0.1480405 ,  0.09710783,  0.04713241,\n",
       "          0.01412414, -0.00659978, -0.11086369, -0.04866682, -0.03135139,\n",
       "         -0.00447019,  0.01772952,  0.02248997, -0.04495949, -0.04064258,\n",
       "         -0.00446037, -0.0088014 , -0.02197257, -0.02820828,  0.07141602,\n",
       "         -0.03964859,  0.05321911,  0.05657647, -0.01696485, -0.05267433]]),\n",
       " array([[-0.04525815,  0.45111576,  0.12868139,  0.08901432,  0.05369521,\n",
       "          0.02708722,  0.01324811, -0.12728115, -0.06384953, -0.04303905,\n",
       "         -0.02295122, -0.01465676, -0.00892277, -0.06030794, -0.0363097 ,\n",
       "          0.00993088, -0.03003786, -0.05059186, -0.02476158,  0.02004318,\n",
       "         -0.03165277,  0.0685179 ,  0.01773951, -0.02657508, -0.01179291]]),\n",
       " array([[ 0.00846974,  0.44260292,  0.1274255 ,  0.05912374,  0.02635457,\n",
       "          0.02001005,  0.00526106, -0.09822788, -0.04894467, -0.02326604,\n",
       "         -0.01300676, -0.00197558,  0.01060403, -0.06552367, -0.02349387,\n",
       "         -0.0186482 , -0.02284415,  0.01216822, -0.00659087,  0.04672038,\n",
       "         -0.04534358,  0.05771119,  0.02207801, -0.03805814, -0.01356287]]),\n",
       " array([[-0.02047862,  0.4502009 ,  0.14967996,  0.08047415,  0.04316985,\n",
       "          0.02987155,  0.01973554, -0.09041375, -0.03345748, -0.01496586,\n",
       "         -0.00986234,  0.00091977,  0.00938699, -0.06090873, -0.02161906,\n",
       "         -0.02766837, -0.03443514, -0.03044425, -0.01672819,  0.04158402,\n",
       "         -0.03899704,  0.03225133,  0.03742884, -0.01194597, -0.03467156]])]"
      ]
     },
     "execution_count": 19,
     "metadata": {},
     "output_type": "execute_result"
    }
   ],
   "source": [
    "sgd_coef_scaled"
   ]
  },
  {
   "cell_type": "code",
   "execution_count": 20,
   "metadata": {
    "collapsed": false
   },
   "outputs": [
    {
     "data": {
      "text/plain": [
       "array([[ -2.72790028e-02,   4.43039451e-01,   1.50234848e-01,\n",
       "          8.12414123e-02,   3.79517316e-02,   2.50030180e-02,\n",
       "          8.41898327e-03,  -1.08805531e-01,  -5.00805925e-02,\n",
       "         -2.64602103e-02,  -1.00327217e-02,  -2.19798290e-04,\n",
       "          4.35845700e-03,  -5.27162266e-02,  -3.54784319e-02,\n",
       "         -1.34338622e-02,  -2.77443807e-02,  -2.77007447e-02,\n",
       "         -1.94608021e-02,   4.84848167e-02,  -4.66606434e-02,\n",
       "          5.58885869e-02,   3.16348050e-02,  -1.37369566e-02,\n",
       "         -2.85105707e-02]])"
      ]
     },
     "execution_count": 20,
     "metadata": {},
     "output_type": "execute_result"
    }
   ],
   "source": [
    "# Below averages the coeficients of the cross validations\n",
    "sgd_coef_scaled_avg = np.array(np.mean( sgd_coef_scaled, axis=0 ))\n",
    "sgd_coef_scaled_avg"
   ]
  },
  {
   "cell_type": "code",
   "execution_count": 21,
   "metadata": {
    "collapsed": false
   },
   "outputs": [
    {
     "name": "stdout",
     "output_type": "stream",
     "text": [
      "Coefficients and column names same length: True\n",
      "\n",
      "EDUCATION has weight of -0.0272790028208\n",
      "PAY_0_Sept has weight of 0.443039451401\n",
      "PAY_2_Aug has weight of 0.150234847567\n",
      "PAY_3_July has weight of 0.0812414123399\n",
      "PAY_4_June has weight of 0.037951731634\n",
      "PAY_5_May has weight of 0.025003017987\n",
      "PAY_6_April has weight of 0.00841898326897\n",
      "BILL_AMT1_Sept has weight of -0.108805530831\n",
      "BILL_AMT2_Aug has weight of -0.0500805924722\n",
      "BILL_AMT3_July has weight of -0.0264602102921\n",
      "BILL_AMT4_June has weight of -0.0100327216746\n",
      "BILL_AMT5_May has weight of -0.000219798290132\n",
      "BILL_AMT6_April has weight of 0.00435845699829\n",
      "PAY_AMT1_Sept has weight of -0.0527162265765\n",
      "PAY_AMT2_Aug has weight of -0.0354784318595\n",
      "PAY_AMT3_July has weight of -0.0134338621601\n",
      "PAY_AMT4_June has weight of -0.0277443807172\n",
      "PAY_AMT5_May has weight of -0.0277007447273\n",
      "PAY_AMT6_April has weight of -0.0194608021241\n",
      "AGE_range has weight of 0.0484848167075\n",
      "LIMIT_BAL_range has weight of -0.0466606433547\n",
      "isMale has weight of 0.0558885868631\n",
      "Marriage_Married has weight of 0.0316348050023\n",
      "Marriage_Others has weight of -0.0137369566496\n",
      "Marriage_Single has weight of -0.0285105706701\n"
     ]
    }
   ],
   "source": [
    "# Sanity check to make sure the column name list is the same length as the coefficients\n",
    "print(\"Coefficients and column names same length: \" + str(len(sgd_coef_scaled_avg.T)==len(cc_data_Xs_names)))\n",
    "print()\n",
    "\n",
    "# print coefficients with label\n",
    "zip_vars = zip(sgd_coef_scaled_avg.T,cc_data_Xs_names) # combine attributes\n",
    "for coef, name in zip_vars:\n",
    "    print(name, 'has weight of', coef[0]) # now print them out"
   ]
  },
  {
   "cell_type": "code",
   "execution_count": 22,
   "metadata": {
    "collapsed": false
   },
   "outputs": [
    {
     "data": {
      "image/png": "[encoded data removed]",
      "text/plain": [
       "<matplotlib.figure.Figure at 0xbf08128>"
      ]
     },
     "metadata": {},
     "output_type": "display_data"
    }
   ],
   "source": [
    "# Graph the coeficients to find the standout features\n",
    "weights = pd.Series(sgd_coef_scaled_avg[0],index=cc_data_Xs_names)\n",
    "weights.plot(kind='bar')\n",
    "plt.show()"
   ]
  },
  {
   "cell_type": "code",
   "execution_count": null,
   "metadata": {
    "collapsed": true
   },
   "outputs": [],
   "source": []
  }
 ],
 "metadata": {
  "kernelspec": {
   "display_name": "Python 3",
   "language": "python",
   "name": "python3"
  },
  "language_info": {
   "codemirror_mode": {
    "name": "ipython",
    "version": 3
   },
   "file_extension": ".py",
   "mimetype": "text/x-python",
   "name": "python",
   "nbconvert_exporter": "python",
   "pygments_lexer": "ipython3",
   "version": "3.5.1"
  }
 },
 "nbformat": 4,
 "nbformat_minor": 0
}
