{
 "cells": [
  {
   "cell_type": "markdown",
   "metadata": {
    "collapsed": true
   },
   "source": [
    "# MSDS 7331 - Mini-Project: SVM&LR Classification\n",
    "## Team: Dineen Parker, Dale Legband, Ryan Shuhart\n",
    "collaboration site: https://github.com/rlshuhart/MSDS7331_Mini-Lab"
   ]
  },
  {
   "cell_type": "markdown",
   "metadata": {},
   "source": [
    "### Log to capture iterations of findings and ideas for feature selection and analysis"
   ]
  },
  {
   "cell_type": "markdown",
   "metadata": {},
   "source": [
    "1. First attempt of logistic model revealed need to one-hot encode categorical variables\n",
    "2. After numerically encoding categorical variables, the logistic model more or less predicted all to not default.\n",
    "3. Changeing penalty on logistic model from l2 to l1 improved the model by about 3 percentage points.\n",
    "4. Changing class_weight='balanced' negatively impacted model\n",
    "5. Changing C to 100 had no impact\n",
    "6. Changing C to .0001 had small negative impact\n",
    "7. Reviewed logistic coefficients on scaled data and it appears the most recent pay status (PAY_0_Sept), the most recent two bill amounts ('BILL_AMT1_Sept', 'BILL_AMT2_Aug'), the most recent two payment amounts are the highest predictors ('PAY_AMT1_Sept', 'PAY_AMT2_Aug').\n",
    "8. Full SVM Model was stopped after not completing after 2 hours. SGD will be pursued instead.\n",
    "9. SGD performed much faster, but not very accurate\n",
    "9. Interpreted Logistic Model - only 4 variables worth keeping\n",
    "10. Reduced logistic model performs about the same, but much simpler\n",
    "11. SGD classifier is faster than logistic.\n",
    "12. SVM on reduced model takes a long time and is less accurate on this data set and features."
   ]
  },
  {
   "cell_type": "markdown",
   "metadata": {},
   "source": [
    "## SVM and Logistic Regression Modeling  \n",
    "* <font color = \"green\">[50 points] Create a logistic regression model and a support vector machine model for the classiﬁcation task involved with your dataset. Assess how well each model performs (use 80/20 training/testing split for your data). Adjust parameters of the models to make them more accurate. If your dataset size requires the use of stochastic gradient descent, then linear kernel only is ﬁne to use. </font>\n",
    "* <font color = \"red\">[10 points] Discuss the advantages of each model for each classiﬁcation task. Does one type of model offer superior performance over another in terms of prediction accuracy? In terms of training time or efﬁciency? Explain in detail.  \n",
    "* <font color = \"green\">[30 points] Use the weights from logistic regression to interpret the importance of different features for each classiﬁcation task. Explain your interpretation in detail. Why do you think some variables are more important? </font>\n",
    "* <font color = \"red\">[10 points] Look at the chosen support vectors for the classiﬁcation task. Do these provide any insight into the data? Explain"
   ]
  },
  {
   "cell_type": "code",
   "execution_count": 13,
   "metadata": {
    "collapsed": true
   },
   "outputs": [],
   "source": [
    "### Modules Used ###\n",
    "\n",
    "# Data manipulation: pandas and numpy\n",
    "import pandas as pd\n",
    "import numpy as np\n",
    "\n",
    "# Visualization: seaborn and matplotlib\n",
    "import matplotlib.pyplot as plt\n",
    "import seaborn as sns\n",
    "\n",
    "import time\n",
    "import warnings"
   ]
  },
  {
   "cell_type": "markdown",
   "metadata": {},
   "source": [
    "# Read in preprocessed data from previous assignment"
   ]
  },
  {
   "cell_type": "code",
   "execution_count": 2,
   "metadata": {
    "collapsed": false
   },
   "outputs": [],
   "source": [
    "# Random but useful fact: if the first record in a csv file is \n",
    "# \"ID\" than Excel will interpret it as a SYLK file\n",
    "# https://annalear.ca/2010/06/10/why-excel-thinks-your-csv-is-a-sylk/\n",
    "\n",
    "#data_url = \"https://raw.githubusercontent.com/rlshuhart/MSDS7331_Project_1/master/cc_data/cc_data_processed.csv\"\n",
    "data_url = \"../MSDS7331_Project_1/cc_data/cc_data_processed.csv\"\n",
    "\n",
    "cc_data = pd.read_csv(data_url, index_col='ID')"
   ]
  },
  {
   "cell_type": "code",
   "execution_count": 3,
   "metadata": {
    "collapsed": false
   },
   "outputs": [
    {
     "name": "stdout",
     "output_type": "stream",
     "text": [
      "<class 'pandas.core.frame.DataFrame'>\n",
      "Int64Index: 30000 entries, 1 to 30000\n",
      "Data columns (total 27 columns):\n",
      "LIMIT_BAL                     30000 non-null int64\n",
      "SEX                           30000 non-null object\n",
      "EDUCATION                     30000 non-null object\n",
      "MARRIAGE                      30000 non-null object\n",
      "AGE                           30000 non-null int64\n",
      "PAY_0_Sept                    30000 non-null int64\n",
      "PAY_2_Aug                     30000 non-null int64\n",
      "PAY_3_July                    30000 non-null int64\n",
      "PAY_4_June                    30000 non-null int64\n",
      "PAY_5_May                     30000 non-null int64\n",
      "PAY_6_April                   30000 non-null int64\n",
      "BILL_AMT1_Sept                30000 non-null int64\n",
      "BILL_AMT2_Aug                 30000 non-null int64\n",
      "BILL_AMT3_July                30000 non-null int64\n",
      "BILL_AMT4_June                30000 non-null int64\n",
      "BILL_AMT5_May                 30000 non-null int64\n",
      "BILL_AMT6_April               30000 non-null int64\n",
      "PAY_AMT1_Sept                 30000 non-null int64\n",
      "PAY_AMT2_Aug                  30000 non-null int64\n",
      "PAY_AMT3_July                 30000 non-null int64\n",
      "PAY_AMT4_June                 30000 non-null int64\n",
      "PAY_AMT5_May                  30000 non-null int64\n",
      "PAY_AMT6_April                30000 non-null int64\n",
      "default payment next month    30000 non-null int64\n",
      "AGE_range                     30000 non-null object\n",
      "LIMIT_BAL_range               30000 non-null object\n",
      "Default_Yes_No                30000 non-null object\n",
      "dtypes: int64(21), object(6)\n",
      "memory usage: 6.4+ MB\n",
      "None\n"
     ]
    }
   ],
   "source": [
    "print(cc_data.info())"
   ]
  },
  {
   "cell_type": "markdown",
   "metadata": {},
   "source": [
    "# Additional Preprocessing of data"
   ]
  },
  {
   "cell_type": "markdown",
   "metadata": {},
   "source": [
    "### One hot encoding of categorical variables"
   ]
  },
  {
   "cell_type": "code",
   "execution_count": 4,
   "metadata": {
    "collapsed": false
   },
   "outputs": [
    {
     "name": "stdout",
     "output_type": "stream",
     "text": [
      "<class 'pandas.core.frame.DataFrame'>\n",
      "Int64Index: 30000 entries, 1 to 30000\n",
      "Data columns (total 26 columns):\n",
      "EDUCATION                     30000 non-null int64\n",
      "PAY_0_Sept                    30000 non-null int64\n",
      "PAY_2_Aug                     30000 non-null int64\n",
      "PAY_3_July                    30000 non-null int64\n",
      "PAY_4_June                    30000 non-null int64\n",
      "PAY_5_May                     30000 non-null int64\n",
      "PAY_6_April                   30000 non-null int64\n",
      "BILL_AMT1_Sept                30000 non-null int64\n",
      "BILL_AMT2_Aug                 30000 non-null int64\n",
      "BILL_AMT3_July                30000 non-null int64\n",
      "BILL_AMT4_June                30000 non-null int64\n",
      "BILL_AMT5_May                 30000 non-null int64\n",
      "BILL_AMT6_April               30000 non-null int64\n",
      "PAY_AMT1_Sept                 30000 non-null int64\n",
      "PAY_AMT2_Aug                  30000 non-null int64\n",
      "PAY_AMT3_July                 30000 non-null int64\n",
      "PAY_AMT4_June                 30000 non-null int64\n",
      "PAY_AMT5_May                  30000 non-null int64\n",
      "PAY_AMT6_April                30000 non-null int64\n",
      "default payment next month    30000 non-null int64\n",
      "AGE_range                     30000 non-null int64\n",
      "LIMIT_BAL_range               30000 non-null int64\n",
      "isMale                        30000 non-null bool\n",
      "Marriage_Married              30000 non-null float64\n",
      "Marriage_Others               30000 non-null float64\n",
      "Marriage_Single               30000 non-null float64\n",
      "dtypes: bool(1), float64(3), int64(22)\n",
      "memory usage: 6.0 MB\n",
      "None\n"
     ]
    }
   ],
   "source": [
    "# makeing copy of data to retain original input for now. \n",
    "# Have to add .copy() or any change will reflect in the original too.\n",
    "cc_data_processed = cc_data.copy()\n",
    "\n",
    "cats = ['SEX', 'EDUCATION', 'MARRIAGE','AGE_range', 'LIMIT_BAL_range']\n",
    "\n",
    "# SEX convert to isMale\n",
    "cc_data_processed['isMale'] = cc_data['SEX']=='Male'\n",
    "\n",
    "# Two options for Education: \n",
    "# If treating ordinal then keep single columnn but label in numerical order\n",
    "# if nominal then create dummy variables.\n",
    "# Trying ordinal first with 'Others' as the highest. Previous exploration\n",
    "# showed this group have better rates of default which continued the trend\n",
    "# of more education means less likely to default:\n",
    "cc_data_processed['EDUCATION'] = cc_data['EDUCATION'].apply({'High School':0,\n",
    "                                                             'University':1,\n",
    "                                                             'Graduate School':2, \n",
    "                                                             'Others':3}.get)\n",
    "\n",
    "# Marriage is nominal category therefore converting to dummies\n",
    "\n",
    "cc_data_processed = pd.concat((cc_data_processed, \n",
    "                               pd.get_dummies(cc_data['MARRIAGE'], prefix='Marriage')), \n",
    "                               axis=1)\n",
    "\n",
    "# Age range is ordinal category:\n",
    "cc_data_processed['AGE_range'] = cc_data['AGE_range'].apply({'21-30':0,\n",
    "                                                             '31-40':1,\n",
    "                                                             '41-50':2, \n",
    "                                                             '51-60':3,\n",
    "                                                             '61-70':4,\n",
    "                                                             '71-80+':5}.get)\n",
    "# Limit_Bal_Range is ordingal\n",
    "cc_data_processed['LIMIT_BAL_range'] = cc_data['LIMIT_BAL_range'].apply({'0-250k':0,\n",
    "                                                                         '>250k-500k':1,\n",
    "                                                                         '>500k-750k':2,\n",
    "                                                                         '>750k':3}.get)\n",
    "\n",
    "# Drop unused features:\n",
    "# 'Default_Yes_No' - Used for visualization labeling only and same as 'default payment next month'\n",
    "# 'AGE' - Using Age_range instead, may bring back\n",
    "cc_data_processed.drop(['Default_Yes_No','AGE', 'SEX','MARRIAGE', 'LIMIT_BAL'], axis=1, inplace=True)\n",
    "\n",
    "print(cc_data_processed.info())"
   ]
  },
  {
   "cell_type": "markdown",
   "metadata": {},
   "source": [
    "#### Convert data to numpy arrays for training"
   ]
  },
  {
   "cell_type": "code",
   "execution_count": 5,
   "metadata": {
    "collapsed": false
   },
   "outputs": [],
   "source": [
    "cc_data_target = cc_data_processed['default payment next month'].values\n",
    "cc_data_Xs = cc_data_processed.drop('default payment next month', axis='columns').values\n",
    "\n",
    "# Column names for labeling\n",
    "cc_data_Xs_names = cc_data_processed.drop('default payment next month', axis='columns').columns"
   ]
  },
  {
   "cell_type": "markdown",
   "metadata": {},
   "source": [
    "# Prediction Models"
   ]
  },
  {
   "cell_type": "code",
   "execution_count": 6,
   "metadata": {
    "collapsed": true
   },
   "outputs": [],
   "source": [
    "# Scikit Modules\n",
    "from sklearn.cross_validation import cross_val_score, cross_val_predict\n",
    "from sklearn import metrics as mt\n",
    "from sklearn.linear_model import LogisticRegression\n",
    "from sklearn.linear_model import SGDClassifier\n",
    "from sklearn.svm import SVC\n",
    "from sklearn.cross_validation import ShuffleSplit\n",
    "from sklearn.preprocessing import StandardScaler\n",
    "from sklearn import grid_search"
   ]
  },
  {
   "cell_type": "code",
   "execution_count": 7,
   "metadata": {
    "collapsed": false
   },
   "outputs": [],
   "source": [
    "# Create Cross Validation object with an 80/20 split\n",
    "num_cv_iterations = 10\n",
    "num_instances = len(cc_data_target)\n",
    "cv_object = ShuffleSplit(n=num_instances,\n",
    "                         n_iter=num_cv_iterations,\n",
    "                         test_size  = 0.2)"
   ]
  },
  {
   "cell_type": "code",
   "execution_count": 8,
   "metadata": {
    "collapsed": false
   },
   "outputs": [
    {
     "name": "stdout",
     "output_type": "stream",
     "text": [
      "The sample default rate is: 77.9%\n",
      "The models should have an accuracy better than predicting all non-defaults of 77.9%\n"
     ]
    }
   ],
   "source": [
    "# Sample Default Rate\n",
    "sample_d_rt = (1 - cc_data_target.sum() / len(cc_data_target))*100\n",
    "print(\"The sample default rate is: %.1f%%\"  % sample_d_rt)\n",
    "\n",
    "# The sample default rate is the same as predicting all zeros (or no defaults)\n",
    "all_zeros = np.zeros(len(cc_data_target))\n",
    "all_zero_score = mt.accuracy_score(cc_data_target,all_zeros)*100\n",
    "print(\"The models should have an accuracy better than predicting all non-defaults of %.1f%%\"  % all_zero_score)"
   ]
  },
  {
   "cell_type": "markdown",
   "metadata": {},
   "source": [
    "## Logistic Regression"
   ]
  },
  {
   "cell_type": "markdown",
   "metadata": {},
   "source": [
    "### Review of different parameters"
   ]
  },
  {
   "cell_type": "code",
   "execution_count": 9,
   "metadata": {
    "collapsed": true
   },
   "outputs": [],
   "source": [
    "def grid_searcher(X, y, model, params, cv_object):\n",
    "    clf = grid_search.GridSearchCV(model, params, cv=cv_object,n_jobs=-1)\n",
    "    clf.fit(X, y)\n",
    "    return clf"
   ]
  },
  {
   "cell_type": "code",
   "execution_count": 10,
   "metadata": {
    "collapsed": false
   },
   "outputs": [
    {
     "name": "stdout",
     "output_type": "stream",
     "text": [
      "The best estimator:  LogisticRegression(C=1, class_weight=None, dual=False, fit_intercept=True,\n",
      "          intercept_scaling=1, max_iter=100, multi_class='ovr', n_jobs=1,\n",
      "          penalty='l1', random_state=None, solver='liblinear', tol=0.0001,\n",
      "          verbose=0, warm_start=False)\n",
      "The best accuracy score is:  0.810383333333\n",
      "The best parameters of model is:  {'penalty': 'l1', 'class_weight': None, 'C': 1}\n"
     ]
    }
   ],
   "source": [
    "# set parameters for grid search to test all the different combinations\n",
    "c_values = [.1,1,10,100,1000]#np.arange(.01, .1, 0.01)\n",
    "model = LogisticRegression()\n",
    "params = {'penalty':('l1','l2'), 'C':c_values, 'class_weight':(None, 'balanced')}\n",
    "\n",
    "#run search and return results\n",
    "logit_clf = grid_searcher(cc_data_Xs, cc_data_target, model, params, cv_object)\n",
    "\n",
    "#print(clf.grid_scores_ )\n",
    "print(\"The best estimator: \",logit_clf.best_estimator_)\n",
    "print(\"The best accuracy score is: \", logit_clf.best_score_)\n",
    "print(\"The best parameters of model is: \",logit_clf.best_params_)"
   ]
  },
  {
   "cell_type": "markdown",
   "metadata": {},
   "source": [
    "### The grid search reveals \n",
    "Grid search reveals: Penalty - l1 was selected over l2, which means that the objective function that is minimized is better for L1, which is the sum of errors, rather than L2, which is the sum of squared errors. L1 is less sensitive to outliers. The C=10 value indicates a larger value is needed for regularization which improves the models ability to not fit to noise. Class_weight selection of None over balanced means balanced did not add accuracy to the fit, likely because 'balanced' mode \"uses the values of y to automatically adjust weights inversely proportional to class frequencies in the input data\" The best accuracy score is 0.812 is just slightly better accuracy than predicting all non-defaults of 77.9%."
   ]
  },
  {
   "cell_type": "markdown",
   "metadata": {},
   "source": [
    "### Find coefficients "
   ]
  },
  {
   "cell_type": "code",
   "execution_count": 14,
   "metadata": {
    "collapsed": false
   },
   "outputs": [],
   "source": [
    "def full_classify(X, y, cv_object, model, scale=False):\n",
    "    start = time.time()\n",
    "    # Create empty list to append coefficient results\n",
    "    coef_list = []\n",
    "    acc_list = []\n",
    "    for iter_num, (train_indices, test_indices) in enumerate(cv_object):\n",
    "        print(\"====Iteration\",iter_num,\" ====\")\n",
    "        if scale == True:\n",
    "            with warnings.catch_warnings():\n",
    "                warnings.simplefilter(\"ignore\")\n",
    "                scl_obj = StandardScaler()\n",
    "                scl_obj.fit(X[train_indices])\n",
    "                X_train_scaled = scl_obj.transform(X[train_indices])\n",
    "                X_test_scaled = scl_obj.transform(X[test_indices])\n",
    "                model.fit(X_train_scaled,y[train_indices])\n",
    "                y_hat = model.predict(X_test_scaled)\n",
    "                print(\"\\n*SCALED DATA*\")\n",
    "        elif scale == False:\n",
    "            model.fit(X[train_indices],y[train_indices])  # train object\n",
    "            y_hat = model.predict(X[test_indices]) # get test set precitions\n",
    "        \n",
    "        # append coefficients from model to list\n",
    "        coef_list.append(model.coef_)\n",
    "        acc_list.append(mt.accuracy_score(y[test_indices],y_hat))\n",
    "\n",
    "        # print the accuracy and confusion matrix \n",
    "        #print(\"====Iteration\",iter_num,\" ====\")\n",
    "        print(\"accuracy\", mt.accuracy_score(y[test_indices],y_hat))\n",
    "        print(\"confusion matrix\\n\",mt.confusion_matrix(y[test_indices],y_hat))\n",
    "        print(\"Classification Report:\\n\",mt.classification_report(y[test_indices],y_hat))\n",
    "        print(\"ROC Score \\n\",mt.roc_auc_score(y[test_indices],y_hat))\n",
    "        print()\n",
    "        \n",
    "    print('done. It took', time.time()-start, 'seconds.')    \n",
    "    return coef_list, acc_list"
   ]
  },
  {
   "cell_type": "code",
   "execution_count": 15,
   "metadata": {
    "collapsed": false,
    "scrolled": false
   },
   "outputs": [
    {
     "name": "stdout",
     "output_type": "stream",
     "text": [
      "====Iteration 0  ====\n",
      "\n",
      "*SCALED DATA*\n",
      "accuracy 0.8175\n",
      "confusion matrix\n",
      " [[4596  123]\n",
      " [ 972  309]]\n",
      "Classification Report:\n",
      "              precision    recall  f1-score   support\n",
      "\n",
      "          0       0.83      0.97      0.89      4719\n",
      "          1       0.72      0.24      0.36      1281\n",
      "\n",
      "avg / total       0.80      0.82      0.78      6000\n",
      "\n",
      "ROC Score \n",
      " 0.607576477174\n",
      "\n",
      "====Iteration 1  ====\n",
      "\n",
      "*SCALED DATA*\n",
      "accuracy 0.810333333333\n",
      "confusion matrix\n",
      " [[4570  137]\n",
      " [1001  292]]\n",
      "Classification Report:\n",
      "              precision    recall  f1-score   support\n",
      "\n",
      "          0       0.82      0.97      0.89      4707\n",
      "          1       0.68      0.23      0.34      1293\n",
      "\n",
      "avg / total       0.79      0.81      0.77      6000\n",
      "\n",
      "ROC Score \n",
      " 0.598362906211\n",
      "\n",
      "====Iteration 2  ====\n",
      "\n",
      "*SCALED DATA*\n",
      "accuracy 0.814833333333\n",
      "confusion matrix\n",
      " [[4579  136]\n",
      " [ 975  310]]\n",
      "Classification Report:\n",
      "              precision    recall  f1-score   support\n",
      "\n",
      "          0       0.82      0.97      0.89      4715\n",
      "          1       0.70      0.24      0.36      1285\n",
      "\n",
      "avg / total       0.80      0.81      0.78      6000\n",
      "\n",
      "ROC Score \n",
      " 0.606200510829\n",
      "\n",
      "====Iteration 3  ====\n",
      "\n",
      "*SCALED DATA*\n",
      "accuracy 0.813333333333\n",
      "confusion matrix\n",
      " [[4560  104]\n",
      " [1016  320]]\n",
      "Classification Report:\n",
      "              precision    recall  f1-score   support\n",
      "\n",
      "          0       0.82      0.98      0.89      4664\n",
      "          1       0.75      0.24      0.36      1336\n",
      "\n",
      "avg / total       0.80      0.81      0.77      6000\n",
      "\n",
      "ROC Score \n",
      " 0.608611250912\n",
      "\n",
      "====Iteration 4  ====\n",
      "\n",
      "*SCALED DATA*\n",
      "accuracy 0.811666666667\n",
      "confusion matrix\n",
      " [[4537  125]\n",
      " [1005  333]]\n",
      "Classification Report:\n",
      "              precision    recall  f1-score   support\n",
      "\n",
      "          0       0.82      0.97      0.89      4662\n",
      "          1       0.73      0.25      0.37      1338\n",
      "\n",
      "avg / total       0.80      0.81      0.77      6000\n",
      "\n",
      "ROC Score \n",
      " 0.611033198477\n",
      "\n",
      "====Iteration 5  ====\n",
      "\n",
      "*SCALED DATA*\n",
      "accuracy 0.819333333333\n",
      "confusion matrix\n",
      " [[4614  122]\n",
      " [ 962  302]]\n",
      "Classification Report:\n",
      "              precision    recall  f1-score   support\n",
      "\n",
      "          0       0.83      0.97      0.89      4736\n",
      "          1       0.71      0.24      0.36      1264\n",
      "\n",
      "avg / total       0.80      0.82      0.78      6000\n",
      "\n",
      "ROC Score \n",
      " 0.606581957749\n",
      "\n",
      "====Iteration 6  ====\n",
      "\n",
      "*SCALED DATA*\n",
      "accuracy 0.806\n",
      "confusion matrix\n",
      " [[4513  128]\n",
      " [1036  323]]\n",
      "Classification Report:\n",
      "              precision    recall  f1-score   support\n",
      "\n",
      "          0       0.81      0.97      0.89      4641\n",
      "          1       0.72      0.24      0.36      1359\n",
      "\n",
      "avg / total       0.79      0.81      0.77      6000\n",
      "\n",
      "ROC Score \n",
      " 0.60504724899\n",
      "\n",
      "====Iteration 7  ====\n",
      "\n",
      "*SCALED DATA*\n",
      "accuracy 0.811166666667\n",
      "confusion matrix\n",
      " [[4543  138]\n",
      " [ 995  324]]\n",
      "Classification Report:\n",
      "              precision    recall  f1-score   support\n",
      "\n",
      "          0       0.82      0.97      0.89      4681\n",
      "          1       0.70      0.25      0.36      1319\n",
      "\n",
      "avg / total       0.79      0.81      0.77      6000\n",
      "\n",
      "ROC Score \n",
      " 0.608079878346\n",
      "\n",
      "====Iteration 8  ====\n",
      "\n",
      "*SCALED DATA*\n",
      "accuracy 0.8035\n",
      "confusion matrix\n",
      " [[4530  125]\n",
      " [1054  291]]\n",
      "Classification Report:\n",
      "              precision    recall  f1-score   support\n",
      "\n",
      "          0       0.81      0.97      0.88      4655\n",
      "          1       0.70      0.22      0.33      1345\n",
      "\n",
      "avg / total       0.79      0.80      0.76      6000\n",
      "\n",
      "ROC Score \n",
      " 0.594752015461\n",
      "\n",
      "====Iteration 9  ====\n",
      "\n",
      "*SCALED DATA*\n",
      "accuracy 0.802666666667\n",
      "confusion matrix\n",
      " [[4511  134]\n",
      " [1050  305]]\n",
      "Classification Report:\n",
      "              precision    recall  f1-score   support\n",
      "\n",
      "          0       0.81      0.97      0.88      4645\n",
      "          1       0.69      0.23      0.34      1355\n",
      "\n",
      "avg / total       0.78      0.80      0.76      6000\n",
      "\n",
      "ROC Score \n",
      " 0.598122013513\n",
      "\n",
      "done. It took 8.681496620178223 seconds.\n"
     ]
    }
   ],
   "source": [
    "### Run best model from grid search to get the coefficients from scaled data for interpretation\n",
    "logit_coef_scaled, logit_acc_scaled = full_classify(cc_data_Xs, cc_data_target, cv_object, logit_clf.best_estimator_, scale=True)"
   ]
  },
  {
   "cell_type": "markdown",
   "metadata": {},
   "source": [
    "### Intrepretting weights of Logistic Model using Scaled Data"
   ]
  },
  {
   "cell_type": "code",
   "execution_count": 16,
   "metadata": {
    "collapsed": true
   },
   "outputs": [],
   "source": [
    "# Graph the coeficients to find the standout features\n",
    "from matplotlib import pyplot as plt\n",
    "%matplotlib inline\n",
    "plt.style.use('ggplot')\n",
    "\n",
    "def analysis(coef_list, acc_list, labels):\n",
    "    # Below averages the output of the cross validations\n",
    "    coef_list_avg = np.array(np.mean(coef_list, axis=0 ))\n",
    "    acc_list_avg = np.mean(acc_list)\n",
    "\n",
    "    print(\"The average accuracy score is: \", acc_list_avg)\n",
    "\n",
    "    # Sanity check to make sure the column name list is the same length as the coefficients\n",
    "    print(\"Coefficients and column names same length: \" + str(len(coef_list_avg.T)==len(labels)))\n",
    "    print()\n",
    "\n",
    "    # print coefficients with label\n",
    "    zip_vars = zip(coef_list_avg.T,labels) # combine attributes\n",
    "    for coef, name in zip_vars:\n",
    "        print(name, 'has weight of', coef[0]) # now print them out\n",
    "\n",
    "    weights = pd.Series(coef_list_avg[0],index=labels)\n",
    "    weights.plot(kind='bar')\n",
    "    plt.show()"
   ]
  },
  {
   "cell_type": "code",
   "execution_count": 17,
   "metadata": {
    "collapsed": false
   },
   "outputs": [
    {
     "name": "stdout",
     "output_type": "stream",
     "text": [
      "The average accuracy score is:  0.811033333333\n",
      "Coefficients and column names same length: True\n",
      "\n",
      "EDUCATION has weight of -0.00168951910529\n",
      "PAY_0_Sept has weight of 0.653232573843\n",
      "PAY_2_Aug has weight of 0.104509355805\n",
      "PAY_3_July has weight of 0.0923841175753\n",
      "PAY_4_June has weight of 0.0187585931221\n",
      "PAY_5_May has weight of 0.0423202854077\n",
      "PAY_6_April has weight of 0.0205396029722\n",
      "BILL_AMT1_Sept has weight of -0.430838041295\n",
      "BILL_AMT2_Aug has weight of 0.160948912743\n",
      "BILL_AMT3_July has weight of 0.116022877806\n",
      "BILL_AMT4_June has weight of -0.0307112747318\n",
      "BILL_AMT5_May has weight of 0.0574870729715\n",
      "BILL_AMT6_April has weight of 0.01140755171\n",
      "PAY_AMT1_Sept has weight of -0.222112219852\n",
      "PAY_AMT2_Aug has weight of -0.213265657919\n",
      "PAY_AMT3_July has weight of -0.0612274026497\n",
      "PAY_AMT4_June has weight of -0.0709142431099\n",
      "PAY_AMT5_May has weight of -0.0509467978216\n",
      "PAY_AMT6_April has weight of -0.047109402994\n",
      "AGE_range has weight of 0.0374682730299\n",
      "LIMIT_BAL_range has weight of -0.0280099692303\n",
      "isMale has weight of 0.0561732029639\n",
      "Marriage_Married has weight of 0.0464696649341\n",
      "Marriage_Others has weight of -0.00581787466867\n",
      "Marriage_Single has weight of -0.036161752004\n"
     ]
    },
    {
     "data": {
      "image/png": "[encoded data removed]",
      "text/plain": [
       "<matplotlib.figure.Figure at 0x5ae7550>"
      ]
     },
     "metadata": {},
     "output_type": "display_data"
    }
   ],
   "source": [
    "analysis(logit_coef_scaled, logit_acc_scaled, cc_data_Xs_names)"
   ]
  },
  {
   "cell_type": "markdown",
   "metadata": {},
   "source": [
    "### Logitic Interpretation of Full Model\n",
    "\n",
    "PAY_0_Sept and BILL_AMT1_Sept are the two strongest indicators of default. Pay_0_Sept and Bill_AMT1_Sept have high weights, >0.4 and <-0.4 respectively, compared to the other coefficients and are significant to the model. Secondarily, PAY_AMT1_Sept and PAY_AMT2_Aug have a similar strength of indicators. PAY_0_Sept indicates how many months late is the payment, so it is logical that as this increases the log odd of default would increase as well. BILL_AMT1 indicates the amount billed, and the weighting suggest counter to logic that bigger bills tended to default less frequently. Due to the high multicollinearity of the BILL_AMT variables, as discovered previously in project 1, this weighting might not be trustable. PAY_AMT1_Sept and PAY_AMT2_Aug have a negative weighting, suggesting as pay amounts decrease during these months, default goes higher."
   ]
  },
  {
   "cell_type": "markdown",
   "metadata": {},
   "source": [
    "### Reduced Logistic Model"
   ]
  },
  {
   "cell_type": "code",
   "execution_count": 18,
   "metadata": {
    "collapsed": false
   },
   "outputs": [],
   "source": [
    "logit_reduced_model = ['PAY_0_Sept',\n",
    "                       'BILL_AMT1_Sept',\n",
    "                       'PAY_AMT1_Sept',\n",
    "                       'PAY_AMT2_Aug']\n",
    "\n",
    "cc_data_Xs_logit_reduced = cc_data_processed[logit_reduced_model].values\n",
    "\n",
    "# Column names for labeling\n",
    "cc_data_Xs_names_lr = cc_data_processed[logit_reduced_model].columns"
   ]
  },
  {
   "cell_type": "code",
   "execution_count": 19,
   "metadata": {
    "collapsed": false,
    "scrolled": false
   },
   "outputs": [
    {
     "name": "stdout",
     "output_type": "stream",
     "text": [
      "====Iteration 0  ====\n",
      "\n",
      "*SCALED DATA*\n",
      "accuracy 0.810333333333\n",
      "confusion matrix\n",
      " [[4528  162]\n",
      " [ 976  334]]\n",
      "Classification Report:\n",
      "              precision    recall  f1-score   support\n",
      "\n",
      "          0       0.82      0.97      0.89      4690\n",
      "          1       0.67      0.25      0.37      1310\n",
      "\n",
      "avg / total       0.79      0.81      0.78      6000\n",
      "\n",
      "ROC Score \n",
      " 0.610210127118\n",
      "\n",
      "====Iteration 1  ====\n",
      "\n",
      "*SCALED DATA*\n",
      "accuracy 0.808333333333\n",
      "confusion matrix\n",
      " [[4490  149]\n",
      " [1001  360]]\n",
      "Classification Report:\n",
      "              precision    recall  f1-score   support\n",
      "\n",
      "          0       0.82      0.97      0.89      4639\n",
      "          1       0.71      0.26      0.39      1361\n",
      "\n",
      "avg / total       0.79      0.81      0.77      6000\n",
      "\n",
      "ROC Score \n",
      " 0.616196198761\n",
      "\n",
      "====Iteration 2  ====\n",
      "\n",
      "*SCALED DATA*\n",
      "accuracy 0.8205\n",
      "confusion matrix\n",
      " [[4553  149]\n",
      " [ 928  370]]\n",
      "Classification Report:\n",
      "              precision    recall  f1-score   support\n",
      "\n",
      "          0       0.83      0.97      0.89      4702\n",
      "          1       0.71      0.29      0.41      1298\n",
      "\n",
      "avg / total       0.81      0.82      0.79      6000\n",
      "\n",
      "ROC Score \n",
      " 0.626682642996\n",
      "\n",
      "====Iteration 3  ====\n",
      "\n",
      "*SCALED DATA*\n",
      "accuracy 0.819666666667\n",
      "confusion matrix\n",
      " [[4543  124]\n",
      " [ 958  375]]\n",
      "Classification Report:\n",
      "              precision    recall  f1-score   support\n",
      "\n",
      "          0       0.83      0.97      0.89      4667\n",
      "          1       0.75      0.28      0.41      1333\n",
      "\n",
      "avg / total       0.81      0.82      0.79      6000\n",
      "\n",
      "ROC Score \n",
      " 0.627375399667\n",
      "\n",
      "====Iteration 4  ====\n",
      "\n",
      "*SCALED DATA*\n",
      "accuracy 0.819666666667\n",
      "confusion matrix\n",
      " [[4544  173]\n",
      " [ 909  374]]\n",
      "Classification Report:\n",
      "              precision    recall  f1-score   support\n",
      "\n",
      "          0       0.83      0.96      0.89      4717\n",
      "          1       0.68      0.29      0.41      1283\n",
      "\n",
      "avg / total       0.80      0.82      0.79      6000\n",
      "\n",
      "ROC Score \n",
      " 0.627414216766\n",
      "\n",
      "====Iteration 5  ====\n",
      "\n",
      "*SCALED DATA*\n",
      "accuracy 0.814\n",
      "confusion matrix\n",
      " [[4522  150]\n",
      " [ 966  362]]\n",
      "Classification Report:\n",
      "              precision    recall  f1-score   support\n",
      "\n",
      "          0       0.82      0.97      0.89      4672\n",
      "          1       0.71      0.27      0.39      1328\n",
      "\n",
      "avg / total       0.80      0.81      0.78      6000\n",
      "\n",
      "ROC Score \n",
      " 0.620242098531\n",
      "\n",
      "====Iteration 6  ====\n",
      "\n",
      "*SCALED DATA*\n",
      "accuracy 0.8125\n",
      "confusion matrix\n",
      " [[4524  159]\n",
      " [ 966  351]]\n",
      "Classification Report:\n",
      "              precision    recall  f1-score   support\n",
      "\n",
      "          0       0.82      0.97      0.89      4683\n",
      "          1       0.69      0.27      0.38      1317\n",
      "\n",
      "avg / total       0.79      0.81      0.78      6000\n",
      "\n",
      "ROC Score \n",
      " 0.616281105944\n",
      "\n",
      "====Iteration 7  ====\n",
      "\n",
      "*SCALED DATA*\n",
      "accuracy 0.819333333333\n",
      "confusion matrix\n",
      " [[4558  145]\n",
      " [ 939  358]]\n",
      "Classification Report:\n",
      "              precision    recall  f1-score   support\n",
      "\n",
      "          0       0.83      0.97      0.89      4703\n",
      "          1       0.71      0.28      0.40      1297\n",
      "\n",
      "avg / total       0.80      0.82      0.79      6000\n",
      "\n",
      "ROC Score \n",
      " 0.622595102029\n",
      "\n",
      "====Iteration 8  ====\n",
      "\n",
      "*SCALED DATA*\n",
      "accuracy 0.804166666667\n",
      "confusion matrix\n",
      " [[4490  145]\n",
      " [1030  335]]\n",
      "Classification Report:\n",
      "              precision    recall  f1-score   support\n",
      "\n",
      "          0       0.81      0.97      0.88      4635\n",
      "          1       0.70      0.25      0.36      1365\n",
      "\n",
      "avg / total       0.79      0.80      0.77      6000\n",
      "\n",
      "ROC Score \n",
      " 0.607068767263\n",
      "\n",
      "====Iteration 9  ====\n",
      "\n",
      "*SCALED DATA*\n",
      "accuracy 0.811833333333\n",
      "confusion matrix\n",
      " [[4501  145]\n",
      " [ 984  370]]\n",
      "Classification Report:\n",
      "              precision    recall  f1-score   support\n",
      "\n",
      "          0       0.82      0.97      0.89      4646\n",
      "          1       0.72      0.27      0.40      1354\n",
      "\n",
      "avg / total       0.80      0.81      0.78      6000\n",
      "\n",
      "ROC Score \n",
      " 0.621027379535\n",
      "\n",
      "done. It took 0.35302019119262695 seconds.\n"
     ]
    }
   ],
   "source": [
    "logit_coef_scaled_lr, logit_acc_scaled_lr = full_classify(cc_data_Xs_logit_reduced, cc_data_target,  cv_object, \n",
    "                                                          logit_clf.best_estimator_, scale=True)"
   ]
  },
  {
   "cell_type": "code",
   "execution_count": 20,
   "metadata": {
    "collapsed": false
   },
   "outputs": [
    {
     "name": "stdout",
     "output_type": "stream",
     "text": [
      "The average accuracy score is:  0.814033333333\n",
      "Coefficients and column names same length: True\n",
      "\n",
      "PAY_0_Sept has weight of 0.814868375171\n",
      "BILL_AMT1_Sept has weight of -0.128287509554\n",
      "PAY_AMT1_Sept has weight of -0.206584021648\n",
      "PAY_AMT2_Aug has weight of -0.262202777898\n"
     ]
    },
    {
     "data": {
      "image/png": "[encoded data removed]",
      "text/plain": [
       "<matplotlib.figure.Figure at 0x5c860f0>"
      ]
     },
     "metadata": {},
     "output_type": "display_data"
    }
   ],
   "source": [
    "analysis(logit_coef_scaled_lr, logit_acc_scaled_lr, cc_data_Xs_names_lr)"
   ]
  },
  {
   "cell_type": "markdown",
   "metadata": {},
   "source": [
    "### Comparison of Full Model to Reduced Model"
   ]
  },
  {
   "cell_type": "markdown",
   "metadata": {},
   "source": [
    "The reduced model supports the analysis of the full model variable determined to be unecessary. The full model accuracy was 81.3% compared to the reduced model of 81.2%. Both the full and reduced model perform slightly better the an all no-default prediction of 77.9%. PAY_0_Sept increased from .65 to .81 and strengthened in the reduced model. BILL_AMT1_Sept reduced to -.13 making it less strong of a predictor. PAY_AMT1_Sept and PAY_AMT2_Aug stayed about the same.\n",
    "\n",
    "    Full:\n",
    "    PAY_0_Sept has weight of 0.653232573843\n",
    "    BILL_AMT1_Sept has weight of -0.430838041295\n",
    "    PAY_AMT1_Sept has weight of -0.222112219852\n",
    "    PAY_AMT2_Aug has weight of -0.213265657919\n",
    "\n",
    "    Reduced:\n",
    "    PAY_0_Sept has weight of 0.814868375171\n",
    "    BILL_AMT1_Sept has weight of -0.128287509554\n",
    "    PAY_AMT1_Sept has weight of -0.206584021648\n",
    "    PAY_AMT2_Aug has weight of -0.262202777898"
   ]
  },
  {
   "cell_type": "markdown",
   "metadata": {},
   "source": [
    "## Support Vector Machine - Using SGDClassifier"
   ]
  },
  {
   "cell_type": "code",
   "execution_count": 21,
   "metadata": {
    "collapsed": false
   },
   "outputs": [
    {
     "name": "stdout",
     "output_type": "stream",
     "text": [
      "The best estimator:  SGDClassifier(alpha=1e-05, average=True, class_weight=None, epsilon=0.1,\n",
      "       eta0=0.0, fit_intercept=False, l1_ratio=0.15,\n",
      "       learning_rate='optimal', loss='hinge', n_iter=3, n_jobs=1,\n",
      "       penalty='l1', power_t=0.5, random_state=None, shuffle=True,\n",
      "       verbose=0, warm_start=False)\n",
      "The best accuracy score is:  0.78\n",
      "The best parameters of model is:  {'penalty': 'l1', 'average': True, 'alpha': 1e-05, 'fit_intercept': False}\n"
     ]
    }
   ],
   "source": [
    "# Create New Cross Validation object\n",
    "svg_cv_object = ShuffleSplit(n=len(cc_data_target), n_iter=10, test_size  = 0.2)\n",
    "\n",
    "# Initial fixed parmeters\n",
    "model = SGDClassifier(loss='hinge', n_iter=3, learning_rate='optimal')\n",
    "\n",
    "# Parameteres to search on:\n",
    "params = {'penalty':('l1','l2'),\n",
    "          'fit_intercept':(True, False),\n",
    "          'average':(True,False),\n",
    "          'alpha':[.000001, .00001, .0001]} \n",
    "          #'alpha':np.arange(.00001, .001, 0.00005)}\n",
    "\n",
    "# Run grid search with cv_object\n",
    "sgd_clf = grid_searcher(cc_data_Xs, cc_data_target, model, params, svg_cv_object)\n",
    "\n",
    "# Print grid serach results\n",
    "print(\"The best estimator: \",sgd_clf.best_estimator_)\n",
    "print(\"The best accuracy score is: \", sgd_clf.best_score_)\n",
    "print(\"The best parameters of model is: \",sgd_clf.best_params_)"
   ]
  },
  {
   "cell_type": "code",
   "execution_count": 22,
   "metadata": {
    "collapsed": false
   },
   "outputs": [
    {
     "name": "stdout",
     "output_type": "stream",
     "text": [
      "====Iteration 0  ====\n",
      "\n",
      "*SCALED DATA*\n",
      "accuracy 0.550833333333\n",
      "confusion matrix\n",
      " [[2417 2272]\n",
      " [ 423  888]]\n",
      "Classification Report:\n",
      "              precision    recall  f1-score   support\n",
      "\n",
      "          0       0.85      0.52      0.64      4689\n",
      "          1       0.28      0.68      0.40      1311\n",
      "\n",
      "avg / total       0.73      0.55      0.59      6000\n",
      "\n",
      "ROC Score \n",
      " 0.596403628337\n",
      "\n",
      "====Iteration 1  ====\n",
      "\n",
      "*SCALED DATA*\n",
      "accuracy 0.5785\n",
      "confusion matrix\n",
      " [[2560 2130]\n",
      " [ 399  911]]\n",
      "Classification Report:\n",
      "              precision    recall  f1-score   support\n",
      "\n",
      "          0       0.87      0.55      0.67      4690\n",
      "          1       0.30      0.70      0.42      1310\n",
      "\n",
      "avg / total       0.74      0.58      0.61      6000\n",
      "\n",
      "ROC Score \n",
      " 0.620631032406\n",
      "\n",
      "====Iteration 2  ====\n",
      "\n",
      "*SCALED DATA*\n",
      "accuracy 0.56\n",
      "confusion matrix\n",
      " [[2350 2334]\n",
      " [ 306 1010]]\n",
      "Classification Report:\n",
      "              precision    recall  f1-score   support\n",
      "\n",
      "          0       0.88      0.50      0.64      4684\n",
      "          1       0.30      0.77      0.43      1316\n",
      "\n",
      "avg / total       0.76      0.56      0.59      6000\n",
      "\n",
      "ROC Score \n",
      " 0.634592572789\n",
      "\n",
      "====Iteration 3  ====\n",
      "\n",
      "*SCALED DATA*\n",
      "accuracy 0.573\n",
      "confusion matrix\n",
      " [[2433 2197]\n",
      " [ 365 1005]]\n",
      "Classification Report:\n",
      "              precision    recall  f1-score   support\n",
      "\n",
      "          0       0.87      0.53      0.66      4630\n",
      "          1       0.31      0.73      0.44      1370\n",
      "\n",
      "avg / total       0.74      0.57      0.61      6000\n",
      "\n",
      "ROC Score \n",
      " 0.629531301729\n",
      "\n",
      "====Iteration 4  ====\n",
      "\n",
      "*SCALED DATA*\n",
      "accuracy 0.553833333333\n",
      "confusion matrix\n",
      " [[2318 2344]\n",
      " [ 333 1005]]\n",
      "Classification Report:\n",
      "              precision    recall  f1-score   support\n",
      "\n",
      "          0       0.87      0.50      0.63      4662\n",
      "          1       0.30      0.75      0.43      1338\n",
      "\n",
      "avg / total       0.75      0.55      0.59      6000\n",
      "\n",
      "ROC Score \n",
      " 0.624166286722\n",
      "\n",
      "====Iteration 5  ====\n",
      "\n",
      "*SCALED DATA*\n",
      "accuracy 0.559666666667\n",
      "confusion matrix\n",
      " [[2429 2247]\n",
      " [ 395  929]]\n",
      "Classification Report:\n",
      "              precision    recall  f1-score   support\n",
      "\n",
      "          0       0.86      0.52      0.65      4676\n",
      "          1       0.29      0.70      0.41      1324\n",
      "\n",
      "avg / total       0.73      0.56      0.60      6000\n",
      "\n",
      "ROC Score \n",
      " 0.610561354632\n",
      "\n",
      "====Iteration 6  ====\n",
      "\n",
      "*SCALED DATA*\n",
      "accuracy 0.5715\n",
      "confusion matrix\n",
      " [[2454 2197]\n",
      " [ 374  975]]\n",
      "Classification Report:\n",
      "              precision    recall  f1-score   support\n",
      "\n",
      "          0       0.87      0.53      0.66      4651\n",
      "          1       0.31      0.72      0.43      1349\n",
      "\n",
      "avg / total       0.74      0.57      0.61      6000\n",
      "\n",
      "ROC Score \n",
      " 0.625193032609\n",
      "\n",
      "====Iteration 7  ====\n",
      "\n",
      "*SCALED DATA*\n",
      "accuracy 0.571333333333\n",
      "confusion matrix\n",
      " [[2506 2205]\n",
      " [ 367  922]]\n",
      "Classification Report:\n",
      "              precision    recall  f1-score   support\n",
      "\n",
      "          0       0.87      0.53      0.66      4711\n",
      "          1       0.29      0.72      0.42      1289\n",
      "\n",
      "avg / total       0.75      0.57      0.61      6000\n",
      "\n",
      "ROC Score \n",
      " 0.623614836708\n",
      "\n",
      "====Iteration 8  ====\n",
      "\n",
      "*SCALED DATA*\n",
      "accuracy 0.58\n",
      "confusion matrix\n",
      " [[2546 2168]\n",
      " [ 352  934]]\n",
      "Classification Report:\n",
      "              precision    recall  f1-score   support\n",
      "\n",
      "          0       0.88      0.54      0.67      4714\n",
      "          1       0.30      0.73      0.43      1286\n",
      "\n",
      "avg / total       0.75      0.58      0.62      6000\n",
      "\n",
      "ROC Score \n",
      " 0.633188193601\n",
      "\n",
      "====Iteration 9  ====\n",
      "\n",
      "*SCALED DATA*\n",
      "accuracy 0.543666666667\n",
      "confusion matrix\n",
      " [[2308 2336]\n",
      " [ 402  954]]\n",
      "Classification Report:\n",
      "              precision    recall  f1-score   support\n",
      "\n",
      "          0       0.85      0.50      0.63      4644\n",
      "          1       0.29      0.70      0.41      1356\n",
      "\n",
      "avg / total       0.72      0.54      0.58      6000\n",
      "\n",
      "ROC Score \n",
      " 0.60026259023\n",
      "\n",
      "done. It took 3.4191956520080566 seconds.\n"
     ]
    }
   ],
   "source": [
    "### Run best model from grid search to get the coefficients from scaled data for interpretation\n",
    "sgd_coef_scaled, sgd_acc_scaled = full_classify(cc_data_Xs, cc_data_target, cv_object, sgd_clf.best_estimator_, scale=True)"
   ]
  },
  {
   "cell_type": "code",
   "execution_count": 23,
   "metadata": {
    "collapsed": false
   },
   "outputs": [
    {
     "name": "stdout",
     "output_type": "stream",
     "text": [
      "The average accuracy score is:  0.564233333333\n",
      "Coefficients and column names same length: True\n",
      "\n",
      "EDUCATION has weight of 0.148607387008\n",
      "PAY_0_Sept has weight of 13.053482645\n",
      "PAY_2_Aug has weight of 3.58688416982\n",
      "PAY_3_July has weight of 1.76654151484\n",
      "PAY_4_June has weight of 2.53507373026\n",
      "PAY_5_May has weight of 1.58251724955\n",
      "PAY_6_April has weight of 0.270904226348\n",
      "BILL_AMT1_Sept has weight of -5.94482030176\n",
      "BILL_AMT2_Aug has weight of 0.545065801433\n",
      "BILL_AMT3_July has weight of 0.000571966026425\n",
      "BILL_AMT4_June has weight of -1.85810344136\n",
      "BILL_AMT5_May has weight of 1.96153885103\n",
      "BILL_AMT6_April has weight of -2.3794252247\n",
      "PAY_AMT1_Sept has weight of -7.07208706179\n",
      "PAY_AMT2_Aug has weight of -10.1701097083\n",
      "PAY_AMT3_July has weight of -3.98998300133\n",
      "PAY_AMT4_June has weight of -4.1063813293\n",
      "PAY_AMT5_May has weight of -1.07742468924\n",
      "PAY_AMT6_April has weight of -2.10003212543\n",
      "AGE_range has weight of 2.00540573592\n",
      "LIMIT_BAL_range has weight of 0.110345155171\n",
      "isMale has weight of -0.505892741684\n",
      "Marriage_Married has weight of 1.23578388641\n",
      "Marriage_Others has weight of 1.50822237524\n",
      "Marriage_Single has weight of -1.4875832807\n"
     ]
    },
    {
     "data": {
      "image/png": "[encoded data removed]",
      "text/plain": [
       "<matplotlib.figure.Figure at 0x5d37dd8>"
      ]
     },
     "metadata": {},
     "output_type": "display_data"
    }
   ],
   "source": [
    "analysis(sgd_coef_scaled, sgd_acc_scaled, cc_data_Xs_names)"
   ]
  },
  {
   "cell_type": "markdown",
   "metadata": {},
   "source": [
    "## SGD Full Model Interpretation\n",
    "\n",
    "Like the previous logistic model, 'PAY_0_Sept', 'BILL_AMT1_Sept', 'PAY_AMT1_Sept', and 'PAY_AMT2_Aug' are important predictors to default. Also evident is the multicollinearity BILL_AMT features, with BILL_AMT1 showing the strongest predictor and BILL_AMT2 - BILL_AMT6 not at all. 'PAY_AMT1_Sept' and 'PAY_AMT2_Aug' also standout."
   ]
  },
  {
   "cell_type": "markdown",
   "metadata": {},
   "source": [
    "## SGD Reduced Model"
   ]
  },
  {
   "cell_type": "code",
   "execution_count": 24,
   "metadata": {
    "collapsed": true
   },
   "outputs": [],
   "source": [
    "svg_reduced_model = ['PAY_0_Sept',\n",
    "                     'BILL_AMT1_Sept',\n",
    "                     'PAY_AMT1_Sept',\n",
    "                     'PAY_AMT2_Aug']\n",
    "\n",
    "cc_data_Xs_svg_reduced = cc_data_processed[svg_reduced_model].values\n",
    "\n",
    "# Column names for labeling\n",
    "cc_data_Xs_names_sr = cc_data_processed[svg_reduced_model].columns"
   ]
  },
  {
   "cell_type": "code",
   "execution_count": 25,
   "metadata": {
    "collapsed": false,
    "scrolled": false
   },
   "outputs": [
    {
     "name": "stdout",
     "output_type": "stream",
     "text": [
      "====Iteration 0  ====\n",
      "\n",
      "*SCALED DATA*\n",
      "accuracy 0.520666666667\n",
      "confusion matrix\n",
      " [[2153 2579]\n",
      " [ 297  971]]\n",
      "Classification Report:\n",
      "              precision    recall  f1-score   support\n",
      "\n",
      "          0       0.88      0.45      0.60      4732\n",
      "          1       0.27      0.77      0.40      1268\n",
      "\n",
      "avg / total       0.75      0.52      0.56      6000\n",
      "\n",
      "ROC Score \n",
      " 0.610380095517\n",
      "\n",
      "====Iteration 1  ====\n",
      "\n",
      "*SCALED DATA*\n",
      "accuracy 0.53\n",
      "confusion matrix\n",
      " [[2154 2500]\n",
      " [ 320 1026]]\n",
      "Classification Report:\n",
      "              precision    recall  f1-score   support\n",
      "\n",
      "          0       0.87      0.46      0.60      4654\n",
      "          1       0.29      0.76      0.42      1346\n",
      "\n",
      "avg / total       0.74      0.53      0.56      6000\n",
      "\n",
      "ROC Score \n",
      " 0.612543109476\n",
      "\n",
      "====Iteration 2  ====\n",
      "\n",
      "*SCALED DATA*\n",
      "accuracy 0.521666666667\n",
      "confusion matrix\n",
      " [[2169 2494]\n",
      " [ 376  961]]\n",
      "Classification Report:\n",
      "              precision    recall  f1-score   support\n",
      "\n",
      "          0       0.85      0.47      0.60      4663\n",
      "          1       0.28      0.72      0.40      1337\n",
      "\n",
      "avg / total       0.72      0.52      0.56      6000\n",
      "\n",
      "ROC Score \n",
      " 0.591962281722\n",
      "\n",
      "====Iteration 3  ====\n",
      "\n",
      "*SCALED DATA*\n",
      "accuracy 0.505333333333\n",
      "confusion matrix\n",
      " [[2070 2604]\n",
      " [ 364  962]]\n",
      "Classification Report:\n",
      "              precision    recall  f1-score   support\n",
      "\n",
      "          0       0.85      0.44      0.58      4674\n",
      "          1       0.27      0.73      0.39      1326\n",
      "\n",
      "avg / total       0.72      0.51      0.54      6000\n",
      "\n",
      "ROC Score \n",
      " 0.584182838732\n",
      "\n",
      "====Iteration 4  ====\n",
      "\n",
      "*SCALED DATA*\n",
      "accuracy 0.515\n",
      "confusion matrix\n",
      " [[2031 2639]\n",
      " [ 271 1059]]\n",
      "Classification Report:\n",
      "              precision    recall  f1-score   support\n",
      "\n",
      "          0       0.88      0.43      0.58      4670\n",
      "          1       0.29      0.80      0.42      1330\n",
      "\n",
      "avg / total       0.75      0.52      0.55      6000\n",
      "\n",
      "ROC Score \n",
      " 0.61557212088\n",
      "\n",
      "====Iteration 5  ====\n",
      "\n",
      "*SCALED DATA*\n",
      "accuracy 0.517833333333\n",
      "confusion matrix\n",
      " [[2082 2581]\n",
      " [ 312 1025]]\n",
      "Classification Report:\n",
      "              precision    recall  f1-score   support\n",
      "\n",
      "          0       0.87      0.45      0.59      4663\n",
      "          1       0.28      0.77      0.41      1337\n",
      "\n",
      "avg / total       0.74      0.52      0.55      6000\n",
      "\n",
      "ROC Score \n",
      " 0.606567704414\n",
      "\n",
      "====Iteration 6  ====\n",
      "\n",
      "*SCALED DATA*\n",
      "accuracy 0.461666666667\n",
      "confusion matrix\n",
      " [[1719 2940]\n",
      " [ 290 1051]]\n",
      "Classification Report:\n",
      "              precision    recall  f1-score   support\n",
      "\n",
      "          0       0.86      0.37      0.52      4659\n",
      "          1       0.26      0.78      0.39      1341\n",
      "\n",
      "avg / total       0.72      0.46      0.49      6000\n",
      "\n",
      "ROC Score \n",
      " 0.576353385932\n",
      "\n",
      "====Iteration 7  ====\n",
      "\n",
      "*SCALED DATA*\n",
      "accuracy 0.511833333333\n",
      "confusion matrix\n",
      " [[2160 2509]\n",
      " [ 420  911]]\n",
      "Classification Report:\n",
      "              precision    recall  f1-score   support\n",
      "\n",
      "          0       0.84      0.46      0.60      4669\n",
      "          1       0.27      0.68      0.38      1331\n",
      "\n",
      "avg / total       0.71      0.51      0.55      6000\n",
      "\n",
      "ROC Score \n",
      " 0.573536806782\n",
      "\n",
      "====Iteration 8  ====\n",
      "\n",
      "*SCALED DATA*\n",
      "accuracy 0.557\n",
      "confusion matrix\n",
      " [[2438 2238]\n",
      " [ 420  904]]\n",
      "Classification Report:\n",
      "              precision    recall  f1-score   support\n",
      "\n",
      "          0       0.85      0.52      0.65      4676\n",
      "          1       0.29      0.68      0.40      1324\n",
      "\n",
      "avg / total       0.73      0.56      0.59      6000\n",
      "\n",
      "ROC Score \n",
      " 0.602082628011\n",
      "\n",
      "====Iteration 9  ====\n",
      "\n",
      "*SCALED DATA*\n",
      "accuracy 0.463166666667\n",
      "confusion matrix\n",
      " [[1741 2935]\n",
      " [ 286 1038]]\n",
      "Classification Report:\n",
      "              precision    recall  f1-score   support\n",
      "\n",
      "          0       0.86      0.37      0.52      4676\n",
      "          1       0.26      0.78      0.39      1324\n",
      "\n",
      "avg / total       0.73      0.46      0.49      6000\n",
      "\n",
      "ROC Score \n",
      " 0.578157345215\n",
      "\n",
      "done. It took 0.26201486587524414 seconds.\n"
     ]
    }
   ],
   "source": [
    "sgd_coef_scaled_sr, sgd_acc_scaled_sr = full_classify(cc_data_Xs_svg_reduced, cc_data_target, cv_object, \n",
    "                                                sgd_clf.best_estimator_, scale=True)"
   ]
  },
  {
   "cell_type": "code",
   "execution_count": 26,
   "metadata": {
    "collapsed": false
   },
   "outputs": [
    {
     "name": "stdout",
     "output_type": "stream",
     "text": [
      "The average accuracy score is:  0.510416666667\n",
      "Coefficients and column names same length: True\n",
      "\n",
      "PAY_0_Sept has weight of 3.10510753163\n",
      "BILL_AMT1_Sept has weight of 0.106141889915\n",
      "PAY_AMT1_Sept has weight of -2.1774811581\n",
      "PAY_AMT2_Aug has weight of -3.33324709372\n"
     ]
    },
    {
     "data": {
      "image/png": "[encoded data removed]",
      "text/plain": [
       "<matplotlib.figure.Figure at 0x5ce15f8>"
      ]
     },
     "metadata": {},
     "output_type": "display_data"
    }
   ],
   "source": [
    "analysis(sgd_coef_scaled_sr, sgd_acc_scaled_sr, cc_data_Xs_names_sr)"
   ]
  },
  {
   "cell_type": "markdown",
   "metadata": {},
   "source": [
    "#### Reduced Model Analysis\n",
    "Compared to the full SGD model the reduced model has an average accuracy of 79.5% compared to 81.2%, which is not much more than an all no-default prediction of 77.9%. On this given data set and features the SGD performs slightly worse compared to the logistic regression model."
   ]
  },
  {
   "cell_type": "markdown",
   "metadata": {},
   "source": [
    "### Reduced Model us SVC"
   ]
  },
  {
   "cell_type": "code",
   "execution_count": 27,
   "metadata": {
    "collapsed": false,
    "scrolled": false
   },
   "outputs": [
    {
     "name": "stdout",
     "output_type": "stream",
     "text": [
      "====Iteration 0  ====\n",
      "\n",
      "*SCALED DATA*\n",
      "accuracy 0.790833333333\n",
      "confusion matrix\n",
      " [[4745    0]\n",
      " [1255    0]]\n",
      "Classification Report:\n",
      "              precision    recall  f1-score   support\n",
      "\n",
      "          0       0.79      1.00      0.88      4745\n",
      "          1       0.00      0.00      0.00      1255\n",
      "\n",
      "avg / total       0.63      0.79      0.70      6000\n",
      "\n",
      "ROC Score \n",
      " 0.5\n",
      "\n",
      "====Iteration 1  ====\n"
     ]
    },
    {
     "name": "stderr",
     "output_type": "stream",
     "text": [
      "C:\\Users\\ryan.shuhart\\AppData\\Local\\Continuum\\Anaconda3\\lib\\site-packages\\sklearn\\metrics\\classification.py:1074: UndefinedMetricWarning: Precision and F-score are ill-defined and being set to 0.0 in labels with no predicted samples.\n",
      "  'precision', 'predicted', average, warn_for)\n"
     ]
    },
    {
     "name": "stdout",
     "output_type": "stream",
     "text": [
      "\n",
      "*SCALED DATA*\n",
      "accuracy 0.7785\n",
      "confusion matrix\n",
      " [[4671    0]\n",
      " [1329    0]]\n",
      "Classification Report:\n",
      "              precision    recall  f1-score   support\n",
      "\n",
      "          0       0.78      1.00      0.88      4671\n",
      "          1       0.00      0.00      0.00      1329\n",
      "\n",
      "avg / total       0.61      0.78      0.68      6000\n",
      "\n",
      "ROC Score \n",
      " 0.5\n",
      "\n",
      "====Iteration 2  ====\n"
     ]
    },
    {
     "name": "stderr",
     "output_type": "stream",
     "text": [
      "C:\\Users\\ryan.shuhart\\AppData\\Local\\Continuum\\Anaconda3\\lib\\site-packages\\sklearn\\metrics\\classification.py:1074: UndefinedMetricWarning: Precision and F-score are ill-defined and being set to 0.0 in labels with no predicted samples.\n",
      "  'precision', 'predicted', average, warn_for)\n"
     ]
    },
    {
     "name": "stdout",
     "output_type": "stream",
     "text": [
      "\n",
      "*SCALED DATA*\n",
      "accuracy 0.7755\n",
      "confusion matrix\n",
      " [[4653    0]\n",
      " [1347    0]]\n",
      "Classification Report:\n",
      "              precision    recall  f1-score   support\n",
      "\n",
      "          0       0.78      1.00      0.87      4653\n",
      "          1       0.00      0.00      0.00      1347\n",
      "\n",
      "avg / total       0.60      0.78      0.68      6000\n",
      "\n",
      "ROC Score \n",
      " 0.5\n",
      "\n",
      "====Iteration 3  ====\n"
     ]
    },
    {
     "name": "stderr",
     "output_type": "stream",
     "text": [
      "C:\\Users\\ryan.shuhart\\AppData\\Local\\Continuum\\Anaconda3\\lib\\site-packages\\sklearn\\metrics\\classification.py:1074: UndefinedMetricWarning: Precision and F-score are ill-defined and being set to 0.0 in labels with no predicted samples.\n",
      "  'precision', 'predicted', average, warn_for)\n"
     ]
    },
    {
     "name": "stdout",
     "output_type": "stream",
     "text": [
      "\n",
      "*SCALED DATA*\n",
      "accuracy 0.777333333333\n",
      "confusion matrix\n",
      " [[4664    0]\n",
      " [1336    0]]\n",
      "Classification Report:\n",
      "              precision    recall  f1-score   support\n",
      "\n",
      "          0       0.78      1.00      0.87      4664\n",
      "          1       0.00      0.00      0.00      1336\n",
      "\n",
      "avg / total       0.60      0.78      0.68      6000\n",
      "\n",
      "ROC Score \n",
      " 0.5\n",
      "\n",
      "====Iteration 4  ====\n"
     ]
    },
    {
     "name": "stderr",
     "output_type": "stream",
     "text": [
      "C:\\Users\\ryan.shuhart\\AppData\\Local\\Continuum\\Anaconda3\\lib\\site-packages\\sklearn\\metrics\\classification.py:1074: UndefinedMetricWarning: Precision and F-score are ill-defined and being set to 0.0 in labels with no predicted samples.\n",
      "  'precision', 'predicted', average, warn_for)\n"
     ]
    },
    {
     "name": "stdout",
     "output_type": "stream",
     "text": [
      "\n",
      "*SCALED DATA*\n",
      "accuracy 0.7795\n",
      "confusion matrix\n",
      " [[4677    0]\n",
      " [1323    0]]\n",
      "Classification Report:\n",
      "              precision    recall  f1-score   support\n",
      "\n",
      "          0       0.78      1.00      0.88      4677\n",
      "          1       0.00      0.00      0.00      1323\n",
      "\n",
      "avg / total       0.61      0.78      0.68      6000\n",
      "\n",
      "ROC Score \n",
      " 0.5\n",
      "\n",
      "====Iteration 5  ====\n"
     ]
    },
    {
     "name": "stderr",
     "output_type": "stream",
     "text": [
      "C:\\Users\\ryan.shuhart\\AppData\\Local\\Continuum\\Anaconda3\\lib\\site-packages\\sklearn\\metrics\\classification.py:1074: UndefinedMetricWarning: Precision and F-score are ill-defined and being set to 0.0 in labels with no predicted samples.\n",
      "  'precision', 'predicted', average, warn_for)\n"
     ]
    },
    {
     "name": "stdout",
     "output_type": "stream",
     "text": [
      "\n",
      "*SCALED DATA*\n",
      "accuracy 0.786166666667\n",
      "confusion matrix\n",
      " [[4717    0]\n",
      " [1283    0]]\n",
      "Classification Report:\n",
      "              precision    recall  f1-score   support\n",
      "\n",
      "          0       0.79      1.00      0.88      4717\n",
      "          1       0.00      0.00      0.00      1283\n",
      "\n",
      "avg / total       0.62      0.79      0.69      6000\n",
      "\n",
      "ROC Score \n",
      " 0.5\n",
      "\n",
      "====Iteration 6  ====\n"
     ]
    },
    {
     "name": "stderr",
     "output_type": "stream",
     "text": [
      "C:\\Users\\ryan.shuhart\\AppData\\Local\\Continuum\\Anaconda3\\lib\\site-packages\\sklearn\\metrics\\classification.py:1074: UndefinedMetricWarning: Precision and F-score are ill-defined and being set to 0.0 in labels with no predicted samples.\n",
      "  'precision', 'predicted', average, warn_for)\n"
     ]
    },
    {
     "name": "stdout",
     "output_type": "stream",
     "text": [
      "\n",
      "*SCALED DATA*\n",
      "accuracy 0.772666666667\n",
      "confusion matrix\n",
      " [[4636    0]\n",
      " [1364    0]]\n",
      "Classification Report:\n",
      "              precision    recall  f1-score   support\n",
      "\n",
      "          0       0.77      1.00      0.87      4636\n",
      "          1       0.00      0.00      0.00      1364\n",
      "\n",
      "avg / total       0.60      0.77      0.67      6000\n",
      "\n",
      "ROC Score \n",
      " 0.5\n",
      "\n",
      "====Iteration 7  ====\n"
     ]
    },
    {
     "name": "stderr",
     "output_type": "stream",
     "text": [
      "C:\\Users\\ryan.shuhart\\AppData\\Local\\Continuum\\Anaconda3\\lib\\site-packages\\sklearn\\metrics\\classification.py:1074: UndefinedMetricWarning: Precision and F-score are ill-defined and being set to 0.0 in labels with no predicted samples.\n",
      "  'precision', 'predicted', average, warn_for)\n"
     ]
    },
    {
     "name": "stdout",
     "output_type": "stream",
     "text": [
      "\n",
      "*SCALED DATA*\n",
      "accuracy 0.785833333333\n",
      "confusion matrix\n",
      " [[4715    0]\n",
      " [1285    0]]\n",
      "Classification Report:\n",
      "              precision    recall  f1-score   support\n",
      "\n",
      "          0       0.79      1.00      0.88      4715\n",
      "          1       0.00      0.00      0.00      1285\n",
      "\n",
      "avg / total       0.62      0.79      0.69      6000\n",
      "\n",
      "ROC Score \n",
      " 0.5\n",
      "\n",
      "====Iteration 8  ====\n"
     ]
    },
    {
     "name": "stderr",
     "output_type": "stream",
     "text": [
      "C:\\Users\\ryan.shuhart\\AppData\\Local\\Continuum\\Anaconda3\\lib\\site-packages\\sklearn\\metrics\\classification.py:1074: UndefinedMetricWarning: Precision and F-score are ill-defined and being set to 0.0 in labels with no predicted samples.\n",
      "  'precision', 'predicted', average, warn_for)\n"
     ]
    },
    {
     "name": "stdout",
     "output_type": "stream",
     "text": [
      "\n",
      "*SCALED DATA*\n",
      "accuracy 0.772333333333\n",
      "confusion matrix\n",
      " [[4634    0]\n",
      " [1366    0]]\n",
      "Classification Report:\n",
      "              precision    recall  f1-score   support\n",
      "\n",
      "          0       0.77      1.00      0.87      4634\n",
      "          1       0.00      0.00      0.00      1366\n",
      "\n",
      "avg / total       0.60      0.77      0.67      6000\n",
      "\n",
      "ROC Score \n",
      " 0.5\n",
      "\n",
      "====Iteration 9  ====\n"
     ]
    },
    {
     "name": "stderr",
     "output_type": "stream",
     "text": [
      "C:\\Users\\ryan.shuhart\\AppData\\Local\\Continuum\\Anaconda3\\lib\\site-packages\\sklearn\\metrics\\classification.py:1074: UndefinedMetricWarning: Precision and F-score are ill-defined and being set to 0.0 in labels with no predicted samples.\n",
      "  'precision', 'predicted', average, warn_for)\n"
     ]
    },
    {
     "name": "stdout",
     "output_type": "stream",
     "text": [
      "\n",
      "*SCALED DATA*\n",
      "accuracy 0.776\n",
      "confusion matrix\n",
      " [[4656    0]\n",
      " [1344    0]]\n",
      "Classification Report:\n",
      "              precision    recall  f1-score   support\n",
      "\n",
      "          0       0.78      1.00      0.87      4656\n",
      "          1       0.00      0.00      0.00      1344\n",
      "\n",
      "avg / total       0.60      0.78      0.68      6000\n",
      "\n",
      "ROC Score \n",
      " 0.5\n",
      "\n",
      "done. It took 99.97271800041199 seconds.\n"
     ]
    },
    {
     "name": "stderr",
     "output_type": "stream",
     "text": [
      "C:\\Users\\ryan.shuhart\\AppData\\Local\\Continuum\\Anaconda3\\lib\\site-packages\\sklearn\\metrics\\classification.py:1074: UndefinedMetricWarning: Precision and F-score are ill-defined and being set to 0.0 in labels with no predicted samples.\n",
      "  'precision', 'predicted', average, warn_for)\n"
     ]
    }
   ],
   "source": [
    "model = SVC(kernel='linear', C=1)\n",
    "svc_coef_scaled_r, svc_acc_scaled_r = full_classify(cc_data_Xs_svg_reduced, cc_data_target, cv_object, \n",
    "                                                         model, scale=True)"
   ]
  },
  {
   "cell_type": "code",
   "execution_count": 28,
   "metadata": {
    "collapsed": false
   },
   "outputs": [
    {
     "name": "stdout",
     "output_type": "stream",
     "text": [
      "The average accuracy score is:  0.779466666667\n",
      "Coefficients and column names same length: True\n",
      "\n",
      "PAY_0_Sept has weight of 0.0003086936738\n",
      "BILL_AMT1_Sept has weight of -2.51821550781e-05\n",
      "PAY_AMT1_Sept has weight of -1.40552211838e-05\n",
      "PAY_AMT2_Aug has weight of -1.4120172758e-05\n"
     ]
    },
    {
     "data": {
      "image/png": "[encoded data removed]",
      "text/plain": [
       "<matplotlib.figure.Figure at 0x5c08a90>"
      ]
     },
     "metadata": {},
     "output_type": "display_data"
    }
   ],
   "source": [
    "analysis(svc_coef_scaled_r, svc_acc_scaled_r, cc_data_Xs_names_sr)"
   ]
  },
  {
   "cell_type": "markdown",
   "metadata": {},
   "source": [
    "# Comparison of Logistic Regression and SGD/SVC\n",
    "\n",
    "Logistic regression has an advantage of accuracy, but the performance is slower than SGD. Logistict regression took about 18 seconds, whereas, SGD took less than 4 seconds. The SGD classifier performance was about the same in terms of the average accuracy. On the other hand, the SVC classifier took so long, it was never completed and stopped after 2 hours. The SVC model on the reduce feature set as determined by the SGD classifier, took 60 seconds and showed it predicted only the 'no default' class. Perhaps further feature engineering could give SVC better performance."
   ]
  }
 ],
 "metadata": {
  "kernelspec": {
   "display_name": "Python 3",
   "language": "python",
   "name": "python3"
  },
  "language_info": {
   "codemirror_mode": {
    "name": "ipython",
    "version": 3
   },
   "file_extension": ".py",
   "mimetype": "text/x-python",
   "name": "python",
   "nbconvert_exporter": "python",
   "pygments_lexer": "ipython3",
   "version": "3.5.1"
  }
 },
 "nbformat": 4,
 "nbformat_minor": 0
}
