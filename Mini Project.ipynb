{
 "cells": [
  {
   "cell_type": "markdown",
   "metadata": {
    "collapsed": true
   },
   "source": [
    "# MSDS 7331 - Mini-Project: SVM&LR Classification\n",
    "## Team: Dineen Parker, Dale Legband, Ryan Shuhart\n",
    "collaboration site: https://github.com/rlshuhart/MSDS7331_Mini-Lab"
   ]
  },
  {
   "cell_type": "markdown",
   "metadata": {},
   "source": [
    "### Log to capture iterations of findings and ideas for feature selection and analysis"
   ]
  },
  {
   "cell_type": "markdown",
   "metadata": {},
   "source": [
    "1. First attempt of logistic model revealed need to one-hot encode categorical variables\n",
    "2. After numerically encoding categorical variables, the logistic model more or less predicted all to not default.\n",
    "3. Changeing penalty on logistic model from l2 to l1 improved the model by about 3 percentage points.\n",
    "4. Changing class_weight='balanced' negatively impacted model\n",
    "5. Changing C to 100 had no impact\n",
    "6. Changing C to .0001 had small negative impact\n",
    "7. Reviewed logistic coefficients on scaled data and it appears the most recent pay status (PAY_0_Sept), the most recent two bill amounts ('BILL_AMT1_Sept', 'BILL_AMT2_Aug'), the most recent two payment amounts are the highest predictors ('PAY_AMT1_Sept', 'PAY_AMT2_Aug').\n",
    "8. Full SVM Model was stopped after not completing after 2 hours. SGD will be pursued instead."
   ]
  },
  {
   "cell_type": "markdown",
   "metadata": {},
   "source": [
    "## SVM and Logistic Regression Modeling  \n",
    "* [50 points] Create a logistic regression model and a support vector machine model for the classiﬁcation task involved with your dataset. Assess how well each model performs (use 80/20 training/testing split for your data). Adjust parameters of the models to make them more accurate. If your dataset size requires the use of stochastic gradient descent, then linear kernel only is ﬁne to use. \n",
    "* [10 points] Discuss the advantages of each model for each classiﬁcation task. Does one type of model offer superior performance over another in terms of prediction accuracy? In terms of training time or efﬁciency? Explain in detail.  \n",
    "* [30 points] Use the weights from logistic regression to interpret the importance of different features for each classiﬁcation task. Explain your interpretation in detail. Why do you think some variables are more important? \n",
    "* [10 points] Look at the chosen support vectors for the classiﬁcation task. Do these provide any insight into the data? Explain"
   ]
  },
  {
   "cell_type": "code",
   "execution_count": 1,
   "metadata": {
    "collapsed": true
   },
   "outputs": [],
   "source": [
    "### Modules Used ###\n",
    "\n",
    "# Data manipulation: pandas and numpy\n",
    "import pandas as pd\n",
    "import numpy as np\n",
    "\n",
    "# Visualization: seaborn and matplotlib\n",
    "import matplotlib.pyplot as plt\n",
    "import seaborn as sns\n",
    "\n",
    "import time"
   ]
  },
  {
   "cell_type": "markdown",
   "metadata": {},
   "source": [
    "# Read in preprocessed data from previous assignment"
   ]
  },
  {
   "cell_type": "code",
   "execution_count": 2,
   "metadata": {
    "collapsed": false
   },
   "outputs": [],
   "source": [
    "# Random but useful fact: if the first record in a csv file is \n",
    "# \"ID\" than Excel will interpret it as a SYLK file\n",
    "# https://annalear.ca/2010/06/10/why-excel-thinks-your-csv-is-a-sylk/\n",
    "\n",
    "#data_url = \"https://raw.githubusercontent.com/rlshuhart/MSDS7331_Project_1/master/cc_data/cc_data_processed.csv\"\n",
    "data_url = \"../MSDS7331_Project_1/cc_data/cc_data_processed.csv\"\n",
    "\n",
    "cc_data = pd.read_csv(data_url, index_col='ID')"
   ]
  },
  {
   "cell_type": "code",
   "execution_count": 3,
   "metadata": {
    "collapsed": false
   },
   "outputs": [
    {
     "name": "stdout",
     "output_type": "stream",
     "text": [
      "<class 'pandas.core.frame.DataFrame'>\n",
      "Int64Index: 30000 entries, 1 to 30000\n",
      "Data columns (total 27 columns):\n",
      "LIMIT_BAL                     30000 non-null int64\n",
      "SEX                           30000 non-null object\n",
      "EDUCATION                     30000 non-null object\n",
      "MARRIAGE                      30000 non-null object\n",
      "AGE                           30000 non-null int64\n",
      "PAY_0_Sept                    30000 non-null int64\n",
      "PAY_2_Aug                     30000 non-null int64\n",
      "PAY_3_July                    30000 non-null int64\n",
      "PAY_4_June                    30000 non-null int64\n",
      "PAY_5_May                     30000 non-null int64\n",
      "PAY_6_April                   30000 non-null int64\n",
      "BILL_AMT1_Sept                30000 non-null int64\n",
      "BILL_AMT2_Aug                 30000 non-null int64\n",
      "BILL_AMT3_July                30000 non-null int64\n",
      "BILL_AMT4_June                30000 non-null int64\n",
      "BILL_AMT5_May                 30000 non-null int64\n",
      "BILL_AMT6_April               30000 non-null int64\n",
      "PAY_AMT1_Sept                 30000 non-null int64\n",
      "PAY_AMT2_Aug                  30000 non-null int64\n",
      "PAY_AMT3_July                 30000 non-null int64\n",
      "PAY_AMT4_June                 30000 non-null int64\n",
      "PAY_AMT5_May                  30000 non-null int64\n",
      "PAY_AMT6_April                30000 non-null int64\n",
      "default payment next month    30000 non-null int64\n",
      "AGE_range                     30000 non-null object\n",
      "LIMIT_BAL_range               30000 non-null object\n",
      "Default_Yes_No                30000 non-null object\n",
      "dtypes: int64(21), object(6)\n",
      "memory usage: 6.4+ MB\n",
      "None\n",
      "\n",
      "Index(['LIMIT_BAL', 'SEX', 'EDUCATION', 'MARRIAGE', 'AGE', 'PAY_0_Sept',\n",
      "       'PAY_2_Aug', 'PAY_3_July', 'PAY_4_June', 'PAY_5_May', 'PAY_6_April',\n",
      "       'BILL_AMT1_Sept', 'BILL_AMT2_Aug', 'BILL_AMT3_July', 'BILL_AMT4_June',\n",
      "       'BILL_AMT5_May', 'BILL_AMT6_April', 'PAY_AMT1_Sept', 'PAY_AMT2_Aug',\n",
      "       'PAY_AMT3_July', 'PAY_AMT4_June', 'PAY_AMT5_May', 'PAY_AMT6_April',\n",
      "       'default payment next month', 'AGE_range', 'LIMIT_BAL_range',\n",
      "       'Default_Yes_No'],\n",
      "      dtype='object')\n"
     ]
    }
   ],
   "source": [
    "print(cc_data.info())\n",
    "print()\n",
    "print(cc_data.columns)"
   ]
  },
  {
   "cell_type": "markdown",
   "metadata": {},
   "source": [
    "# Additional Preprocessing of data"
   ]
  },
  {
   "cell_type": "markdown",
   "metadata": {},
   "source": [
    "### One hot encoding of categorical variables"
   ]
  },
  {
   "cell_type": "code",
   "execution_count": 4,
   "metadata": {
    "collapsed": false
   },
   "outputs": [
    {
     "name": "stdout",
     "output_type": "stream",
     "text": [
      "<class 'pandas.core.frame.DataFrame'>\n",
      "Int64Index: 30000 entries, 1 to 30000\n",
      "Data columns (total 26 columns):\n",
      "EDUCATION                     30000 non-null int64\n",
      "PAY_0_Sept                    30000 non-null int64\n",
      "PAY_2_Aug                     30000 non-null int64\n",
      "PAY_3_July                    30000 non-null int64\n",
      "PAY_4_June                    30000 non-null int64\n",
      "PAY_5_May                     30000 non-null int64\n",
      "PAY_6_April                   30000 non-null int64\n",
      "BILL_AMT1_Sept                30000 non-null int64\n",
      "BILL_AMT2_Aug                 30000 non-null int64\n",
      "BILL_AMT3_July                30000 non-null int64\n",
      "BILL_AMT4_June                30000 non-null int64\n",
      "BILL_AMT5_May                 30000 non-null int64\n",
      "BILL_AMT6_April               30000 non-null int64\n",
      "PAY_AMT1_Sept                 30000 non-null int64\n",
      "PAY_AMT2_Aug                  30000 non-null int64\n",
      "PAY_AMT3_July                 30000 non-null int64\n",
      "PAY_AMT4_June                 30000 non-null int64\n",
      "PAY_AMT5_May                  30000 non-null int64\n",
      "PAY_AMT6_April                30000 non-null int64\n",
      "default payment next month    30000 non-null int64\n",
      "AGE_range                     30000 non-null int64\n",
      "LIMIT_BAL_range               30000 non-null int64\n",
      "isMale                        30000 non-null bool\n",
      "Marriage_Married              30000 non-null float64\n",
      "Marriage_Others               30000 non-null float64\n",
      "Marriage_Single               30000 non-null float64\n",
      "dtypes: bool(1), float64(3), int64(22)\n",
      "memory usage: 6.0 MB\n",
      "None\n"
     ]
    }
   ],
   "source": [
    "# makeing copy of data to retain original input for now. \n",
    "# Have to add .copy() or any change will reflect in the original too.\n",
    "cc_data_processed = cc_data.copy()\n",
    "\n",
    "cats = ['SEX', 'EDUCATION', 'MARRIAGE','AGE_range', 'LIMIT_BAL_range']\n",
    "\n",
    "# SEX convert to isMale\n",
    "cc_data_processed['isMale'] = cc_data['SEX']=='Male'\n",
    "\n",
    "# Two options for Education: \n",
    "# If treating ordinal then keep single columnn but label in numerical order\n",
    "# if nominal then create dummy variables.\n",
    "# Trying ordinal first with 'Others' as the highest. Previous exploration\n",
    "# showed this group have better rates of default which continued the trend\n",
    "# of more education means less likely to default:\n",
    "cc_data_processed['EDUCATION'] = cc_data['EDUCATION'].apply({'High School':0,\n",
    "                                                             'University':1,\n",
    "                                                             'Graduate School':2, \n",
    "                                                             'Others':3}.get)\n",
    "\n",
    "# Marriage is nominal category therefore converting to dummies\n",
    "\n",
    "cc_data_processed = pd.concat((cc_data_processed, \n",
    "                               pd.get_dummies(cc_data['MARRIAGE'], prefix='Marriage')), \n",
    "                               axis=1)\n",
    "\n",
    "# Age range is ordinal category:\n",
    "cc_data_processed['AGE_range'] = cc_data['AGE_range'].apply({'21-30':0,\n",
    "                                                             '31-40':1,\n",
    "                                                             '41-50':2, \n",
    "                                                             '51-60':3,\n",
    "                                                             '61-70':4,\n",
    "                                                             '71-80+':5}.get)\n",
    "# Limit_Bal_Range is ordingal\n",
    "cc_data_processed['LIMIT_BAL_range'] = cc_data['LIMIT_BAL_range'].apply({'0-250k':0,\n",
    "                                                                         '>250k-500k':1,\n",
    "                                                                         '>500k-750k':2,\n",
    "                                                                         '>750k':3}.get)\n",
    "\n",
    "# Drop unused features:\n",
    "# 'Default_Yes_No' - Used for visualization labeling only and same as 'default payment next month'\n",
    "# 'AGE' - Using Age_range instead, may bring back\n",
    "cc_data_processed.drop(['Default_Yes_No','AGE', 'SEX','MARRIAGE', 'LIMIT_BAL'], axis=1, inplace=True)\n",
    "\n",
    "print(cc_data_processed.info())"
   ]
  },
  {
   "cell_type": "markdown",
   "metadata": {},
   "source": [
    "#### Convert data to numpy arrays for training"
   ]
  },
  {
   "cell_type": "code",
   "execution_count": 5,
   "metadata": {
    "collapsed": false
   },
   "outputs": [],
   "source": [
    "cc_data_target = cc_data_processed['default payment next month'].values\n",
    "cc_data_Xs = cc_data_processed.drop('default payment next month', axis='columns').values\n",
    "\n",
    "# Column names for labeling\n",
    "cc_data_Xs_names = cc_data_processed.drop('default payment next month', axis='columns').columns"
   ]
  },
  {
   "cell_type": "markdown",
   "metadata": {},
   "source": [
    "# Prediction Models"
   ]
  },
  {
   "cell_type": "code",
   "execution_count": 6,
   "metadata": {
    "collapsed": true
   },
   "outputs": [],
   "source": [
    "# Scikit Modules\n",
    "from sklearn.cross_validation import cross_val_score, cross_val_predict\n",
    "from sklearn import metrics as mt\n",
    "from sklearn.linear_model import LogisticRegression\n",
    "from sklearn.linear_model import SGDClassifier\n",
    "from sklearn.svm import SVC\n",
    "from sklearn.cross_validation import ShuffleSplit\n",
    "from sklearn.preprocessing import StandardScaler\n",
    "from sklearn import grid_search"
   ]
  },
  {
   "cell_type": "code",
   "execution_count": 7,
   "metadata": {
    "collapsed": false
   },
   "outputs": [],
   "source": [
    "# Create Cross Validation object with an 80/20 split\n",
    "num_cv_iterations = 10\n",
    "num_instances = len(cc_data_target)\n",
    "cv_object = ShuffleSplit(n=num_instances,\n",
    "                         n_iter=num_cv_iterations,\n",
    "                         test_size  = 0.2)"
   ]
  },
  {
   "cell_type": "code",
   "execution_count": 8,
   "metadata": {
    "collapsed": false
   },
   "outputs": [
    {
     "name": "stdout",
     "output_type": "stream",
     "text": [
      "The sample default rate is: 77.9%\n",
      "The models should have an accuracy better than predicting all non-defaults of 77.9%\n"
     ]
    }
   ],
   "source": [
    "# Sample Default Rate\n",
    "sample_d_rt = (1 - cc_data_target.sum() / len(cc_data_target))*100\n",
    "print(\"The sample default rate is: %.1f%%\"  % sample_d_rt)\n",
    "\n",
    "# The sample default rate is the same as predicting all zeros (or no defaults)\n",
    "all_zeros = np.zeros(len(cc_data_target))\n",
    "all_zero_score = mt.accuracy_score(cc_data_target,all_zeros)*100\n",
    "print(\"The models should have an accuracy better than predicting all non-defaults of %.1f%%\"  % all_zero_score)"
   ]
  },
  {
   "cell_type": "markdown",
   "metadata": {},
   "source": [
    "## Logistic Regression"
   ]
  },
  {
   "cell_type": "markdown",
   "metadata": {},
   "source": [
    "### Review of different parameters"
   ]
  },
  {
   "cell_type": "code",
   "execution_count": 9,
   "metadata": {
    "collapsed": true
   },
   "outputs": [],
   "source": [
    "def grid_searcher(model, params, cv_object):\n",
    "    clf = grid_search.GridSearchCV(model, params, cv=cv_object,n_jobs=-1)\n",
    "    clf.fit(cc_data_Xs,cc_data_target)\n",
    "    return clf\n",
    "\n",
    "# set parameters for grid search to test all the different combinations\n",
    "c_values = [.1,1,10,100,1000]#np.arange(.01, .1, 0.01)\n",
    "model = LogisticRegression()\n",
    "params = {'penalty':('l1','l2'), 'C':c_values, 'class_weight':(None, 'balanced')}\n",
    "\n",
    "#run search and return results\n",
    "logit_clf = grid_searcher(model, params, cv_object)"
   ]
  },
  {
   "cell_type": "code",
   "execution_count": 10,
   "metadata": {
    "collapsed": false
   },
   "outputs": [
    {
     "name": "stdout",
     "output_type": "stream",
     "text": [
      "The best estimator:  LogisticRegression(C=100, class_weight=None, dual=False, fit_intercept=True,\n",
      "          intercept_scaling=1, max_iter=100, multi_class='ovr', n_jobs=1,\n",
      "          penalty='l1', random_state=None, solver='liblinear', tol=0.0001,\n",
      "          verbose=0, warm_start=False)\n",
      "The best accuracy score is:  0.810316666667\n",
      "The best parameters of model is:  {'class_weight': None, 'C': 100, 'penalty': 'l1'}\n"
     ]
    }
   ],
   "source": [
    "#print(clf.grid_scores_ )\n",
    "print(\"The best estimator: \",logit_clf.best_estimator_)\n",
    "print(\"The best accuracy score is: \", logit_clf.best_score_)\n",
    "print(\"The best parameters of model is: \",logit_clf.best_params_)"
   ]
  },
  {
   "cell_type": "markdown",
   "metadata": {},
   "source": [
    "# The grid search reveals \n",
    "# [Insert something here]\n",
    "format smaller when complete"
   ]
  },
  {
   "cell_type": "markdown",
   "metadata": {},
   "source": [
    "### Find coefficients "
   ]
  },
  {
   "cell_type": "code",
   "execution_count": 11,
   "metadata": {
    "collapsed": true
   },
   "outputs": [],
   "source": [
    "def full_classify(y, X, cv_object, model, scale=False):\n",
    "    start = time.time()\n",
    "    # Create empty list to append coefficient results\n",
    "    coef_list = []\n",
    "    for iter_num, (train_indices, test_indices) in enumerate(cv_object):\n",
    "        if scale == True:\n",
    "            scl_obj = StandardScaler()\n",
    "            scl_obj.fit(X[train_indices])\n",
    "            X_train_scaled = scl_obj.transform(X[train_indices])\n",
    "            X_test_scaled = scl_obj.transform(X[test_indices])\n",
    "            model.fit(X_train_scaled,y[train_indices])\n",
    "            y_hat = model.predict(X_test_scaled)\n",
    "            print(\"SCALED DATA\")\n",
    "        elif scale == False:\n",
    "            model.fit(X[train_indices],y[train_indices])  # train object\n",
    "            y_hat = model.predict(X[test_indices]) # get test set precitions\n",
    "        \n",
    "        # append coefficients from model to list\n",
    "        coef_list.append(model.coef_)\n",
    "\n",
    "        # print the accuracy and confusion matrix \n",
    "        print(\"\\n====Iteration\",iter_num,\" ====\")\n",
    "        print(\"accuracy\", mt.accuracy_score(y[test_indices],y_hat) )\n",
    "        print(\"confusion matrix\\n\",mt.confusion_matrix(y[test_indices],y_hat))\n",
    "        print(\"Classification Report:\\n\",mt.classification_report(y[test_indices],y_hat))\n",
    "        print(\"ROC Score \\n\",mt.roc_auc_score(y[test_indices],y_hat))\n",
    "        \n",
    "    print('done. It took', time.time()-start, 'seconds.')    \n",
    "    return coef_list"
   ]
  },
  {
   "cell_type": "code",
   "execution_count": 12,
   "metadata": {
    "collapsed": false,
    "scrolled": true
   },
   "outputs": [
    {
     "name": "stderr",
     "output_type": "stream",
     "text": [
      "C:\\Users\\ryan.shuhart\\AppData\\Local\\Continuum\\Anaconda3\\lib\\site-packages\\sklearn\\utils\\validation.py:420: DataConversionWarning: Data with input dtype object was converted to float64 by StandardScaler.\n",
      "  warnings.warn(msg, DataConversionWarning)\n",
      "C:\\Users\\ryan.shuhart\\AppData\\Local\\Continuum\\Anaconda3\\lib\\site-packages\\sklearn\\utils\\validation.py:420: DataConversionWarning: Data with input dtype object was converted to float64 by StandardScaler.\n",
      "  warnings.warn(msg, DataConversionWarning)\n",
      "C:\\Users\\ryan.shuhart\\AppData\\Local\\Continuum\\Anaconda3\\lib\\site-packages\\sklearn\\utils\\validation.py:420: DataConversionWarning: Data with input dtype object was converted to float64 by StandardScaler.\n",
      "  warnings.warn(msg, DataConversionWarning)\n"
     ]
    },
    {
     "name": "stdout",
     "output_type": "stream",
     "text": [
      "SCALED DATA\n",
      "\n",
      "====Iteration 0  ====\n",
      "accuracy 0.8155\n",
      "confusion matrix\n",
      " [[4580  108]\n",
      " [ 999  313]]\n",
      "Classification Report:\n",
      "              precision    recall  f1-score   support\n",
      "\n",
      "          0       0.82      0.98      0.89      4688\n",
      "          1       0.74      0.24      0.36      1312\n",
      "\n",
      "avg / total       0.80      0.82      0.78      6000\n",
      "\n",
      "ROC Score \n",
      " 0.607764765254\n"
     ]
    },
    {
     "name": "stderr",
     "output_type": "stream",
     "text": [
      "C:\\Users\\ryan.shuhart\\AppData\\Local\\Continuum\\Anaconda3\\lib\\site-packages\\sklearn\\utils\\validation.py:420: DataConversionWarning: Data with input dtype object was converted to float64 by StandardScaler.\n",
      "  warnings.warn(msg, DataConversionWarning)\n",
      "C:\\Users\\ryan.shuhart\\AppData\\Local\\Continuum\\Anaconda3\\lib\\site-packages\\sklearn\\utils\\validation.py:420: DataConversionWarning: Data with input dtype object was converted to float64 by StandardScaler.\n",
      "  warnings.warn(msg, DataConversionWarning)\n",
      "C:\\Users\\ryan.shuhart\\AppData\\Local\\Continuum\\Anaconda3\\lib\\site-packages\\sklearn\\utils\\validation.py:420: DataConversionWarning: Data with input dtype object was converted to float64 by StandardScaler.\n",
      "  warnings.warn(msg, DataConversionWarning)\n"
     ]
    },
    {
     "name": "stdout",
     "output_type": "stream",
     "text": [
      "SCALED DATA\n",
      "\n",
      "====Iteration 1  ====\n",
      "accuracy 0.810833333333\n",
      "confusion matrix\n",
      " [[4542  109]\n",
      " [1026  323]]\n",
      "Classification Report:\n",
      "              precision    recall  f1-score   support\n",
      "\n",
      "          0       0.82      0.98      0.89      4651\n",
      "          1       0.75      0.24      0.36      1349\n",
      "\n",
      "avg / total       0.80      0.81      0.77      6000\n",
      "\n",
      "ROC Score \n",
      " 0.608000399732\n"
     ]
    },
    {
     "name": "stderr",
     "output_type": "stream",
     "text": [
      "C:\\Users\\ryan.shuhart\\AppData\\Local\\Continuum\\Anaconda3\\lib\\site-packages\\sklearn\\utils\\validation.py:420: DataConversionWarning: Data with input dtype object was converted to float64 by StandardScaler.\n",
      "  warnings.warn(msg, DataConversionWarning)\n",
      "C:\\Users\\ryan.shuhart\\AppData\\Local\\Continuum\\Anaconda3\\lib\\site-packages\\sklearn\\utils\\validation.py:420: DataConversionWarning: Data with input dtype object was converted to float64 by StandardScaler.\n",
      "  warnings.warn(msg, DataConversionWarning)\n",
      "C:\\Users\\ryan.shuhart\\AppData\\Local\\Continuum\\Anaconda3\\lib\\site-packages\\sklearn\\utils\\validation.py:420: DataConversionWarning: Data with input dtype object was converted to float64 by StandardScaler.\n",
      "  warnings.warn(msg, DataConversionWarning)\n"
     ]
    },
    {
     "name": "stdout",
     "output_type": "stream",
     "text": [
      "SCALED DATA\n",
      "\n",
      "====Iteration 2  ====\n",
      "accuracy 0.806\n",
      "confusion matrix\n",
      " [[4516  147]\n",
      " [1017  320]]\n",
      "Classification Report:\n",
      "              precision    recall  f1-score   support\n",
      "\n",
      "          0       0.82      0.97      0.89      4663\n",
      "          1       0.69      0.24      0.35      1337\n",
      "\n",
      "avg / total       0.79      0.81      0.77      6000\n",
      "\n",
      "ROC Score \n",
      " 0.60390852028\n"
     ]
    },
    {
     "name": "stderr",
     "output_type": "stream",
     "text": [
      "C:\\Users\\ryan.shuhart\\AppData\\Local\\Continuum\\Anaconda3\\lib\\site-packages\\sklearn\\utils\\validation.py:420: DataConversionWarning: Data with input dtype object was converted to float64 by StandardScaler.\n",
      "  warnings.warn(msg, DataConversionWarning)\n",
      "C:\\Users\\ryan.shuhart\\AppData\\Local\\Continuum\\Anaconda3\\lib\\site-packages\\sklearn\\utils\\validation.py:420: DataConversionWarning: Data with input dtype object was converted to float64 by StandardScaler.\n",
      "  warnings.warn(msg, DataConversionWarning)\n",
      "C:\\Users\\ryan.shuhart\\AppData\\Local\\Continuum\\Anaconda3\\lib\\site-packages\\sklearn\\utils\\validation.py:420: DataConversionWarning: Data with input dtype object was converted to float64 by StandardScaler.\n",
      "  warnings.warn(msg, DataConversionWarning)\n"
     ]
    },
    {
     "name": "stdout",
     "output_type": "stream",
     "text": [
      "SCALED DATA\n",
      "\n",
      "====Iteration 3  ====\n",
      "accuracy 0.8095\n",
      "confusion matrix\n",
      " [[4543  143]\n",
      " [1000  314]]\n",
      "Classification Report:\n",
      "              precision    recall  f1-score   support\n",
      "\n",
      "          0       0.82      0.97      0.89      4686\n",
      "          1       0.69      0.24      0.35      1314\n",
      "\n",
      "avg / total       0.79      0.81      0.77      6000\n",
      "\n",
      "ROC Score \n",
      " 0.604224280232\n"
     ]
    },
    {
     "name": "stderr",
     "output_type": "stream",
     "text": [
      "C:\\Users\\ryan.shuhart\\AppData\\Local\\Continuum\\Anaconda3\\lib\\site-packages\\sklearn\\utils\\validation.py:420: DataConversionWarning: Data with input dtype object was converted to float64 by StandardScaler.\n",
      "  warnings.warn(msg, DataConversionWarning)\n",
      "C:\\Users\\ryan.shuhart\\AppData\\Local\\Continuum\\Anaconda3\\lib\\site-packages\\sklearn\\utils\\validation.py:420: DataConversionWarning: Data with input dtype object was converted to float64 by StandardScaler.\n",
      "  warnings.warn(msg, DataConversionWarning)\n",
      "C:\\Users\\ryan.shuhart\\AppData\\Local\\Continuum\\Anaconda3\\lib\\site-packages\\sklearn\\utils\\validation.py:420: DataConversionWarning: Data with input dtype object was converted to float64 by StandardScaler.\n",
      "  warnings.warn(msg, DataConversionWarning)\n"
     ]
    },
    {
     "name": "stdout",
     "output_type": "stream",
     "text": [
      "SCALED DATA\n",
      "\n",
      "====Iteration 4  ====\n",
      "accuracy 0.806166666667\n",
      "confusion matrix\n",
      " [[4545  105]\n",
      " [1058  292]]\n",
      "Classification Report:\n",
      "              precision    recall  f1-score   support\n",
      "\n",
      "          0       0.81      0.98      0.89      4650\n",
      "          1       0.74      0.22      0.33      1350\n",
      "\n",
      "avg / total       0.79      0.81      0.76      6000\n",
      "\n",
      "ROC Score \n",
      " 0.596857825568\n"
     ]
    },
    {
     "name": "stderr",
     "output_type": "stream",
     "text": [
      "C:\\Users\\ryan.shuhart\\AppData\\Local\\Continuum\\Anaconda3\\lib\\site-packages\\sklearn\\utils\\validation.py:420: DataConversionWarning: Data with input dtype object was converted to float64 by StandardScaler.\n",
      "  warnings.warn(msg, DataConversionWarning)\n",
      "C:\\Users\\ryan.shuhart\\AppData\\Local\\Continuum\\Anaconda3\\lib\\site-packages\\sklearn\\utils\\validation.py:420: DataConversionWarning: Data with input dtype object was converted to float64 by StandardScaler.\n",
      "  warnings.warn(msg, DataConversionWarning)\n",
      "C:\\Users\\ryan.shuhart\\AppData\\Local\\Continuum\\Anaconda3\\lib\\site-packages\\sklearn\\utils\\validation.py:420: DataConversionWarning: Data with input dtype object was converted to float64 by StandardScaler.\n",
      "  warnings.warn(msg, DataConversionWarning)\n"
     ]
    },
    {
     "name": "stdout",
     "output_type": "stream",
     "text": [
      "SCALED DATA\n",
      "\n",
      "====Iteration 5  ====\n",
      "accuracy 0.803666666667\n",
      "confusion matrix\n",
      " [[4514  131]\n",
      " [1047  308]]\n",
      "Classification Report:\n",
      "              precision    recall  f1-score   support\n",
      "\n",
      "          0       0.81      0.97      0.88      4645\n",
      "          1       0.70      0.23      0.34      1355\n",
      "\n",
      "avg / total       0.79      0.80      0.76      6000\n",
      "\n",
      "ROC Score \n",
      " 0.599551952462\n"
     ]
    },
    {
     "name": "stderr",
     "output_type": "stream",
     "text": [
      "C:\\Users\\ryan.shuhart\\AppData\\Local\\Continuum\\Anaconda3\\lib\\site-packages\\sklearn\\utils\\validation.py:420: DataConversionWarning: Data with input dtype object was converted to float64 by StandardScaler.\n",
      "  warnings.warn(msg, DataConversionWarning)\n",
      "C:\\Users\\ryan.shuhart\\AppData\\Local\\Continuum\\Anaconda3\\lib\\site-packages\\sklearn\\utils\\validation.py:420: DataConversionWarning: Data with input dtype object was converted to float64 by StandardScaler.\n",
      "  warnings.warn(msg, DataConversionWarning)\n",
      "C:\\Users\\ryan.shuhart\\AppData\\Local\\Continuum\\Anaconda3\\lib\\site-packages\\sklearn\\utils\\validation.py:420: DataConversionWarning: Data with input dtype object was converted to float64 by StandardScaler.\n",
      "  warnings.warn(msg, DataConversionWarning)\n"
     ]
    },
    {
     "name": "stdout",
     "output_type": "stream",
     "text": [
      "SCALED DATA\n",
      "\n",
      "====Iteration 6  ====\n",
      "accuracy 0.8105\n",
      "confusion matrix\n",
      " [[4543  141]\n",
      " [ 996  320]]\n",
      "Classification Report:\n",
      "              precision    recall  f1-score   support\n",
      "\n",
      "          0       0.82      0.97      0.89      4684\n",
      "          1       0.69      0.24      0.36      1316\n",
      "\n",
      "avg / total       0.79      0.81      0.77      6000\n",
      "\n",
      "ROC Score \n",
      " 0.606529308855\n"
     ]
    },
    {
     "name": "stderr",
     "output_type": "stream",
     "text": [
      "C:\\Users\\ryan.shuhart\\AppData\\Local\\Continuum\\Anaconda3\\lib\\site-packages\\sklearn\\utils\\validation.py:420: DataConversionWarning: Data with input dtype object was converted to float64 by StandardScaler.\n",
      "  warnings.warn(msg, DataConversionWarning)\n",
      "C:\\Users\\ryan.shuhart\\AppData\\Local\\Continuum\\Anaconda3\\lib\\site-packages\\sklearn\\utils\\validation.py:420: DataConversionWarning: Data with input dtype object was converted to float64 by StandardScaler.\n",
      "  warnings.warn(msg, DataConversionWarning)\n",
      "C:\\Users\\ryan.shuhart\\AppData\\Local\\Continuum\\Anaconda3\\lib\\site-packages\\sklearn\\utils\\validation.py:420: DataConversionWarning: Data with input dtype object was converted to float64 by StandardScaler.\n",
      "  warnings.warn(msg, DataConversionWarning)\n"
     ]
    },
    {
     "name": "stdout",
     "output_type": "stream",
     "text": [
      "SCALED DATA\n",
      "\n",
      "====Iteration 7  ====\n",
      "accuracy 0.801666666667\n",
      "confusion matrix\n",
      " [[4506  133]\n",
      " [1057  304]]\n",
      "Classification Report:\n",
      "              precision    recall  f1-score   support\n",
      "\n",
      "          0       0.81      0.97      0.88      4639\n",
      "          1       0.70      0.22      0.34      1361\n",
      "\n",
      "avg / total       0.78      0.80      0.76      6000\n",
      "\n",
      "ROC Score \n",
      " 0.597347600345\n"
     ]
    },
    {
     "name": "stderr",
     "output_type": "stream",
     "text": [
      "C:\\Users\\ryan.shuhart\\AppData\\Local\\Continuum\\Anaconda3\\lib\\site-packages\\sklearn\\utils\\validation.py:420: DataConversionWarning: Data with input dtype object was converted to float64 by StandardScaler.\n",
      "  warnings.warn(msg, DataConversionWarning)\n",
      "C:\\Users\\ryan.shuhart\\AppData\\Local\\Continuum\\Anaconda3\\lib\\site-packages\\sklearn\\utils\\validation.py:420: DataConversionWarning: Data with input dtype object was converted to float64 by StandardScaler.\n",
      "  warnings.warn(msg, DataConversionWarning)\n",
      "C:\\Users\\ryan.shuhart\\AppData\\Local\\Continuum\\Anaconda3\\lib\\site-packages\\sklearn\\utils\\validation.py:420: DataConversionWarning: Data with input dtype object was converted to float64 by StandardScaler.\n",
      "  warnings.warn(msg, DataConversionWarning)\n"
     ]
    },
    {
     "name": "stdout",
     "output_type": "stream",
     "text": [
      "SCALED DATA\n",
      "\n",
      "====Iteration 8  ====\n",
      "accuracy 0.8085\n",
      "confusion matrix\n",
      " [[4531  125]\n",
      " [1024  320]]\n",
      "Classification Report:\n",
      "              precision    recall  f1-score   support\n",
      "\n",
      "          0       0.82      0.97      0.89      4656\n",
      "          1       0.72      0.24      0.36      1344\n",
      "\n",
      "avg / total       0.79      0.81      0.77      6000\n",
      "\n",
      "ROC Score \n",
      " 0.605624079529\n"
     ]
    },
    {
     "name": "stderr",
     "output_type": "stream",
     "text": [
      "C:\\Users\\ryan.shuhart\\AppData\\Local\\Continuum\\Anaconda3\\lib\\site-packages\\sklearn\\utils\\validation.py:420: DataConversionWarning: Data with input dtype object was converted to float64 by StandardScaler.\n",
      "  warnings.warn(msg, DataConversionWarning)\n",
      "C:\\Users\\ryan.shuhart\\AppData\\Local\\Continuum\\Anaconda3\\lib\\site-packages\\sklearn\\utils\\validation.py:420: DataConversionWarning: Data with input dtype object was converted to float64 by StandardScaler.\n",
      "  warnings.warn(msg, DataConversionWarning)\n",
      "C:\\Users\\ryan.shuhart\\AppData\\Local\\Continuum\\Anaconda3\\lib\\site-packages\\sklearn\\utils\\validation.py:420: DataConversionWarning: Data with input dtype object was converted to float64 by StandardScaler.\n",
      "  warnings.warn(msg, DataConversionWarning)\n"
     ]
    },
    {
     "name": "stdout",
     "output_type": "stream",
     "text": [
      "SCALED DATA\n",
      "\n",
      "====Iteration 9  ====\n",
      "accuracy 0.808333333333\n",
      "confusion matrix\n",
      " [[4544  149]\n",
      " [1001  306]]\n",
      "Classification Report:\n",
      "              precision    recall  f1-score   support\n",
      "\n",
      "          0       0.82      0.97      0.89      4693\n",
      "          1       0.67      0.23      0.35      1307\n",
      "\n",
      "avg / total       0.79      0.81      0.77      6000\n",
      "\n",
      "ROC Score \n",
      " 0.601187266976\n",
      "done. It took 9.393537282943726 seconds.\n"
     ]
    }
   ],
   "source": [
    "### Run best model from grid search to get the coefficients from scaled data for interpretation\n",
    "logit_coef_scaled = full_classify(cc_data_target, cc_data_Xs, cv_object, logit_clf.best_estimator_, scale=True)"
   ]
  },
  {
   "cell_type": "code",
   "execution_count": 13,
   "metadata": {
    "collapsed": false
   },
   "outputs": [
    {
     "data": {
      "text/plain": [
       "array([[-0.00144883,  0.64800298,  0.10470728,  0.09102561,  0.01759052,\n",
       "         0.03784522,  0.0248778 , -0.46663753,  0.21698431,  0.08592198,\n",
       "         0.00143632,  0.02322658,  0.02420146, -0.23786238, -0.23876632,\n",
       "        -0.06340172, -0.06859226, -0.06206418, -0.04084182,  0.04426126,\n",
       "        -0.02996526,  0.05969553,  0.04174911, -0.01227487, -0.03948491]])"
      ]
     },
     "execution_count": 13,
     "metadata": {},
     "output_type": "execute_result"
    }
   ],
   "source": [
    "# Below averages the coeficients of the cross validations\n",
    "logit_coef_scaled_avg = np.array(np.mean( logit_coef_scaled, axis=0 ))\n",
    "logit_coef_scaled_avg"
   ]
  },
  {
   "cell_type": "markdown",
   "metadata": {},
   "source": [
    "### Intrepretting weights of Logistic Model using Scaled Data"
   ]
  },
  {
   "cell_type": "code",
   "execution_count": 14,
   "metadata": {
    "collapsed": false
   },
   "outputs": [
    {
     "name": "stdout",
     "output_type": "stream",
     "text": [
      "Coefficients and column names same length: True\n",
      "\n",
      "EDUCATION has weight of -0.00144882853896\n",
      "PAY_0_Sept has weight of 0.648002984808\n",
      "PAY_2_Aug has weight of 0.104707282289\n",
      "PAY_3_July has weight of 0.0910256075581\n",
      "PAY_4_June has weight of 0.0175905174949\n",
      "PAY_5_May has weight of 0.0378452165848\n",
      "PAY_6_April has weight of 0.0248777985145\n",
      "BILL_AMT1_Sept has weight of -0.46663752711\n",
      "BILL_AMT2_Aug has weight of 0.216984311898\n",
      "BILL_AMT3_July has weight of 0.0859219843207\n",
      "BILL_AMT4_June has weight of 0.00143632434949\n",
      "BILL_AMT5_May has weight of 0.0232265812461\n",
      "BILL_AMT6_April has weight of 0.0242014640798\n",
      "PAY_AMT1_Sept has weight of -0.237862378261\n",
      "PAY_AMT2_Aug has weight of -0.23876632216\n",
      "PAY_AMT3_July has weight of -0.0634017232143\n",
      "PAY_AMT4_June has weight of -0.0685922599096\n",
      "PAY_AMT5_May has weight of -0.0620641808129\n",
      "PAY_AMT6_April has weight of -0.0408418230902\n",
      "AGE_range has weight of 0.0442612605641\n",
      "LIMIT_BAL_range has weight of -0.0299652637859\n",
      "isMale has weight of 0.0596955318362\n",
      "Marriage_Married has weight of 0.0417491111147\n",
      "Marriage_Others has weight of -0.012274871724\n",
      "Marriage_Single has weight of -0.0394849078662\n"
     ]
    }
   ],
   "source": [
    "# Sanity check to make sure the column name list is the same length as the coefficients\n",
    "print(\"Coefficients and column names same length: \" + str(len(logit_coef_scaled_avg.T)==len(cc_data_Xs_names)))\n",
    "print()\n",
    "\n",
    "# print coefficients with label\n",
    "zip_vars = zip(logit_coef_scaled_avg.T,cc_data_Xs_names) # combine attributes\n",
    "for coef, name in zip_vars:\n",
    "    print(name, 'has weight of', coef[0]) # now print them out"
   ]
  },
  {
   "cell_type": "code",
   "execution_count": 15,
   "metadata": {
    "collapsed": false
   },
   "outputs": [
    {
     "data": {
      "image/png": "[encoded data removed]",
      "text/plain": [
       "<matplotlib.figure.Figure at 0x42c8c18>"
      ]
     },
     "metadata": {},
     "output_type": "display_data"
    }
   ],
   "source": [
    "# Graph the coeficients to find the standout features\n",
    "from matplotlib import pyplot as plt\n",
    "%matplotlib inline\n",
    "plt.style.use('ggplot')\n",
    "\n",
    "weights = pd.Series(logit_coef_scaled_avg[0],index=cc_data_Xs_names)\n",
    "weights.plot(kind='bar')\n",
    "plt.show()"
   ]
  },
  {
   "cell_type": "markdown",
   "metadata": {},
   "source": [
    "# [30 points] Use the weights from logistic regression to interpret the importance of different features for each classiﬁcation task. Explain your interpretation in detail. Why do you think some variables are more important?\n",
    "\n",
    "# [Insert interpretation here] \n"
   ]
  },
  {
   "cell_type": "markdown",
   "metadata": {},
   "source": [
    "## Support Vector Machine - Using SGDClassifier"
   ]
  },
  {
   "cell_type": "code",
   "execution_count": 49,
   "metadata": {
    "collapsed": false
   },
   "outputs": [],
   "source": [
    "# Create New Cross Validation object\n",
    "cv_object = ShuffleSplit(n=len(cc_data_target), n_iter=10, test_size  = 0.2)\n",
    "\n",
    "# Initial fixed parmeters\n",
    "model = SGDClassifier(loss='hinge', n_iter=1, learning_rate='optimal')\n",
    "\n",
    "# Parameteres to search on:\n",
    "alpha_values = [.1,1,10,100,1000]\n",
    "params = {'penalty':('l1','l2'), \n",
    "          'alpha':alpha_values, \n",
    "          'fit_intercept':(True, False)}\n",
    "\n",
    "# Run grid search with cv_object\n",
    "sgd_clf = grid_searcher(model, params, cv_object)"
   ]
  },
  {
   "cell_type": "code",
   "execution_count": 50,
   "metadata": {
    "collapsed": false
   },
   "outputs": [
    {
     "name": "stdout",
     "output_type": "stream",
     "text": [
      "The best estimator:  SGDClassifier(alpha=0.1, average=False, class_weight=None, epsilon=0.1,\n",
      "       eta0=0.0, fit_intercept=False, l1_ratio=0.15,\n",
      "       learning_rate='optimal', loss='hinge', n_iter=1, n_jobs=1,\n",
      "       penalty='l2', power_t=0.5, random_state=None, shuffle=True,\n",
      "       verbose=0, warm_start=False)\n",
      "The best accuracy score is:  0.7655\n",
      "The best parameters of model is:  {'alpha': 0.1, 'fit_intercept': False, 'penalty': 'l2'}\n"
     ]
    }
   ],
   "source": [
    "# Print grid serach results\n",
    "print(\"The best estimator: \",sgd_clf.best_estimator_)\n",
    "print(\"The best accuracy score is: \", sgd_clf.best_score_)\n",
    "print(\"The best parameters of model is: \",sgd_clf.best_params_)"
   ]
  },
  {
   "cell_type": "code",
   "execution_count": 51,
   "metadata": {
    "collapsed": false
   },
   "outputs": [
    {
     "name": "stderr",
     "output_type": "stream",
     "text": [
      "C:\\Users\\ryan.shuhart\\AppData\\Local\\Continuum\\Anaconda3\\lib\\site-packages\\sklearn\\utils\\validation.py:420: DataConversionWarning: Data with input dtype object was converted to float64 by StandardScaler.\n",
      "  warnings.warn(msg, DataConversionWarning)\n",
      "C:\\Users\\ryan.shuhart\\AppData\\Local\\Continuum\\Anaconda3\\lib\\site-packages\\sklearn\\utils\\validation.py:420: DataConversionWarning: Data with input dtype object was converted to float64 by StandardScaler.\n",
      "  warnings.warn(msg, DataConversionWarning)\n",
      "C:\\Users\\ryan.shuhart\\AppData\\Local\\Continuum\\Anaconda3\\lib\\site-packages\\sklearn\\utils\\validation.py:420: DataConversionWarning: Data with input dtype object was converted to float64 by StandardScaler.\n",
      "  warnings.warn(msg, DataConversionWarning)\n"
     ]
    },
    {
     "name": "stdout",
     "output_type": "stream",
     "text": [
      "SCALED DATA\n",
      "\n",
      "====Iteration 0  ====\n",
      "accuracy 0.5775\n",
      "confusion matrix\n",
      " [[2524 2126]\n",
      " [ 409  941]]\n",
      "Classification Report:\n",
      "              precision    recall  f1-score   support\n",
      "\n",
      "          0       0.86      0.54      0.67      4650\n",
      "          1       0.31      0.70      0.43      1350\n",
      "\n",
      "avg / total       0.74      0.58      0.61      6000\n",
      "\n",
      "ROC Score \n",
      " 0.619916367981\n"
     ]
    },
    {
     "name": "stderr",
     "output_type": "stream",
     "text": [
      "C:\\Users\\ryan.shuhart\\AppData\\Local\\Continuum\\Anaconda3\\lib\\site-packages\\sklearn\\utils\\validation.py:420: DataConversionWarning: Data with input dtype object was converted to float64 by StandardScaler.\n",
      "  warnings.warn(msg, DataConversionWarning)\n",
      "C:\\Users\\ryan.shuhart\\AppData\\Local\\Continuum\\Anaconda3\\lib\\site-packages\\sklearn\\utils\\validation.py:420: DataConversionWarning: Data with input dtype object was converted to float64 by StandardScaler.\n",
      "  warnings.warn(msg, DataConversionWarning)\n",
      "C:\\Users\\ryan.shuhart\\AppData\\Local\\Continuum\\Anaconda3\\lib\\site-packages\\sklearn\\utils\\validation.py:420: DataConversionWarning: Data with input dtype object was converted to float64 by StandardScaler.\n",
      "  warnings.warn(msg, DataConversionWarning)\n",
      "C:\\Users\\ryan.shuhart\\AppData\\Local\\Continuum\\Anaconda3\\lib\\site-packages\\sklearn\\utils\\validation.py:420: DataConversionWarning: Data with input dtype object was converted to float64 by StandardScaler.\n",
      "  warnings.warn(msg, DataConversionWarning)\n"
     ]
    },
    {
     "name": "stdout",
     "output_type": "stream",
     "text": [
      "SCALED DATA\n",
      "\n",
      "====Iteration 1  ====\n",
      "accuracy 0.583166666667\n",
      "confusion matrix\n",
      " [[2570 2150]\n",
      " [ 351  929]]\n",
      "Classification Report:\n",
      "              precision    recall  f1-score   support\n",
      "\n",
      "          0       0.88      0.54      0.67      4720\n",
      "          1       0.30      0.73      0.43      1280\n",
      "\n",
      "avg / total       0.76      0.58      0.62      6000\n",
      "\n",
      "ROC Score \n",
      " 0.635136387712\n"
     ]
    },
    {
     "name": "stderr",
     "output_type": "stream",
     "text": [
      "C:\\Users\\ryan.shuhart\\AppData\\Local\\Continuum\\Anaconda3\\lib\\site-packages\\sklearn\\utils\\validation.py:420: DataConversionWarning: Data with input dtype object was converted to float64 by StandardScaler.\n",
      "  warnings.warn(msg, DataConversionWarning)\n",
      "C:\\Users\\ryan.shuhart\\AppData\\Local\\Continuum\\Anaconda3\\lib\\site-packages\\sklearn\\utils\\validation.py:420: DataConversionWarning: Data with input dtype object was converted to float64 by StandardScaler.\n",
      "  warnings.warn(msg, DataConversionWarning)\n"
     ]
    },
    {
     "name": "stdout",
     "output_type": "stream",
     "text": [
      "SCALED DATA\n",
      "\n",
      "====Iteration 2  ====\n",
      "accuracy 0.616166666667\n",
      "confusion matrix\n",
      " [[2746 1941]\n",
      " [ 362  951]]\n",
      "Classification Report:\n",
      "              precision    recall  f1-score   support\n",
      "\n",
      "          0       0.88      0.59      0.70      4687\n",
      "          1       0.33      0.72      0.45      1313\n",
      "\n",
      "avg / total       0.76      0.62      0.65      6000\n",
      "\n",
      "ROC Score \n",
      " 0.655085666614\n"
     ]
    },
    {
     "name": "stderr",
     "output_type": "stream",
     "text": [
      "C:\\Users\\ryan.shuhart\\AppData\\Local\\Continuum\\Anaconda3\\lib\\site-packages\\sklearn\\utils\\validation.py:420: DataConversionWarning: Data with input dtype object was converted to float64 by StandardScaler.\n",
      "  warnings.warn(msg, DataConversionWarning)\n",
      "C:\\Users\\ryan.shuhart\\AppData\\Local\\Continuum\\Anaconda3\\lib\\site-packages\\sklearn\\utils\\validation.py:420: DataConversionWarning: Data with input dtype object was converted to float64 by StandardScaler.\n",
      "  warnings.warn(msg, DataConversionWarning)\n",
      "C:\\Users\\ryan.shuhart\\AppData\\Local\\Continuum\\Anaconda3\\lib\\site-packages\\sklearn\\utils\\validation.py:420: DataConversionWarning: Data with input dtype object was converted to float64 by StandardScaler.\n",
      "  warnings.warn(msg, DataConversionWarning)\n",
      "C:\\Users\\ryan.shuhart\\AppData\\Local\\Continuum\\Anaconda3\\lib\\site-packages\\sklearn\\utils\\validation.py:420: DataConversionWarning: Data with input dtype object was converted to float64 by StandardScaler.\n",
      "  warnings.warn(msg, DataConversionWarning)\n"
     ]
    },
    {
     "name": "stdout",
     "output_type": "stream",
     "text": [
      "SCALED DATA\n",
      "\n",
      "====Iteration 3  ====\n",
      "accuracy 0.579333333333\n",
      "confusion matrix\n",
      " [[2542 2148]\n",
      " [ 376  934]]\n",
      "Classification Report:\n",
      "              precision    recall  f1-score   support\n",
      "\n",
      "          0       0.87      0.54      0.67      4690\n",
      "          1       0.30      0.71      0.43      1310\n",
      "\n",
      "avg / total       0.75      0.58      0.62      6000\n",
      "\n",
      "ROC Score \n",
      " 0.627490681814\n"
     ]
    },
    {
     "name": "stderr",
     "output_type": "stream",
     "text": [
      "C:\\Users\\ryan.shuhart\\AppData\\Local\\Continuum\\Anaconda3\\lib\\site-packages\\sklearn\\utils\\validation.py:420: DataConversionWarning: Data with input dtype object was converted to float64 by StandardScaler.\n",
      "  warnings.warn(msg, DataConversionWarning)\n",
      "C:\\Users\\ryan.shuhart\\AppData\\Local\\Continuum\\Anaconda3\\lib\\site-packages\\sklearn\\utils\\validation.py:420: DataConversionWarning: Data with input dtype object was converted to float64 by StandardScaler.\n",
      "  warnings.warn(msg, DataConversionWarning)\n"
     ]
    },
    {
     "name": "stdout",
     "output_type": "stream",
     "text": [
      "SCALED DATA\n",
      "\n",
      "====Iteration 4  ====\n",
      "accuracy 0.587833333333\n",
      "confusion matrix\n",
      " [[2611 2058]\n",
      " [ 415  916]]\n",
      "Classification Report:\n",
      "              precision    recall  f1-score   support\n",
      "\n",
      "          0       0.86      0.56      0.68      4669\n",
      "          1       0.31      0.69      0.43      1331\n",
      "\n",
      "avg / total       0.74      0.59      0.62      6000\n",
      "\n",
      "ROC Score \n",
      " 0.623712373715\n"
     ]
    },
    {
     "name": "stderr",
     "output_type": "stream",
     "text": [
      "C:\\Users\\ryan.shuhart\\AppData\\Local\\Continuum\\Anaconda3\\lib\\site-packages\\sklearn\\utils\\validation.py:420: DataConversionWarning: Data with input dtype object was converted to float64 by StandardScaler.\n",
      "  warnings.warn(msg, DataConversionWarning)\n",
      "C:\\Users\\ryan.shuhart\\AppData\\Local\\Continuum\\Anaconda3\\lib\\site-packages\\sklearn\\utils\\validation.py:420: DataConversionWarning: Data with input dtype object was converted to float64 by StandardScaler.\n",
      "  warnings.warn(msg, DataConversionWarning)\n",
      "C:\\Users\\ryan.shuhart\\AppData\\Local\\Continuum\\Anaconda3\\lib\\site-packages\\sklearn\\utils\\validation.py:420: DataConversionWarning: Data with input dtype object was converted to float64 by StandardScaler.\n",
      "  warnings.warn(msg, DataConversionWarning)\n",
      "C:\\Users\\ryan.shuhart\\AppData\\Local\\Continuum\\Anaconda3\\lib\\site-packages\\sklearn\\utils\\validation.py:420: DataConversionWarning: Data with input dtype object was converted to float64 by StandardScaler.\n",
      "  warnings.warn(msg, DataConversionWarning)\n"
     ]
    },
    {
     "name": "stdout",
     "output_type": "stream",
     "text": [
      "SCALED DATA\n",
      "\n",
      "====Iteration 5  ====\n",
      "accuracy 0.602833333333\n",
      "confusion matrix\n",
      " [[2696 1981]\n",
      " [ 402  921]]\n",
      "Classification Report:\n",
      "              precision    recall  f1-score   support\n",
      "\n",
      "          0       0.87      0.58      0.69      4677\n",
      "          1       0.32      0.70      0.44      1323\n",
      "\n",
      "avg / total       0.75      0.60      0.64      6000\n",
      "\n",
      "ROC Score \n",
      " 0.636291506126\n"
     ]
    },
    {
     "name": "stderr",
     "output_type": "stream",
     "text": [
      "C:\\Users\\ryan.shuhart\\AppData\\Local\\Continuum\\Anaconda3\\lib\\site-packages\\sklearn\\utils\\validation.py:420: DataConversionWarning: Data with input dtype object was converted to float64 by StandardScaler.\n",
      "  warnings.warn(msg, DataConversionWarning)\n",
      "C:\\Users\\ryan.shuhart\\AppData\\Local\\Continuum\\Anaconda3\\lib\\site-packages\\sklearn\\utils\\validation.py:420: DataConversionWarning: Data with input dtype object was converted to float64 by StandardScaler.\n",
      "  warnings.warn(msg, DataConversionWarning)\n",
      "C:\\Users\\ryan.shuhart\\AppData\\Local\\Continuum\\Anaconda3\\lib\\site-packages\\sklearn\\utils\\validation.py:420: DataConversionWarning: Data with input dtype object was converted to float64 by StandardScaler.\n",
      "  warnings.warn(msg, DataConversionWarning)\n"
     ]
    },
    {
     "name": "stdout",
     "output_type": "stream",
     "text": [
      "SCALED DATA\n",
      "\n",
      "====Iteration 6  ====\n",
      "accuracy 0.599666666667\n",
      "confusion matrix\n",
      " [[2612 2019]\n",
      " [ 383  986]]\n",
      "Classification Report:\n",
      "              precision    recall  f1-score   support\n",
      "\n",
      "          0       0.87      0.56      0.69      4631\n",
      "          1       0.33      0.72      0.45      1369\n",
      "\n",
      "avg / total       0.75      0.60      0.63      6000\n",
      "\n",
      "ROC Score \n",
      " 0.642129397923\n"
     ]
    },
    {
     "name": "stderr",
     "output_type": "stream",
     "text": [
      "C:\\Users\\ryan.shuhart\\AppData\\Local\\Continuum\\Anaconda3\\lib\\site-packages\\sklearn\\utils\\validation.py:420: DataConversionWarning: Data with input dtype object was converted to float64 by StandardScaler.\n",
      "  warnings.warn(msg, DataConversionWarning)\n",
      "C:\\Users\\ryan.shuhart\\AppData\\Local\\Continuum\\Anaconda3\\lib\\site-packages\\sklearn\\utils\\validation.py:420: DataConversionWarning: Data with input dtype object was converted to float64 by StandardScaler.\n",
      "  warnings.warn(msg, DataConversionWarning)\n",
      "C:\\Users\\ryan.shuhart\\AppData\\Local\\Continuum\\Anaconda3\\lib\\site-packages\\sklearn\\utils\\validation.py:420: DataConversionWarning: Data with input dtype object was converted to float64 by StandardScaler.\n",
      "  warnings.warn(msg, DataConversionWarning)\n"
     ]
    },
    {
     "name": "stdout",
     "output_type": "stream",
     "text": [
      "SCALED DATA\n",
      "\n",
      "====Iteration 7  ====\n",
      "accuracy 0.587833333333\n",
      "confusion matrix\n",
      " [[2540 2128]\n",
      " [ 345  987]]\n",
      "Classification Report:\n",
      "              precision    recall  f1-score   support\n",
      "\n",
      "          0       0.88      0.54      0.67      4668\n",
      "          1       0.32      0.74      0.44      1332\n",
      "\n",
      "avg / total       0.76      0.59      0.62      6000\n",
      "\n",
      "ROC Score \n",
      " 0.642560619746\n"
     ]
    },
    {
     "name": "stderr",
     "output_type": "stream",
     "text": [
      "C:\\Users\\ryan.shuhart\\AppData\\Local\\Continuum\\Anaconda3\\lib\\site-packages\\sklearn\\utils\\validation.py:420: DataConversionWarning: Data with input dtype object was converted to float64 by StandardScaler.\n",
      "  warnings.warn(msg, DataConversionWarning)\n",
      "C:\\Users\\ryan.shuhart\\AppData\\Local\\Continuum\\Anaconda3\\lib\\site-packages\\sklearn\\utils\\validation.py:420: DataConversionWarning: Data with input dtype object was converted to float64 by StandardScaler.\n",
      "  warnings.warn(msg, DataConversionWarning)\n",
      "C:\\Users\\ryan.shuhart\\AppData\\Local\\Continuum\\Anaconda3\\lib\\site-packages\\sklearn\\utils\\validation.py:420: DataConversionWarning: Data with input dtype object was converted to float64 by StandardScaler.\n",
      "  warnings.warn(msg, DataConversionWarning)\n"
     ]
    },
    {
     "name": "stdout",
     "output_type": "stream",
     "text": [
      "SCALED DATA\n",
      "\n",
      "====Iteration 8  ====\n",
      "accuracy 0.595666666667\n",
      "confusion matrix\n",
      " [[2647 2017]\n",
      " [ 409  927]]\n",
      "Classification Report:\n",
      "              precision    recall  f1-score   support\n",
      "\n",
      "          0       0.87      0.57      0.69      4664\n",
      "          1       0.31      0.69      0.43      1336\n",
      "\n",
      "avg / total       0.74      0.60      0.63      6000\n",
      "\n",
      "ROC Score \n",
      " 0.630700434466\n",
      "SCALED DATA\n",
      "\n",
      "====Iteration 9  ====\n",
      "accuracy 0.597666666667\n",
      "confusion matrix\n",
      " [[2677 1991]\n",
      " [ 423  909]]\n",
      "Classification Report:\n",
      "              precision    recall  f1-score   support\n",
      "\n",
      "          0       0.86      0.57      0.69      4668\n",
      "          1       0.31      0.68      0.43      1332\n",
      "\n",
      "avg / total       0.74      0.60      0.63      6000\n",
      "\n",
      "ROC Score \n",
      " 0.627955719215\n",
      "done. It took 3.3061890602111816 seconds.\n"
     ]
    },
    {
     "name": "stderr",
     "output_type": "stream",
     "text": [
      "C:\\Users\\ryan.shuhart\\AppData\\Local\\Continuum\\Anaconda3\\lib\\site-packages\\sklearn\\utils\\validation.py:420: DataConversionWarning: Data with input dtype object was converted to float64 by StandardScaler.\n",
      "  warnings.warn(msg, DataConversionWarning)\n",
      "C:\\Users\\ryan.shuhart\\AppData\\Local\\Continuum\\Anaconda3\\lib\\site-packages\\sklearn\\utils\\validation.py:420: DataConversionWarning: Data with input dtype object was converted to float64 by StandardScaler.\n",
      "  warnings.warn(msg, DataConversionWarning)\n"
     ]
    }
   ],
   "source": [
    "### Run best model from grid search to get the coefficients from scaled data for interpretation\n",
    "sgd_coef_scaled = full_classify(cc_data_target, cc_data_Xs, cv_object, sgd_clf.best_estimator_, scale=True)\n",
    "\n",
    "# model = SVC(C=0.05, kernel='linear', degree=3, gamma='auto')\n",
    "# full_classify(cc_data_target, cc_data_Xs, cv_object, model, scale=True)"
   ]
  },
  {
   "cell_type": "code",
   "execution_count": 52,
   "metadata": {
    "collapsed": false
   },
   "outputs": [
    {
     "data": {
      "text/plain": [
       "[array([[-0.00264616,  0.45161122,  0.15136894,  0.07683781,  0.04501842,\n",
       "          0.02368433, -0.02231558, -0.09493934, -0.03398594, -0.01812355,\n",
       "         -0.0053718 ,  0.00646641,  0.01511749, -0.03860175, -0.0465217 ,\n",
       "          0.00404192, -0.05556664, -0.00715846, -0.03060742,  0.03275371,\n",
       "         -0.05220305,  0.04052421,  0.02475951,  0.02414389, -0.03017351]]),\n",
       " array([[-0.04151041,  0.43844066,  0.16062669,  0.09193812,  0.0388665 ,\n",
       "          0.027924  ,  0.01187882, -0.09912137, -0.04789439, -0.02090932,\n",
       "         -0.01118565,  0.0022525 ,  0.00265292, -0.05447243, -0.04582361,\n",
       "         -0.02646752, -0.00288976, -0.02386755, -0.02536656,  0.04332893,\n",
       "         -0.03319693,  0.06662092,  0.00912129,  0.01947704, -0.0134333 ]]),\n",
       " array([[-0.01982022,  0.46629511,  0.14110001,  0.08558011,  0.03190046,\n",
       "          0.01778007, -0.00239505, -0.10552806, -0.05174978, -0.03476413,\n",
       "         -0.01230294,  0.0010449 ,  0.01379671, -0.04774821, -0.05421833,\n",
       "         -0.02169292, -0.03332771, -0.02625066, -0.01549261,  0.06087873,\n",
       "         -0.03193512,  0.06815112,  0.04161718, -0.00245219, -0.04100139]]),\n",
       " array([[-0.04107153,  0.43958245,  0.12466424,  0.07406   ,  0.05788384,\n",
       "          0.03469296,  0.00720316, -0.13631214, -0.07273303, -0.04857207,\n",
       "         -0.03277818, -0.01550485, -0.02801627, -0.0545122 , -0.03633503,\n",
       "         -0.02450704, -0.03448414, -0.03913961, -0.00583553,  0.03218869,\n",
       "         -0.06279132,  0.04504127,  0.02074207, -0.0010923 , -0.02045995]]),\n",
       " array([[ -4.49235138e-04,   4.54300006e-01,   1.65580457e-01,\n",
       "           8.60103554e-02,   3.79539800e-02,   1.79678889e-02,\n",
       "           3.64875557e-03,  -1.24966113e-01,  -5.41345370e-02,\n",
       "          -3.44576891e-02,  -2.40942592e-02,  -9.98184333e-03,\n",
       "          -5.93125231e-03,  -4.80059784e-02,  -3.32543494e-02,\n",
       "          -1.78644783e-02,  -2.53560496e-02,  -5.04237471e-03,\n",
       "          -3.12503278e-02,   4.93169994e-02,  -2.74228118e-02,\n",
       "           7.32336493e-02,   3.09721517e-02,   2.50419523e-02,\n",
       "          -3.65351186e-02]]),\n",
       " array([[  1.00564699e-04,   4.43983882e-01,   1.59006593e-01,\n",
       "           1.09129176e-01,   4.00430252e-02,   7.34274427e-03,\n",
       "           1.05847642e-02,  -9.85110505e-02,  -4.20418251e-02,\n",
       "          -2.85422583e-02,  -1.28786929e-02,  -2.18525947e-03,\n",
       "           1.14744427e-02,  -5.89554969e-02,  -1.14646055e-02,\n",
       "          -1.08950671e-02,  -1.78739939e-02,  -9.72442421e-03,\n",
       "          -3.00245460e-02,   4.89836906e-02,  -3.76694324e-02,\n",
       "           5.78226670e-02,   2.75223903e-02,   1.26299486e-02,\n",
       "          -3.03181175e-02]]),\n",
       " array([[-0.02951149,  0.39407873,  0.15782853,  0.08977268,  0.02716086,\n",
       "          0.03127163,  0.00331633, -0.10342573, -0.04281848, -0.02664542,\n",
       "         -0.00816821, -0.00041281, -0.00644404, -0.05355802, -0.055761  ,\n",
       "         -0.01646852, -0.02415169, -0.03776939,  0.02664275,  0.03910882,\n",
       "         -0.05626453,  0.0404897 ,  0.03244401,  0.04620217, -0.04261879]]),\n",
       " array([[-0.04533186,  0.44391634,  0.14903412,  0.08362272,  0.04238234,\n",
       "          0.02994151, -0.00459251, -0.10411278, -0.04078393, -0.02139133,\n",
       "         -0.00798066, -0.01016614, -0.00564964, -0.05399331, -0.03735997,\n",
       "         -0.02066007, -0.04437674, -0.05024819, -0.00883478,  0.04016134,\n",
       "         -0.06570111,  0.04854912,  0.01708451,  0.00879974, -0.01900146]]),\n",
       " array([[ -4.77532918e-03,   4.25900039e-01,   1.52006782e-01,\n",
       "           7.53468004e-02,   4.98159685e-02,   3.05876042e-02,\n",
       "          -3.08869356e-04,  -9.40469989e-02,  -3.53855501e-02,\n",
       "          -2.69803648e-03,   9.53133823e-03,   1.00274031e-02,\n",
       "           7.95325407e-03,  -5.82959841e-02,  -1.52323309e-02,\n",
       "          -1.97514048e-02,  -3.75391368e-02,  -3.80027241e-02,\n",
       "          -1.98264067e-02,   6.01240845e-02,  -4.56964271e-02,\n",
       "           4.84205938e-02,   3.72285571e-02,  -5.98537822e-02,\n",
       "          -2.39820992e-02]]),\n",
       " array([[-0.03569335,  0.43035162,  0.13458073,  0.07487302,  0.05093356,\n",
       "          0.04639219,  0.00907981, -0.10648753, -0.05469957, -0.03394075,\n",
       "         -0.01285951, -0.00295618,  0.00361339, -0.05697847, -0.03458166,\n",
       "         -0.01424243, -0.01065995, -0.03632162, -0.02653264,  0.06736454,\n",
       "         -0.02109883,  0.06482422,  0.04474465, -0.02147424, -0.03992023]])]"
      ]
     },
     "execution_count": 52,
     "metadata": {},
     "output_type": "execute_result"
    }
   ],
   "source": [
    "sgd_coef_scaled"
   ]
  },
  {
   "cell_type": "code",
   "execution_count": 53,
   "metadata": {
    "collapsed": false
   },
   "outputs": [
    {
     "data": {
      "text/plain": [
       "array([[-0.0220709 ,  0.438846  ,  0.14957971,  0.08471708,  0.0421959 ,\n",
       "         0.02675849,  0.00160996, -0.10674511, -0.0476227 , -0.02700446,\n",
       "        -0.01180886, -0.00214159,  0.0008567 , -0.05251218, -0.03705526,\n",
       "        -0.01685075, -0.02862258, -0.0273525 , -0.01671281,  0.04742095,\n",
       "        -0.04339796,  0.05536775,  0.02862363,  0.00514222, -0.0297444 ]])"
      ]
     },
     "execution_count": 53,
     "metadata": {},
     "output_type": "execute_result"
    }
   ],
   "source": [
    "# Below averages the coeficients of the cross validations\n",
    "sgd_coef_scaled_avg = np.array(np.mean( sgd_coef_scaled, axis=0 ))\n",
    "sgd_coef_scaled_avg"
   ]
  },
  {
   "cell_type": "code",
   "execution_count": 54,
   "metadata": {
    "collapsed": false
   },
   "outputs": [
    {
     "name": "stdout",
     "output_type": "stream",
     "text": [
      "Coefficients and column names same length: True\n",
      "\n",
      "EDUCATION has weight of -0.0220709030703\n",
      "PAY_0_Sept has weight of 0.438846004543\n",
      "PAY_2_Aug has weight of 0.149579709669\n",
      "PAY_3_July has weight of 0.0847170797863\n",
      "PAY_4_June has weight of 0.042195895799\n",
      "PAY_5_May has weight of 0.0267584932147\n",
      "PAY_6_April has weight of 0.00160996230871\n",
      "BILL_AMT1_Sept has weight of -0.106745111651\n",
      "BILL_AMT2_Aug has weight of -0.0476227039281\n",
      "BILL_AMT3_July has weight of -0.0270044565455\n",
      "BILL_AMT4_June has weight of -0.0118088555582\n",
      "BILL_AMT5_May has weight of -0.00214158798271\n",
      "BILL_AMT6_April has weight of 0.000856700581133\n",
      "PAY_AMT1_Sept has weight of -0.0525121842425\n",
      "PAY_AMT2_Aug has weight of -0.0370552593966\n",
      "PAY_AMT3_July has weight of -0.0168507527283\n",
      "PAY_AMT4_June has weight of -0.0286225810798\n",
      "PAY_AMT5_May has weight of -0.0273524999233\n",
      "PAY_AMT6_April has weight of -0.0167128072348\n",
      "AGE_range has weight of 0.0474209534673\n",
      "LIMIT_BAL_range has weight of -0.0433979572667\n",
      "isMale has weight of 0.0553677481084\n",
      "Marriage_Married has weight of 0.0286236330254\n",
      "Marriage_Others has weight of 0.00514222378582\n",
      "Marriage_Single has weight of -0.0297443970729\n"
     ]
    }
   ],
   "source": [
    "# Sanity check to make sure the column name list is the same length as the coefficients\n",
    "print(\"Coefficients and column names same length: \" + str(len(sgd_coef_scaled_avg.T)==len(cc_data_Xs_names)))\n",
    "print()\n",
    "\n",
    "# print coefficients with label\n",
    "zip_vars = zip(sgd_coef_scaled_avg.T,cc_data_Xs_names) # combine attributes\n",
    "for coef, name in zip_vars:\n",
    "    print(name, 'has weight of', coef[0]) # now print them out"
   ]
  },
  {
   "cell_type": "code",
   "execution_count": 55,
   "metadata": {
    "collapsed": false
   },
   "outputs": [
    {
     "data": {
      "image/png": "[encoded data removed]",
      "text/plain": [
       "<matplotlib.figure.Figure at 0xbe25828>"
      ]
     },
     "metadata": {},
     "output_type": "display_data"
    }
   ],
   "source": [
    "# Graph the coeficients to find the standout features\n",
    "from matplotlib import pyplot as plt\n",
    "%matplotlib inline\n",
    "plt.style.use('ggplot')\n",
    "\n",
    "weights = pd.Series(sgd_coef_scaled_avg[0],index=cc_data_Xs_names)\n",
    "weights.plot(kind='bar')\n",
    "plt.show()"
   ]
  },
  {
   "cell_type": "code",
   "execution_count": null,
   "metadata": {
    "collapsed": true
   },
   "outputs": [],
   "source": []
  }
 ],
 "metadata": {
  "kernelspec": {
   "display_name": "Python 3",
   "language": "python",
   "name": "python3"
  },
  "language_info": {
   "codemirror_mode": {
    "name": "ipython",
    "version": 3
   },
   "file_extension": ".py",
   "mimetype": "text/x-python",
   "name": "python",
   "nbconvert_exporter": "python",
   "pygments_lexer": "ipython3",
   "version": "3.5.1"
  }
 },
 "nbformat": 4,
 "nbformat_minor": 0
}
