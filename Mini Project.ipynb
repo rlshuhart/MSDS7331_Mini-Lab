{
 "cells": [
  {
   "cell_type": "markdown",
   "metadata": {
    "collapsed": true
   },
   "source": [
    "# MSDS 7331 - Mini-Project: SVM&LR Classification\n",
    "## Team: Dineen Parker, Dale Legband, Ryan Shuhart\n",
    "collaboration site: https://github.com/rlshuhart/MSDS7331_Mini-Lab"
   ]
  },
  {
   "cell_type": "markdown",
   "metadata": {},
   "source": [
    "### Log to capture iterations of findings and ideas for feature selection and analysis"
   ]
  },
  {
   "cell_type": "markdown",
   "metadata": {},
   "source": [
    "1. First attempt of logistic model revealed need to one-hot encode categorical variables\n",
    "2. After numerically encoding categorical variables, the logistic model more or less predicted all to not default.\n",
    "3. Changeing penalty on logistic model from l2 to l1 improved the model by about 3 percentage points.\n",
    "4. Changing class_weight='balanced' negatively impacted model\n",
    "5. Changing C to 100 had no impact\n",
    "6. Changing C to .0001 had small negative impact\n",
    "7. Reviewed logistic coefficients on scaled data and it appears the most recent pay status (PAY_0_Sept), the most recent two bill amounts ('BILL_AMT1_Sept', 'BILL_AMT2_Aug'), the most recent two payment amounts are the highest predictors ('PAY_AMT1_Sept', 'PAY_AMT2_Aug').\n",
    "8. Full SVM Model was stopped after not completing after 2 hours. SGD will be pursued instead.\n",
    "9. SGD performed much faster, but not very accurate\n",
    "9. Interpreted Logistic Model - only 4 variables worth keeping\n",
    "10. Reduced logistic model performs about the same, but much simpler\n",
    "11. SGD classifier is faster than logistic.\n",
    "12. SVM on reduced model takes a long time and is less accurate on this data set and features."
   ]
  },
  {
   "cell_type": "markdown",
   "metadata": {},
   "source": [
    "## SVM and Logistic Regression Modeling  \n",
    "* <font color = \"black\">[50 points] Create a logistic regression model and a support vector machine model for the classiﬁcation task involved with your dataset. Assess how well each model performs (use 80/20 training/testing split for your data). Adjust parameters of the models to make them more accurate. If your dataset size requires the use of stochastic gradient descent, then linear kernel only is ﬁne to use. </font>\n",
    "* <font color = \"black\">[10 points] Discuss the advantages of each model for each classiﬁcation task. Does one type of model offer superior performance over another in terms of prediction accuracy? In terms of training time or efﬁciency? Explain in detail.  \n",
    "* <font color = \"black\">[30 points] Use the weights from logistic regression to interpret the importance of different features for each classiﬁcation task. Explain your interpretation in detail. Why do you think some variables are more important? </font>\n",
    "* <font color = \"black\">[10 points] Look at the chosen support vectors for the classiﬁcation task. Do these provide any insight into the data? Explain"
   ]
  },
  {
   "cell_type": "code",
   "execution_count": 1,
   "metadata": {
    "collapsed": true
   },
   "outputs": [],
   "source": [
    "### Modules Used ###\n",
    "\n",
    "# Data manipulation: pandas and numpy\n",
    "import pandas as pd\n",
    "import numpy as np\n",
    "\n",
    "# Visualization: seaborn and matplotlib\n",
    "import matplotlib.pyplot as plt\n",
    "import seaborn as sns\n",
    "\n",
    "# other\n",
    "import time\n",
    "import warnings"
   ]
  },
  {
   "cell_type": "markdown",
   "metadata": {},
   "source": [
    "# Read in preprocessed data from previous assignment"
   ]
  },
  {
   "cell_type": "code",
   "execution_count": 2,
   "metadata": {
    "collapsed": false
   },
   "outputs": [],
   "source": [
    "# Random but useful fact: if the first record in a csv file is \n",
    "# \"ID\" than Excel will interpret it as a SYLK file\n",
    "# https://annalear.ca/2010/06/10/why-excel-thinks-your-csv-is-a-sylk/\n",
    "\n",
    "#data_url = \"https://raw.githubusercontent.com/rlshuhart/MSDS7331_Project_1/master/cc_data/cc_data_processed.csv\"\n",
    "data_url = \"../MSDS7331_Project_1/cc_data/cc_data_processed.csv\"\n",
    "\n",
    "cc_data = pd.read_csv(data_url, index_col='ID')"
   ]
  },
  {
   "cell_type": "code",
   "execution_count": 3,
   "metadata": {
    "collapsed": false
   },
   "outputs": [
    {
     "name": "stdout",
     "output_type": "stream",
     "text": [
      "<class 'pandas.core.frame.DataFrame'>\n",
      "Int64Index: 30000 entries, 1 to 30000\n",
      "Data columns (total 27 columns):\n",
      "LIMIT_BAL                     30000 non-null int64\n",
      "SEX                           30000 non-null object\n",
      "EDUCATION                     30000 non-null object\n",
      "MARRIAGE                      30000 non-null object\n",
      "AGE                           30000 non-null int64\n",
      "PAY_0_Sept                    30000 non-null int64\n",
      "PAY_2_Aug                     30000 non-null int64\n",
      "PAY_3_July                    30000 non-null int64\n",
      "PAY_4_June                    30000 non-null int64\n",
      "PAY_5_May                     30000 non-null int64\n",
      "PAY_6_April                   30000 non-null int64\n",
      "BILL_AMT1_Sept                30000 non-null int64\n",
      "BILL_AMT2_Aug                 30000 non-null int64\n",
      "BILL_AMT3_July                30000 non-null int64\n",
      "BILL_AMT4_June                30000 non-null int64\n",
      "BILL_AMT5_May                 30000 non-null int64\n",
      "BILL_AMT6_April               30000 non-null int64\n",
      "PAY_AMT1_Sept                 30000 non-null int64\n",
      "PAY_AMT2_Aug                  30000 non-null int64\n",
      "PAY_AMT3_July                 30000 non-null int64\n",
      "PAY_AMT4_June                 30000 non-null int64\n",
      "PAY_AMT5_May                  30000 non-null int64\n",
      "PAY_AMT6_April                30000 non-null int64\n",
      "default payment next month    30000 non-null int64\n",
      "AGE_range                     30000 non-null object\n",
      "LIMIT_BAL_range               30000 non-null object\n",
      "Default_Yes_No                30000 non-null object\n",
      "dtypes: int64(21), object(6)\n",
      "memory usage: 6.4+ MB\n",
      "None\n"
     ]
    }
   ],
   "source": [
    "print(cc_data.info())"
   ]
  },
  {
   "cell_type": "markdown",
   "metadata": {},
   "source": [
    "# Additional Preprocessing of data"
   ]
  },
  {
   "cell_type": "markdown",
   "metadata": {},
   "source": [
    "### One hot encoding of categorical variables"
   ]
  },
  {
   "cell_type": "code",
   "execution_count": 4,
   "metadata": {
    "collapsed": false
   },
   "outputs": [
    {
     "name": "stdout",
     "output_type": "stream",
     "text": [
      "<class 'pandas.core.frame.DataFrame'>\n",
      "Int64Index: 30000 entries, 1 to 30000\n",
      "Data columns (total 26 columns):\n",
      "EDUCATION                     30000 non-null int64\n",
      "PAY_0_Sept                    30000 non-null int64\n",
      "PAY_2_Aug                     30000 non-null int64\n",
      "PAY_3_July                    30000 non-null int64\n",
      "PAY_4_June                    30000 non-null int64\n",
      "PAY_5_May                     30000 non-null int64\n",
      "PAY_6_April                   30000 non-null int64\n",
      "BILL_AMT1_Sept                30000 non-null int64\n",
      "BILL_AMT2_Aug                 30000 non-null int64\n",
      "BILL_AMT3_July                30000 non-null int64\n",
      "BILL_AMT4_June                30000 non-null int64\n",
      "BILL_AMT5_May                 30000 non-null int64\n",
      "BILL_AMT6_April               30000 non-null int64\n",
      "PAY_AMT1_Sept                 30000 non-null int64\n",
      "PAY_AMT2_Aug                  30000 non-null int64\n",
      "PAY_AMT3_July                 30000 non-null int64\n",
      "PAY_AMT4_June                 30000 non-null int64\n",
      "PAY_AMT5_May                  30000 non-null int64\n",
      "PAY_AMT6_April                30000 non-null int64\n",
      "default payment next month    30000 non-null int64\n",
      "AGE_range                     30000 non-null int64\n",
      "LIMIT_BAL_range               30000 non-null int64\n",
      "isMale                        30000 non-null bool\n",
      "Marriage_Married              30000 non-null float64\n",
      "Marriage_Others               30000 non-null float64\n",
      "Marriage_Single               30000 non-null float64\n",
      "dtypes: bool(1), float64(3), int64(22)\n",
      "memory usage: 6.0 MB\n",
      "None\n"
     ]
    }
   ],
   "source": [
    "# makeing copy of data to retain original input for now. \n",
    "# Have to add .copy() or any change will reflect in the original too.\n",
    "cc_data_processed = cc_data.copy()\n",
    "\n",
    "cats = ['SEX', 'EDUCATION', 'MARRIAGE','AGE_range', 'LIMIT_BAL_range']\n",
    "\n",
    "# SEX convert to isMale\n",
    "cc_data_processed['isMale'] = cc_data['SEX']=='Male'\n",
    "\n",
    "# Two options for Education: \n",
    "# If treating ordinal then keep single columnn but label in numerical order\n",
    "# if nominal then create dummy variables.\n",
    "# Trying ordinal first with 'Others' as the highest. Previous exploration\n",
    "# showed this group have better rates of default which continued the trend\n",
    "# of more education means less likely to default:\n",
    "cc_data_processed['EDUCATION'] = cc_data['EDUCATION'].apply({'High School':0,\n",
    "                                                             'University':1,\n",
    "                                                             'Graduate School':2, \n",
    "                                                             'Others':3}.get)\n",
    "\n",
    "# Marriage is nominal category therefore converting to dummies\n",
    "\n",
    "cc_data_processed = pd.concat((cc_data_processed, \n",
    "                               pd.get_dummies(cc_data['MARRIAGE'], prefix='Marriage')), \n",
    "                               axis=1)\n",
    "\n",
    "# Age range is ordinal category:\n",
    "cc_data_processed['AGE_range'] = cc_data['AGE_range'].apply({'21-30':0,\n",
    "                                                             '31-40':1,\n",
    "                                                             '41-50':2, \n",
    "                                                             '51-60':3,\n",
    "                                                             '61-70':4,\n",
    "                                                             '71-80+':5}.get)\n",
    "# Limit_Bal_Range is ordingal\n",
    "cc_data_processed['LIMIT_BAL_range'] = cc_data['LIMIT_BAL_range'].apply({'0-250k':0,\n",
    "                                                                         '>250k-500k':1,\n",
    "                                                                         '>500k-750k':2,\n",
    "                                                                         '>750k':3}.get)\n",
    "\n",
    "# Drop unused features:\n",
    "# 'Default_Yes_No' - Used for visualization labeling only and same as 'default payment next month'\n",
    "# 'AGE' - Using Age_range instead, may bring back\n",
    "cc_data_processed.drop(['Default_Yes_No','AGE', 'SEX','MARRIAGE', 'LIMIT_BAL'], axis=1, inplace=True)\n",
    "\n",
    "print(cc_data_processed.info())"
   ]
  },
  {
   "cell_type": "markdown",
   "metadata": {},
   "source": [
    "#### Convert data to numpy arrays for training"
   ]
  },
  {
   "cell_type": "code",
   "execution_count": 5,
   "metadata": {
    "collapsed": false
   },
   "outputs": [],
   "source": [
    "cc_data_target = cc_data_processed['default payment next month'].values\n",
    "cc_data_Xs = cc_data_processed.drop('default payment next month', axis='columns').values\n",
    "\n",
    "# Column names for labeling\n",
    "cc_data_Xs_names = cc_data_processed.drop('default payment next month', axis='columns').columns"
   ]
  },
  {
   "cell_type": "markdown",
   "metadata": {},
   "source": [
    "# Prediction Models"
   ]
  },
  {
   "cell_type": "code",
   "execution_count": 6,
   "metadata": {
    "collapsed": true
   },
   "outputs": [],
   "source": [
    "# Scikit Modules\n",
    "from sklearn.cross_validation import cross_val_score, cross_val_predict\n",
    "from sklearn import metrics as mt\n",
    "from sklearn.linear_model import LogisticRegression\n",
    "from sklearn.linear_model import SGDClassifier\n",
    "from sklearn.svm import SVC\n",
    "from sklearn.cross_validation import ShuffleSplit\n",
    "from sklearn.preprocessing import StandardScaler\n",
    "from sklearn import grid_search"
   ]
  },
  {
   "cell_type": "code",
   "execution_count": 7,
   "metadata": {
    "collapsed": false
   },
   "outputs": [],
   "source": [
    "# Create Cross Validation object with an 80/20 split\n",
    "num_cv_iterations = 5\n",
    "num_instances = len(cc_data_target)\n",
    "cv_object = ShuffleSplit(n=num_instances,\n",
    "                         n_iter=num_cv_iterations,\n",
    "                         test_size  = 0.2)"
   ]
  },
  {
   "cell_type": "code",
   "execution_count": 8,
   "metadata": {
    "collapsed": false
   },
   "outputs": [
    {
     "name": "stdout",
     "output_type": "stream",
     "text": [
      "The sample default rate is: 77.9%\n",
      "The models should have an accuracy better than predicting all non-defaults of 77.9%\n"
     ]
    }
   ],
   "source": [
    "# Sample Default Rate\n",
    "sample_d_rt = (1 - cc_data_target.sum() / len(cc_data_target))*100\n",
    "print(\"The sample default rate is: %.1f%%\"  % sample_d_rt)\n",
    "\n",
    "# The sample default rate is the same as predicting all zeros (or no defaults)\n",
    "all_zeros = np.zeros(len(cc_data_target))\n",
    "all_zero_score = mt.accuracy_score(cc_data_target,all_zeros)*100\n",
    "print(\"The models should have an accuracy better than predicting all non-defaults of %.1f%%\"  % all_zero_score)"
   ]
  },
  {
   "cell_type": "markdown",
   "metadata": {},
   "source": [
    "## Logistic Regression"
   ]
  },
  {
   "cell_type": "markdown",
   "metadata": {},
   "source": [
    "### Review of different parameters"
   ]
  },
  {
   "cell_type": "code",
   "execution_count": 9,
   "metadata": {
    "collapsed": true
   },
   "outputs": [],
   "source": [
    "def grid_searcher(X, y, model, params, cv_object):\n",
    "    clf = grid_search.GridSearchCV(model, params, cv=cv_object,n_jobs=-1)\n",
    "    clf.fit(X, y)\n",
    "    return clf"
   ]
  },
  {
   "cell_type": "code",
   "execution_count": 10,
   "metadata": {
    "collapsed": false
   },
   "outputs": [
    {
     "name": "stdout",
     "output_type": "stream",
     "text": [
      "The best estimator:  LogisticRegression(C=0.1, class_weight=None, dual=False, fit_intercept=True,\n",
      "          intercept_scaling=1, max_iter=100, multi_class='ovr', n_jobs=1,\n",
      "          penalty='l1', random_state=None, solver='liblinear', tol=0.0001,\n",
      "          verbose=0, warm_start=False)\n",
      "The best accuracy score is:  0.811733333333\n",
      "The best parameters of model is:  {'penalty': 'l1', 'C': 0.1, 'class_weight': None}\n"
     ]
    }
   ],
   "source": [
    "# set parameters for grid search to test all the different combinations\n",
    "c_values = [.1,1,10,100,1000]#np.arange(.01, .1, 0.01)\n",
    "model = LogisticRegression()\n",
    "params = {'penalty':('l1','l2'), 'C':c_values, 'class_weight':(None, 'balanced')}\n",
    "\n",
    "#run search and return results\n",
    "logit_clf = grid_searcher(cc_data_Xs, cc_data_target, model, params, cv_object)\n",
    "\n",
    "#print(clf.grid_scores_ )\n",
    "print(\"The best estimator: \",logit_clf.best_estimator_)\n",
    "print(\"The best accuracy score is: \", logit_clf.best_score_)\n",
    "print(\"The best parameters of model is: \",logit_clf.best_params_)"
   ]
  },
  {
   "cell_type": "markdown",
   "metadata": {},
   "source": [
    "### The grid search reveals \n",
    "Grid search reveals: Penalty - l1 was selected over l2, which means that the objective function that is minimized is better for L1, which is the sum of errors, rather than L2, which is the sum of squared errors. L1 is less sensitive to outliers. The C=10 value indicates a larger value is needed for regularization which improves the models ability to not fit to noise. Class_weight selection of None over balanced means balanced did not add accuracy to the fit, likely because 'balanced' mode \"uses the values of y to automatically adjust weights inversely proportional to class frequencies in the input data\" The best accuracy score is 0.812 is just slightly better accuracy than predicting all non-defaults of 77.9%."
   ]
  },
  {
   "cell_type": "markdown",
   "metadata": {},
   "source": [
    "### Find coefficients "
   ]
  },
  {
   "cell_type": "code",
   "execution_count": 11,
   "metadata": {
    "collapsed": false
   },
   "outputs": [],
   "source": [
    "def full_classify(X, y, cv_object, model, scale=False):\n",
    "    start = time.time()\n",
    "    # Create empty list to append coefficient results\n",
    "    coef_list = []\n",
    "    acc_list = []\n",
    "    for iter_num, (train_indices, test_indices) in enumerate(cv_object):\n",
    "        print(\"====Iteration\",iter_num,\" ====\")\n",
    "        if scale == True:\n",
    "            with warnings.catch_warnings():\n",
    "                warnings.simplefilter(\"ignore\")\n",
    "                scl_obj = StandardScaler()\n",
    "                scl_obj.fit(X[train_indices])\n",
    "                X_train_scaled = scl_obj.transform(X[train_indices])\n",
    "                X_test_scaled = scl_obj.transform(X[test_indices])\n",
    "                model.fit(X_train_scaled,y[train_indices])\n",
    "                y_hat = model.predict(X_test_scaled)\n",
    "                print(\"\\n*SCALED DATA*\")\n",
    "        elif scale == False:\n",
    "            model.fit(X[train_indices],y[train_indices])  # train object\n",
    "            y_hat = model.predict(X[test_indices]) # get test set precitions\n",
    "        \n",
    "        # append coefficients from model to list\n",
    "        coef_list.append(model.coef_)\n",
    "        acc_list.append(mt.accuracy_score(y[test_indices],y_hat))\n",
    "\n",
    "        # print the accuracy and confusion matrix \n",
    "        #print(\"====Iteration\",iter_num,\" ====\")\n",
    "        print(\"accuracy\", mt.accuracy_score(y[test_indices],y_hat))\n",
    "        print(\"confusion matrix\\n\",mt.confusion_matrix(y[test_indices],y_hat))\n",
    "        #print(\"Classification Report:\\n\",mt.classification_report(y[test_indices],y_hat))\n",
    "        #print(\"ROC Score \\n\",mt.roc_auc_score(y[test_indices],y_hat))\n",
    "        print()\n",
    "        \n",
    "    print('done. It took', time.time()-start, 'seconds.')    \n",
    "    return coef_list, acc_list"
   ]
  },
  {
   "cell_type": "code",
   "execution_count": 12,
   "metadata": {
    "collapsed": false,
    "scrolled": false
   },
   "outputs": [
    {
     "name": "stdout",
     "output_type": "stream",
     "text": [
      "====Iteration 0  ====\n",
      "\n",
      "*SCALED DATA*\n",
      "accuracy 0.808666666667\n",
      "confusion matrix\n",
      " [[4532  140]\n",
      " [1008  320]]\n",
      "\n",
      "====Iteration 1  ====\n",
      "\n",
      "*SCALED DATA*\n",
      "accuracy 0.805833333333\n",
      "confusion matrix\n",
      " [[4511  110]\n",
      " [1055  324]]\n",
      "\n",
      "====Iteration 2  ====\n",
      "\n",
      "*SCALED DATA*\n",
      "accuracy 0.812\n",
      "confusion matrix\n",
      " [[4547  138]\n",
      " [ 990  325]]\n",
      "\n",
      "====Iteration 3  ====\n",
      "\n",
      "*SCALED DATA*\n",
      "accuracy 0.812833333333\n",
      "confusion matrix\n",
      " [[4567  118]\n",
      " [1005  310]]\n",
      "\n",
      "====Iteration 4  ====\n",
      "\n",
      "*SCALED DATA*\n",
      "accuracy 0.814\n",
      "confusion matrix\n",
      " [[4561  107]\n",
      " [1009  323]]\n",
      "\n",
      "done. It took 2.857163429260254 seconds.\n"
     ]
    }
   ],
   "source": [
    "### Run best model from grid search to get the coefficients from scaled data for interpretation\n",
    "logit_coef_scaled, logit_acc_scaled = full_classify(cc_data_Xs, cc_data_target, cv_object, logit_clf.best_estimator_, scale=True)"
   ]
  },
  {
   "cell_type": "markdown",
   "metadata": {},
   "source": [
    "### Intrepretting weights of Logistic Model using Scaled Data"
   ]
  },
  {
   "cell_type": "code",
   "execution_count": 13,
   "metadata": {
    "collapsed": true
   },
   "outputs": [],
   "source": [
    "# Graph the coeficients to find the standout features\n",
    "from matplotlib import pyplot as plt\n",
    "%matplotlib inline\n",
    "plt.style.use('ggplot')\n",
    "\n",
    "def analysis(coef_list, acc_list, labels):\n",
    "    # Below averages the output of the cross validations\n",
    "    coef_list_avg = np.array(np.mean(coef_list, axis=0 ))\n",
    "    acc_list_avg = np.mean(acc_list)\n",
    "\n",
    "    print(\"The average accuracy score is: \", acc_list_avg)\n",
    "\n",
    "    # Sanity check to make sure the column name list is the same length as the coefficients\n",
    "    print(\"Coefficients and column names same length: \" + str(len(coef_list_avg.T)==len(labels)))\n",
    "    print()\n",
    "\n",
    "    # print coefficients with label\n",
    "    zip_vars = zip(coef_list_avg.T,labels) # combine attributes\n",
    "    for coef, name in zip_vars:\n",
    "        print(name, 'has weight of', coef[0]) # now print them out\n",
    "\n",
    "    weights = pd.Series(coef_list_avg[0],index=labels)\n",
    "    weights.plot(kind='bar')\n",
    "    plt.show()"
   ]
  },
  {
   "cell_type": "code",
   "execution_count": 14,
   "metadata": {
    "collapsed": false
   },
   "outputs": [
    {
     "name": "stdout",
     "output_type": "stream",
     "text": [
      "The average accuracy score is:  0.810666666667\n",
      "Coefficients and column names same length: True\n",
      "\n",
      "EDUCATION has weight of 0.00127101481712\n",
      "PAY_0_Sept has weight of 0.656006998319\n",
      "PAY_2_Aug has weight of 0.090142475061\n",
      "PAY_3_July has weight of 0.101983491891\n",
      "PAY_4_June has weight of 0.0206858092287\n",
      "PAY_5_May has weight of 0.0411665800027\n",
      "PAY_6_April has weight of 0.0130628559163\n",
      "BILL_AMT1_Sept has weight of -0.236430773822\n",
      "BILL_AMT2_Aug has weight of 0.0336423494592\n",
      "BILL_AMT3_July has weight of 0.0167344273628\n",
      "BILL_AMT4_June has weight of 0.0077491685575\n",
      "BILL_AMT5_May has weight of 0.0336176241037\n",
      "BILL_AMT6_April has weight of 0.0258620361634\n",
      "PAY_AMT1_Sept has weight of -0.192756409776\n",
      "PAY_AMT2_Aug has weight of -0.195983186064\n",
      "PAY_AMT3_July has weight of -0.0569087797572\n",
      "PAY_AMT4_June has weight of -0.069054756594\n",
      "PAY_AMT5_May has weight of -0.0518092743884\n",
      "PAY_AMT6_April has weight of -0.0443114200274\n",
      "AGE_range has weight of 0.0390497909073\n",
      "LIMIT_BAL_range has weight of -0.0293578831121\n",
      "isMale has weight of 0.0550434613291\n",
      "Marriage_Married has weight of 0.0671909447719\n",
      "Marriage_Others has weight of -0.00147508561345\n",
      "Marriage_Single has weight of -0.0155894187331\n"
     ]
    },
    {
     "data": {
      "image/png": "[encoded data removed]",
      "text/plain": [
       "<matplotlib.figure.Figure at 0xc16ab00>"
      ]
     },
     "metadata": {},
     "output_type": "display_data"
    }
   ],
   "source": [
    "analysis(logit_coef_scaled, logit_acc_scaled, cc_data_Xs_names)"
   ]
  },
  {
   "cell_type": "markdown",
   "metadata": {},
   "source": [
    "### Logitic Interpretation of Full Model\n",
    "\n",
    "PAY_0_Sept and BILL_AMT1_Sept are the two strongest indicators of default. Pay_0_Sept and Bill_AMT1_Sept have high weights, >0.4 and <-0.4 respectively, compared to the other coefficients and are significant to the model. Secondarily, PAY_AMT1_Sept and PAY_AMT2_Aug have a similar strength of indicators. PAY_0_Sept indicates how many months late is the payment, so it is logical that as this increases the log odd of default would increase as well. BILL_AMT1 indicates the amount billed, and the weighting suggest counter to logic that bigger bills tended to default less frequently. Due to the high multicollinearity of the BILL_AMT variables, as discovered previously in project 1, this weighting might not be trustable. PAY_AMT1_Sept and PAY_AMT2_Aug have a negative weighting, suggesting as pay amounts decrease during these months, default goes higher."
   ]
  },
  {
   "cell_type": "markdown",
   "metadata": {},
   "source": [
    "### Reduced Logistic Model"
   ]
  },
  {
   "cell_type": "code",
   "execution_count": 15,
   "metadata": {
    "collapsed": false
   },
   "outputs": [],
   "source": [
    "logit_reduced_model = ['PAY_0_Sept',\n",
    "                       'BILL_AMT1_Sept',\n",
    "                       'PAY_AMT1_Sept',\n",
    "                       'PAY_AMT2_Aug']\n",
    "\n",
    "cc_data_Xs_logit_reduced = cc_data_processed[logit_reduced_model].values\n",
    "\n",
    "# Column names for labeling\n",
    "cc_data_Xs_names_lr = cc_data_processed[logit_reduced_model].columns"
   ]
  },
  {
   "cell_type": "code",
   "execution_count": 16,
   "metadata": {
    "collapsed": false,
    "scrolled": false
   },
   "outputs": [
    {
     "name": "stdout",
     "output_type": "stream",
     "text": [
      "====Iteration 0  ====\n",
      "\n",
      "*SCALED DATA*\n",
      "accuracy 0.816\n",
      "confusion matrix\n",
      " [[4565  133]\n",
      " [ 971  331]]\n",
      "\n",
      "====Iteration 1  ====\n",
      "\n",
      "*SCALED DATA*\n",
      "accuracy 0.811\n",
      "confusion matrix\n",
      " [[4527  141]\n",
      " [ 993  339]]\n",
      "\n",
      "====Iteration 2  ====\n",
      "\n",
      "*SCALED DATA*\n",
      "accuracy 0.811666666667\n",
      "confusion matrix\n",
      " [[4526  147]\n",
      " [ 983  344]]\n",
      "\n",
      "====Iteration 3  ====\n",
      "\n",
      "*SCALED DATA*\n",
      "accuracy 0.813\n",
      "confusion matrix\n",
      " [[4523  143]\n",
      " [ 979  355]]\n",
      "\n",
      "====Iteration 4  ====\n",
      "\n",
      "*SCALED DATA*\n",
      "accuracy 0.812666666667\n",
      "confusion matrix\n",
      " [[4511  158]\n",
      " [ 966  365]]\n",
      "\n",
      "done. It took 0.1540086269378662 seconds.\n"
     ]
    }
   ],
   "source": [
    "logit_coef_scaled_lr, logit_acc_scaled_lr = full_classify(cc_data_Xs_logit_reduced, cc_data_target,  cv_object, \n",
    "                                                          logit_clf.best_estimator_, scale=True)"
   ]
  },
  {
   "cell_type": "code",
   "execution_count": 17,
   "metadata": {
    "collapsed": false
   },
   "outputs": [
    {
     "name": "stdout",
     "output_type": "stream",
     "text": [
      "The average accuracy score is:  0.812866666667\n",
      "Coefficients and column names same length: True\n",
      "\n",
      "PAY_0_Sept has weight of 0.799649432448\n",
      "BILL_AMT1_Sept has weight of -0.120387875182\n",
      "PAY_AMT1_Sept has weight of -0.214566234272\n",
      "PAY_AMT2_Aug has weight of -0.268160218783\n"
     ]
    },
    {
     "data": {
      "image/png": "[encoded data removed]",
      "text/plain": [
       "<matplotlib.figure.Figure at 0xc280cc0>"
      ]
     },
     "metadata": {},
     "output_type": "display_data"
    }
   ],
   "source": [
    "analysis(logit_coef_scaled_lr, logit_acc_scaled_lr, cc_data_Xs_names_lr)"
   ]
  },
  {
   "cell_type": "markdown",
   "metadata": {},
   "source": [
    "### Comparison of Full Model to Reduced Model\n",
    "\n",
    "The reduced model supports the analysis of the full model variable determined to be unecessary. The full model accuracy was 81.1% compared to the reduced model of 81.3%. Both the full and reduced model perform slightly better the an all no-default prediction of 77.9%. PAY_0_Sept increased from .66 to .80 and strengthened in the reduced model. BILL_AMT1_Sept reduced to -.13 making it less strong of a predictor. PAY_AMT1_Sept and PAY_AMT2_Aug slightly increase.\n",
    "\n",
    "    Full:\n",
    "    PAY_0_Sept has weight of 0.656006998319\n",
    "    BILL_AMT1_Sept has weight of -0.236430773822\n",
    "    PAY_AMT1_Sept has weight of -0.192756409776\n",
    "    PAY_AMT2_Aug has weight of -0.195983186064\n",
    "\n",
    "    Reduced:\n",
    "    PAY_0_Sept has weight of 0.799649432448\n",
    "    BILL_AMT1_Sept has weight of -0.120387875182\n",
    "    PAY_AMT1_Sept has weight of -0.214566234272\n",
    "    PAY_AMT2_Aug has weight of -0.268160218783"
   ]
  },
  {
   "cell_type": "markdown",
   "metadata": {},
   "source": [
    "## Support Vector Machine - Using SGDClassifier"
   ]
  },
  {
   "cell_type": "code",
   "execution_count": 37,
   "metadata": {
    "collapsed": false
   },
   "outputs": [
    {
     "name": "stdout",
     "output_type": "stream",
     "text": [
      "The best estimator:  SGDClassifier(alpha=1e-06, average=True, class_weight=None, epsilon=0.1,\n",
      "       eta0=0.0, fit_intercept=True, l1_ratio=0.15,\n",
      "       learning_rate='optimal', loss='hinge', n_iter=3, n_jobs=1,\n",
      "       penalty='l2', power_t=0.5, random_state=None, shuffle=True,\n",
      "       verbose=0, warm_start=False)\n",
      "The best accuracy score is:  0.780133333333\n",
      "The best parameters of model is:  {'alpha': 1e-06, 'fit_intercept': True, 'penalty': 'l2', 'average': True}\n"
     ]
    }
   ],
   "source": [
    "# Create New Cross Validation object\n",
    "svg_cv_object = ShuffleSplit(n=len(cc_data_target), n_iter=10, test_size  = 0.2)\n",
    "\n",
    "# Initial fixed parmeters\n",
    "model = SGDClassifier(loss='hinge', n_iter=3, learning_rate='optimal')\n",
    "\n",
    "# Parameteres to search on:\n",
    "params = {'penalty':('l1','l2'),\n",
    "          'fit_intercept':(True, False),\n",
    "          'average':(True,False),\n",
    "          'alpha':[.000001, .00001, .0001]} \n",
    "          #'alpha':np.arange(.00001, .001, 0.00005)}\n",
    "\n",
    "# Run grid search with cv_object\n",
    "sgd_clf = grid_searcher(cc_data_Xs, cc_data_target, model, params, svg_cv_object)\n",
    "\n",
    "# Print grid serach results\n",
    "print(\"The best estimator: \",sgd_clf.best_estimator_)\n",
    "print(\"The best accuracy score is: \", sgd_clf.best_score_)\n",
    "print(\"The best parameters of model is: \",sgd_clf.best_params_)"
   ]
  },
  {
   "cell_type": "code",
   "execution_count": 38,
   "metadata": {
    "collapsed": false
   },
   "outputs": [
    {
     "name": "stdout",
     "output_type": "stream",
     "text": [
      "====Iteration 0  ====\n",
      "\n",
      "*SCALED DATA*\n",
      "accuracy 0.806333333333\n",
      "confusion matrix\n",
      " [[4450  225]\n",
      " [ 937  388]]\n",
      "\n",
      "====Iteration 1  ====\n",
      "\n",
      "*SCALED DATA*\n",
      "accuracy 0.806333333333\n",
      "confusion matrix\n",
      " [[4395  235]\n",
      " [ 927  443]]\n",
      "\n",
      "====Iteration 2  ====\n",
      "\n",
      "*SCALED DATA*\n",
      "accuracy 0.812\n",
      "confusion matrix\n",
      " [[4484  220]\n",
      " [ 908  388]]\n",
      "\n",
      "====Iteration 3  ====\n",
      "\n",
      "*SCALED DATA*\n",
      "accuracy 0.811333333333\n",
      "confusion matrix\n",
      " [[4465  223]\n",
      " [ 909  403]]\n",
      "\n",
      "====Iteration 4  ====\n",
      "\n",
      "*SCALED DATA*\n",
      "accuracy 0.802666666667\n",
      "confusion matrix\n",
      " [[4402  234]\n",
      " [ 950  414]]\n",
      "\n",
      "done. It took 1.784101963043213 seconds.\n"
     ]
    }
   ],
   "source": [
    "### Run best model from grid search to get the coefficients from scaled data for interpretation\n",
    "sgd_coef_scaled, sgd_acc_scaled = full_classify(cc_data_Xs, cc_data_target, cv_object, sgd_clf.best_estimator_, scale=True)"
   ]
  },
  {
   "cell_type": "code",
   "execution_count": 39,
   "metadata": {
    "collapsed": false
   },
   "outputs": [
    {
     "name": "stdout",
     "output_type": "stream",
     "text": [
      "The average accuracy score is:  0.807733333333\n",
      "Coefficients and column names same length: True\n",
      "\n",
      "EDUCATION has weight of 1.3637476358\n",
      "PAY_0_Sept has weight of 70.1573876179\n",
      "PAY_2_Aug has weight of 12.4808489751\n",
      "PAY_3_July has weight of 12.3307913654\n",
      "PAY_4_June has weight of 8.89432232424\n",
      "PAY_5_May has weight of 11.8981773732\n",
      "PAY_6_April has weight of 7.19245212492\n",
      "BILL_AMT1_Sept has weight of -51.5475357536\n",
      "BILL_AMT2_Aug has weight of 19.645623181\n",
      "BILL_AMT3_July has weight of 10.068744218\n",
      "BILL_AMT4_June has weight of 1.72068596744\n",
      "BILL_AMT5_May has weight of -0.784179099636\n",
      "BILL_AMT6_April has weight of -2.88019888936\n",
      "PAY_AMT1_Sept has weight of -78.8294175431\n",
      "PAY_AMT2_Aug has weight of -82.3951555225\n",
      "PAY_AMT3_July has weight of -47.8878014255\n",
      "PAY_AMT4_June has weight of -53.7945345564\n",
      "PAY_AMT5_May has weight of -49.145122637\n",
      "PAY_AMT6_April has weight of -40.5596426255\n",
      "AGE_range has weight of -0.325980888484\n",
      "LIMIT_BAL_range has weight of -14.9249849594\n",
      "isMale has weight of 3.79892518675\n",
      "Marriage_Married has weight of 10.4610523952\n",
      "Marriage_Others has weight of -51.0954546162\n",
      "Marriage_Single has weight of 0.904805943036\n"
     ]
    },
    {
     "data": {
      "image/png": "[encoded data removed]",
      "text/plain": [
       "<matplotlib.figure.Figure at 0xc1f1860>"
      ]
     },
     "metadata": {},
     "output_type": "display_data"
    }
   ],
   "source": [
    "analysis(sgd_coef_scaled, sgd_acc_scaled, cc_data_Xs_names)"
   ]
  },
  {
   "cell_type": "markdown",
   "metadata": {},
   "source": [
    "### SGD Full Model Interpretation\n",
    "\n",
    "Like the previous logistic model, 'PAY_0_Sept', 'BILL_AMT1_Sept', 'PAY_AMT1_Sept', and 'PAY_AMT2_Aug' are important predictors to default. Also evident is the multicollinearity BILL_AMT features, with BILL_AMT1 showing the strongest predictor and BILL_AMT2 - BILL_AMT6 not at all. 'PAY_AMT1_Sept' and 'PAY_AMT2_Aug' also standout as the strongest."
   ]
  },
  {
   "cell_type": "markdown",
   "metadata": {},
   "source": [
    "### SGD Reduced Model"
   ]
  },
  {
   "cell_type": "code",
   "execution_count": 40,
   "metadata": {
    "collapsed": true
   },
   "outputs": [],
   "source": [
    "svg_reduced_model = ['PAY_0_Sept',\n",
    "                     'BILL_AMT1_Sept',\n",
    "                     'PAY_AMT1_Sept',\n",
    "                     'PAY_AMT2_Aug']\n",
    "\n",
    "cc_data_Xs_svg_reduced = cc_data_processed[svg_reduced_model].values\n",
    "\n",
    "# Column names for labeling\n",
    "cc_data_Xs_names_sr = cc_data_processed[svg_reduced_model].columns"
   ]
  },
  {
   "cell_type": "code",
   "execution_count": 41,
   "metadata": {
    "collapsed": false,
    "scrolled": false
   },
   "outputs": [
    {
     "name": "stdout",
     "output_type": "stream",
     "text": [
      "====Iteration 0  ====\n",
      "\n",
      "*SCALED DATA*\n",
      "accuracy 0.799333333333\n",
      "confusion matrix\n",
      " [[4327  348]\n",
      " [ 856  469]]\n",
      "\n",
      "====Iteration 1  ====\n",
      "\n",
      "*SCALED DATA*\n",
      "accuracy 0.792\n",
      "confusion matrix\n",
      " [[4280  385]\n",
      " [ 863  472]]\n",
      "\n",
      "====Iteration 2  ====\n",
      "\n",
      "*SCALED DATA*\n",
      "accuracy 0.800666666667\n",
      "confusion matrix\n",
      " [[4354  316]\n",
      " [ 880  450]]\n",
      "\n",
      "====Iteration 3  ====\n",
      "\n",
      "*SCALED DATA*\n",
      "accuracy 0.801\n",
      "confusion matrix\n",
      " [[4330  367]\n",
      " [ 827  476]]\n",
      "\n",
      "====Iteration 4  ====\n",
      "\n",
      "*SCALED DATA*\n",
      "accuracy 0.792\n",
      "confusion matrix\n",
      " [[4282  386]\n",
      " [ 862  470]]\n",
      "\n",
      "done. It took 0.12000679969787598 seconds.\n"
     ]
    }
   ],
   "source": [
    "sgd_coef_scaled_sr, sgd_acc_scaled_sr = full_classify(cc_data_Xs_svg_reduced, cc_data_target, cv_object, \n",
    "                                                sgd_clf.best_estimator_, scale=True)"
   ]
  },
  {
   "cell_type": "code",
   "execution_count": 42,
   "metadata": {
    "collapsed": false
   },
   "outputs": [
    {
     "name": "stdout",
     "output_type": "stream",
     "text": [
      "The average accuracy score is:  0.797\n",
      "Coefficients and column names same length: True\n",
      "\n",
      "PAY_0_Sept has weight of 15.8753954969\n",
      "BILL_AMT1_Sept has weight of -1.56733822727\n",
      "PAY_AMT1_Sept has weight of -36.7836747924\n",
      "PAY_AMT2_Aug has weight of -43.7490685441\n"
     ]
    },
    {
     "data": {
      "image/png": "[encoded data removed]",
      "text/plain": [
       "<matplotlib.figure.Figure at 0xc2837b8>"
      ]
     },
     "metadata": {},
     "output_type": "display_data"
    }
   ],
   "source": [
    "analysis(sgd_coef_scaled_sr, sgd_acc_scaled_sr, cc_data_Xs_names_sr)"
   ]
  },
  {
   "cell_type": "markdown",
   "metadata": {},
   "source": [
    "#### Reduced Model Analysis\n",
    "Compared to the full SGD model the reduced model has an average accuracy of 79.7% compared to 80.8%, which is not much more than an all no-default prediction of 77.9%. On this given data set and features the SGD performs slightly worse compared to the logistic regression model. The weight of PAY_0_Sept drops dramatically in this model and is not near as significant. As with the reduced logistic model BILL_AMT1_Sept no longer appears significant. PAY_AMT1_Sept and PAY_AMT2_Aug have the strongest weights that have meaning as these go up, the probability of default goes down.\n",
    "    \n",
    "    Full:\n",
    "    PAY_0_Sept has weight of 70.1573876179\n",
    "    BILL_AMT1_Sept has weight of -51.5475357536\n",
    "    PAY_AMT1_Sept has weight of -78.8294175431\n",
    "    PAY_AMT2_Aug has weight of -82.3951555225\n",
    "\n",
    "    Reduced:\n",
    "    PAY_0_Sept has weight of 15.8753954969\n",
    "    BILL_AMT1_Sept has weight of -1.56733822727\n",
    "    PAY_AMT1_Sept has weight of -36.7836747924\n",
    "    PAY_AMT2_Aug has weight of -43.7490685441"
   ]
  },
  {
   "cell_type": "markdown",
   "metadata": {},
   "source": [
    "### Reduced Model Using SVC"
   ]
  },
  {
   "cell_type": "code",
   "execution_count": 43,
   "metadata": {
    "collapsed": false,
    "scrolled": false
   },
   "outputs": [
    {
     "name": "stdout",
     "output_type": "stream",
     "text": [
      "====Iteration 0  ====\n",
      "\n",
      "*SCALED DATA*\n",
      "accuracy 0.7895\n",
      "confusion matrix\n",
      " [[4737    0]\n",
      " [1263    0]]\n",
      "\n",
      "====Iteration 1  ====\n",
      "\n",
      "*SCALED DATA*\n",
      "accuracy 0.775666666667\n",
      "confusion matrix\n",
      " [[4654    0]\n",
      " [1346    0]]\n",
      "\n",
      "====Iteration 2  ====\n",
      "\n",
      "*SCALED DATA*\n",
      "accuracy 0.773333333333\n",
      "confusion matrix\n",
      " [[4640    0]\n",
      " [1360    0]]\n",
      "\n",
      "====Iteration 3  ====\n",
      "\n",
      "*SCALED DATA*\n",
      "accuracy 0.783166666667\n",
      "confusion matrix\n",
      " [[4699    0]\n",
      " [1301    0]]\n",
      "\n",
      "====Iteration 4  ====\n",
      "\n",
      "*SCALED DATA*\n",
      "accuracy 0.779333333333\n",
      "confusion matrix\n",
      " [[4676    0]\n",
      " [1324    0]]\n",
      "\n",
      "done. It took 56.00320315361023 seconds.\n"
     ]
    }
   ],
   "source": [
    "model = SVC(kernel='linear', C=1)\n",
    "svc_coef_scaled_r, svc_acc_scaled_r = full_classify(cc_data_Xs_svg_reduced, cc_data_target, cv_object, \n",
    "                                                         model, scale=True)"
   ]
  },
  {
   "cell_type": "code",
   "execution_count": 44,
   "metadata": {
    "collapsed": false
   },
   "outputs": [
    {
     "name": "stdout",
     "output_type": "stream",
     "text": [
      "The average accuracy score is:  0.7802\n",
      "Coefficients and column names same length: True\n",
      "\n",
      "PAY_0_Sept has weight of 0.000312843579196\n",
      "BILL_AMT1_Sept has weight of -1.63712284898e-05\n",
      "PAY_AMT1_Sept has weight of -1.9640661889e-05\n",
      "PAY_AMT2_Aug has weight of -1.30706062819e-05\n"
     ]
    },
    {
     "data": {
      "image/png": "[encoded data removed]",
      "text/plain": [
       "<matplotlib.figure.Figure at 0xcb84320>"
      ]
     },
     "metadata": {},
     "output_type": "display_data"
    }
   ],
   "source": [
    "analysis(svc_coef_scaled_r, svc_acc_scaled_r, cc_data_Xs_names_sr)"
   ]
  },
  {
   "cell_type": "markdown",
   "metadata": {},
   "source": [
    "# Comparison of Logistic Regression and SGD/SVC\n",
    "\n",
    "Logistic regression has an advantage of accuracy and easier interpretation, but the performance is slower than SGD. The cross validation for Logistict regression took about 5 seconds, whereas, SGD took less than 2 seconds. The SGD classifier performance was about the same in terms of the average accuracy. On the other hand, the SVC classifier took so long, it was never completed and stopped after 2 hours. The SVC model on the reduce feature set as determined by the SGD classifier, took 51 seconds to complete the cross validation and showed it predicted only the 'no default' class. Perhaps further feature engineering could give SVC better performance."
   ]
  }
 ],
 "metadata": {
  "kernelspec": {
   "display_name": "Python 3",
   "language": "python",
   "name": "python3"
  },
  "language_info": {
   "codemirror_mode": {
    "name": "ipython",
    "version": 3
   },
   "file_extension": ".py",
   "mimetype": "text/x-python",
   "name": "python",
   "nbconvert_exporter": "python",
   "pygments_lexer": "ipython3",
   "version": "3.5.1"
  }
 },
 "nbformat": 4,
 "nbformat_minor": 0
}
